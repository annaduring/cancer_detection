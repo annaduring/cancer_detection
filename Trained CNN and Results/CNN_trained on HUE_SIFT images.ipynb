{
 "cells": [
  {
   "cell_type": "code",
   "execution_count": 1,
   "metadata": {},
   "outputs": [
    {
     "name": "stderr",
     "output_type": "stream",
     "text": [
      "Using TensorFlow backend.\n"
     ]
    }
   ],
   "source": [
    "import glob\n",
    "import cv2 as cv\n",
    "import numpy as np\n",
    "import pandas as pd\n",
    "import matplotlib.pyplot as plt\n",
    "%matplotlib inline\n",
    "from skimage.io import imread, imshow\n",
    "\n",
    "from keras.models import Sequential\n",
    "from keras.layers import Conv2D, MaxPooling2D , Input\n",
    "from keras.layers import Activation, Dropout, Flatten, Dense\n",
    "from keras.optimizers import SGD, Adam\n",
    "from keras.models import Sequential\n",
    "from keras.layers import BatchNormalization, Dropout\n",
    "from keras.optimizers import Adam\n",
    "from sklearn.model_selection import train_test_split\n",
    "from keras.utils import to_categorical\n",
    "from sklearn.utils import class_weight\n",
    "from sklearn import metrics\n",
    "from keras import regularizers\n",
    "from keras.callbacks import ModelCheckpoint"
   ]
  },
  {
   "cell_type": "code",
   "execution_count": 2,
   "metadata": {},
   "outputs": [],
   "source": [
    "data = np.load('../input/cnn-data-new/Train_HUE_SIFT_v2.npz')"
   ]
  },
  {
   "cell_type": "code",
   "execution_count": 3,
   "metadata": {},
   "outputs": [],
   "source": [
    "test_data = np.load('../input/cnn-data-new/Test_HUE_SIFT_v2.npz')"
   ]
  },
  {
   "cell_type": "code",
   "execution_count": 4,
   "metadata": {},
   "outputs": [],
   "source": [
    "X_test = test_data['features']\n",
    "Y_test = test_data['labels']"
   ]
  },
  {
   "cell_type": "code",
   "execution_count": 5,
   "metadata": {},
   "outputs": [
    {
     "data": {
      "text/plain": [
       "['features', 'labels']"
      ]
     },
     "execution_count": 5,
     "metadata": {},
     "output_type": "execute_result"
    }
   ],
   "source": [
    "data.files"
   ]
  },
  {
   "cell_type": "code",
   "execution_count": 6,
   "metadata": {},
   "outputs": [],
   "source": [
    "features = data['features']\n",
    "labels = data['labels']"
   ]
  },
  {
   "cell_type": "code",
   "execution_count": 7,
   "metadata": {},
   "outputs": [],
   "source": [
    "img = np.reshape(features[9],(150,150,3))"
   ]
  },
  {
   "cell_type": "code",
   "execution_count": 8,
   "metadata": {},
   "outputs": [
    {
     "data": {
      "text/plain": [
       "(-0.5, 149.5, 149.5, -0.5)"
      ]
     },
     "execution_count": 8,
     "metadata": {},
     "output_type": "execute_result"
    },
    {
     "data": {
      "image/png": "[encoded data removed]",
      "text/plain": [
       "<Figure size 432x288 with 1 Axes>"
      ]
     },
     "metadata": {
      "needs_background": "light"
     },
     "output_type": "display_data"
    }
   ],
   "source": [
    "plt.imshow(img)\n",
    "plt.title('HUE_SIFT Image')\n",
    "plt.axis('off')"
   ]
  },
  {
   "cell_type": "code",
   "execution_count": 9,
   "metadata": {},
   "outputs": [],
   "source": [
    "#X_train, X_val, Y_train, Y_val = train_test_split(features, labels, test_size=0.20, random_state=42)"
   ]
  },
  {
   "cell_type": "code",
   "execution_count": 10,
   "metadata": {},
   "outputs": [
    {
     "name": "stdout",
     "output_type": "stream",
     "text": [
      "[1.03639344 0.96607579]\n"
     ]
    }
   ],
   "source": [
    "class_weights = class_weight.compute_class_weight('balanced',np.unique(labels),labels)\n",
    "\n",
    "print(class_weights)"
   ]
  },
  {
   "cell_type": "code",
   "execution_count": 11,
   "metadata": {},
   "outputs": [],
   "source": [
    "def build_cnn():\n",
    "    \n",
    "    model = Sequential()\n",
    "    model.add(Conv2D(32, (3, 3), input_shape=(150,150,3) , activation='relu'))\n",
    "    model.add(MaxPooling2D(pool_size=(2, 2)))\n",
    "    \n",
    "    model.add(Conv2D(64, (3, 3), activation='relu'))\n",
    "    model.add(BatchNormalization(axis = -1))\n",
    "    model.add(MaxPooling2D(pool_size=(2,2)))\n",
    "    model.add(Dropout(0.3))\n",
    "    \n",
    "    model.add(Conv2D(128, (3, 3), activation='relu'))\n",
    "    model.add(BatchNormalization(axis = -1))\n",
    "    model.add(MaxPooling2D(pool_size=(2,2)))\n",
    "    model.add(Dropout(0.3))\n",
    "    \n",
    "    model.add(Conv2D(256, (3, 3), activation='relu'))\n",
    "    model.add(BatchNormalization(axis = -1))\n",
    "    model.add(MaxPooling2D(pool_size=(2,2)))\n",
    "    model.add(Dropout(0.3))\n",
    "    \n",
    "    model.add(Conv2D(512, (3, 3), activation='relu'))\n",
    "    model.add(BatchNormalization(axis = -1))\n",
    "    model.add(MaxPooling2D(pool_size=(2,2)))\n",
    "    model.add(Dropout(0.3))\n",
    "\n",
    "    model.add(Flatten())\n",
    "    model.add(Dense(256 ,  activation='relu'))\n",
    "    model.add(BatchNormalization(axis = -1))\n",
    "    model.add(Dropout(0.2))\n",
    "    model.add(Dense(2 , activation ='softmax'))\n",
    "\n",
    "    return model"
   ]
  },
  {
   "cell_type": "code",
   "execution_count": 15,
   "metadata": {},
   "outputs": [],
   "source": [
    "model = build_cnn()\n",
    "model.compile(optimizer='adam', loss='sparse_categorical_crossentropy', metrics=['accuracy']) "
   ]
  },
  {
   "cell_type": "code",
   "execution_count": 16,
   "metadata": {},
   "outputs": [
    {
     "name": "stdout",
     "output_type": "stream",
     "text": [
      "Model: \"sequential_2\"\n",
      "_________________________________________________________________\n",
      "Layer (type)                 Output Shape              Param #   \n",
      "=================================================================\n",
      "conv2d_6 (Conv2D)            (None, 148, 148, 32)      896       \n",
      "_________________________________________________________________\n",
      "max_pooling2d_6 (MaxPooling2 (None, 74, 74, 32)        0         \n",
      "_________________________________________________________________\n",
      "conv2d_7 (Conv2D)            (None, 72, 72, 64)        18496     \n",
      "_________________________________________________________________\n",
      "batch_normalization_6 (Batch (None, 72, 72, 64)        256       \n",
      "_________________________________________________________________\n",
      "max_pooling2d_7 (MaxPooling2 (None, 36, 36, 64)        0         \n",
      "_________________________________________________________________\n",
      "dropout_6 (Dropout)          (None, 36, 36, 64)        0         \n",
      "_________________________________________________________________\n",
      "conv2d_8 (Conv2D)            (None, 34, 34, 128)       73856     \n",
      "_________________________________________________________________\n",
      "batch_normalization_7 (Batch (None, 34, 34, 128)       512       \n",
      "_________________________________________________________________\n",
      "max_pooling2d_8 (MaxPooling2 (None, 17, 17, 128)       0         \n",
      "_________________________________________________________________\n",
      "dropout_7 (Dropout)          (None, 17, 17, 128)       0         \n",
      "_________________________________________________________________\n",
      "conv2d_9 (Conv2D)            (None, 15, 15, 256)       295168    \n",
      "_________________________________________________________________\n",
      "batch_normalization_8 (Batch (None, 15, 15, 256)       1024      \n",
      "_________________________________________________________________\n",
      "max_pooling2d_9 (MaxPooling2 (None, 7, 7, 256)         0         \n",
      "_________________________________________________________________\n",
      "dropout_8 (Dropout)          (None, 7, 7, 256)         0         \n",
      "_________________________________________________________________\n",
      "conv2d_10 (Conv2D)           (None, 5, 5, 512)         1180160   \n",
      "_________________________________________________________________\n",
      "batch_normalization_9 (Batch (None, 5, 5, 512)         2048      \n",
      "_________________________________________________________________\n",
      "max_pooling2d_10 (MaxPooling (None, 2, 2, 512)         0         \n",
      "_________________________________________________________________\n",
      "dropout_9 (Dropout)          (None, 2, 2, 512)         0         \n",
      "_________________________________________________________________\n",
      "flatten_2 (Flatten)          (None, 2048)              0         \n",
      "_________________________________________________________________\n",
      "dense_3 (Dense)              (None, 256)               524544    \n",
      "_________________________________________________________________\n",
      "batch_normalization_10 (Batc (None, 256)               1024      \n",
      "_________________________________________________________________\n",
      "dropout_10 (Dropout)         (None, 256)               0         \n",
      "_________________________________________________________________\n",
      "dense_4 (Dense)              (None, 2)                 514       \n",
      "=================================================================\n",
      "Total params: 2,098,498\n",
      "Trainable params: 2,096,066\n",
      "Non-trainable params: 2,432\n",
      "_________________________________________________________________\n"
     ]
    }
   ],
   "source": [
    "model.summary()"
   ]
  },
  {
   "cell_type": "code",
   "execution_count": 17,
   "metadata": {},
   "outputs": [
    {
     "name": "stdout",
     "output_type": "stream",
     "text": [
      "\n",
      "\n",
      "Start Training Fold_1--------------------------------------\n",
      "Train on 10837 samples, validate on 1807 samples\n",
      "Epoch 1/20\n",
      "10837/10837 [==============================] - 15s 1ms/step - loss: 0.6154 - accuracy: 0.7254 - val_loss: 0.5664 - val_accuracy: 0.7554\n",
      "Epoch 2/20\n",
      "10837/10837 [==============================] - 13s 1ms/step - loss: 0.5101 - accuracy: 0.7628 - val_loss: 0.7461 - val_accuracy: 0.6348\n",
      "Epoch 3/20\n",
      "10837/10837 [==============================] - 13s 1ms/step - loss: 0.4604 - accuracy: 0.7944 - val_loss: 0.5915 - val_accuracy: 0.7521\n",
      "Epoch 4/20\n",
      "10837/10837 [==============================] - 13s 1ms/step - loss: 0.4213 - accuracy: 0.8154 - val_loss: 0.4020 - val_accuracy: 0.8323\n",
      "Epoch 5/20\n",
      "10837/10837 [==============================] - 13s 1ms/step - loss: 0.4080 - accuracy: 0.8192 - val_loss: 1.1377 - val_accuracy: 0.5279\n",
      "Epoch 6/20\n",
      "10837/10837 [==============================] - 13s 1ms/step - loss: 0.3845 - accuracy: 0.8315 - val_loss: 0.4151 - val_accuracy: 0.8268\n",
      "Epoch 7/20\n",
      "10837/10837 [==============================] - 13s 1ms/step - loss: 0.3623 - accuracy: 0.8382 - val_loss: 1.4310 - val_accuracy: 0.5180\n",
      "Epoch 8/20\n",
      "10837/10837 [==============================] - 13s 1ms/step - loss: 0.3505 - accuracy: 0.8493 - val_loss: 0.5966 - val_accuracy: 0.7593\n",
      "Epoch 9/20\n",
      "10837/10837 [==============================] - 12s 1ms/step - loss: 0.3431 - accuracy: 0.8534 - val_loss: 2.1767 - val_accuracy: 0.5318\n",
      "Epoch 10/20\n",
      "10837/10837 [==============================] - 13s 1ms/step - loss: 0.3263 - accuracy: 0.8626 - val_loss: 1.0650 - val_accuracy: 0.5506\n",
      "Epoch 11/20\n",
      "10837/10837 [==============================] - 13s 1ms/step - loss: 0.3150 - accuracy: 0.8697 - val_loss: 0.7923 - val_accuracy: 0.6735\n",
      "Epoch 12/20\n",
      "10837/10837 [==============================] - 13s 1ms/step - loss: 0.3085 - accuracy: 0.8686 - val_loss: 0.5376 - val_accuracy: 0.7443\n",
      "Epoch 13/20\n",
      "10837/10837 [==============================] - 12s 1ms/step - loss: 0.3056 - accuracy: 0.8713 - val_loss: 0.6702 - val_accuracy: 0.6752\n",
      "Epoch 14/20\n",
      "10837/10837 [==============================] - 12s 1ms/step - loss: 0.2862 - accuracy: 0.8834 - val_loss: 0.7720 - val_accuracy: 0.7288\n",
      "Epoch 15/20\n",
      "10837/10837 [==============================] - 13s 1ms/step - loss: 0.2836 - accuracy: 0.8816 - val_loss: 0.8122 - val_accuracy: 0.6403\n",
      "Epoch 16/20\n",
      "10837/10837 [==============================] - 13s 1ms/step - loss: 0.2776 - accuracy: 0.8808 - val_loss: 0.2733 - val_accuracy: 0.8871\n",
      "Epoch 17/20\n",
      "10837/10837 [==============================] - 12s 1ms/step - loss: 0.2682 - accuracy: 0.8903 - val_loss: 0.3654 - val_accuracy: 0.8373\n",
      "Epoch 18/20\n",
      "10837/10837 [==============================] - 13s 1ms/step - loss: 0.2487 - accuracy: 0.8968 - val_loss: 0.2944 - val_accuracy: 0.8744\n",
      "Epoch 19/20\n",
      "10837/10837 [==============================] - 12s 1ms/step - loss: 0.2426 - accuracy: 0.9032 - val_loss: 0.3410 - val_accuracy: 0.8677\n",
      "Epoch 20/20\n",
      "10837/10837 [==============================] - 13s 1ms/step - loss: 0.2473 - accuracy: 0.8975 - val_loss: 0.8270 - val_accuracy: 0.7089\n",
      "\n",
      "\n",
      "1807/1807 [==============================] - 1s 395us/step\n",
      "\n",
      "-------------Model Evaluation Results Fold_1-----------\n",
      "accuracy: 70.89%\n",
      "\n",
      "------------------------------------------------------------------------------------------------------------\n",
      "\n",
      "\n",
      "Start Training Fold_2--------------------------------------\n",
      "Train on 10837 samples, validate on 1807 samples\n",
      "Epoch 1/20\n",
      "10837/10837 [==============================] - 12s 1ms/step - loss: 0.2348 - accuracy: 0.9059 - val_loss: 0.1983 - val_accuracy: 0.9264\n",
      "Epoch 2/20\n",
      "10837/10837 [==============================] - 12s 1ms/step - loss: 0.2321 - accuracy: 0.9076 - val_loss: 0.3026 - val_accuracy: 0.8760\n",
      "Epoch 3/20\n",
      "10837/10837 [==============================] - 12s 1ms/step - loss: 0.2162 - accuracy: 0.9148 - val_loss: 0.3998 - val_accuracy: 0.8129\n",
      "Epoch 4/20\n",
      "10837/10837 [==============================] - 12s 1ms/step - loss: 0.1979 - accuracy: 0.9209 - val_loss: 0.5064 - val_accuracy: 0.7626\n",
      "Epoch 5/20\n",
      "10837/10837 [==============================] - 12s 1ms/step - loss: 0.1992 - accuracy: 0.9206 - val_loss: 0.2311 - val_accuracy: 0.9037\n",
      "Epoch 6/20\n",
      "10837/10837 [==============================] - 12s 1ms/step - loss: 0.2047 - accuracy: 0.9174 - val_loss: 0.3221 - val_accuracy: 0.8694\n",
      "Epoch 7/20\n",
      "10837/10837 [==============================] - 12s 1ms/step - loss: 0.1875 - accuracy: 0.9248 - val_loss: 0.4723 - val_accuracy: 0.8268\n",
      "Epoch 8/20\n",
      "10837/10837 [==============================] - 12s 1ms/step - loss: 0.1745 - accuracy: 0.9293 - val_loss: 0.4581 - val_accuracy: 0.8345\n",
      "Epoch 9/20\n",
      "10837/10837 [==============================] - 12s 1ms/step - loss: 0.1588 - accuracy: 0.9380 - val_loss: 0.2449 - val_accuracy: 0.9032\n",
      "Epoch 10/20\n",
      "10837/10837 [==============================] - 12s 1ms/step - loss: 0.1594 - accuracy: 0.9390 - val_loss: 0.9401 - val_accuracy: 0.7261\n",
      "Epoch 11/20\n",
      "10837/10837 [==============================] - 12s 1ms/step - loss: 0.1566 - accuracy: 0.9383 - val_loss: 0.4179 - val_accuracy: 0.8533\n",
      "Epoch 12/20\n",
      "10837/10837 [==============================] - 12s 1ms/step - loss: 0.1450 - accuracy: 0.9421 - val_loss: 0.3412 - val_accuracy: 0.8622\n",
      "Epoch 13/20\n",
      "10837/10837 [==============================] - 12s 1ms/step - loss: 0.1491 - accuracy: 0.9422 - val_loss: 0.4923 - val_accuracy: 0.8417\n",
      "Epoch 14/20\n",
      "10837/10837 [==============================] - 12s 1ms/step - loss: 0.1328 - accuracy: 0.9494 - val_loss: 0.2928 - val_accuracy: 0.8788\n",
      "Epoch 15/20\n",
      "10837/10837 [==============================] - 12s 1ms/step - loss: 0.1201 - accuracy: 0.9534 - val_loss: 0.3504 - val_accuracy: 0.8655\n",
      "Epoch 16/20\n",
      "10837/10837 [==============================] - 12s 1ms/step - loss: 0.1191 - accuracy: 0.9536 - val_loss: 0.3051 - val_accuracy: 0.8838\n",
      "Epoch 17/20\n",
      "10837/10837 [==============================] - 12s 1ms/step - loss: 0.1227 - accuracy: 0.9532 - val_loss: 0.3217 - val_accuracy: 0.8821\n",
      "Epoch 18/20\n",
      "10837/10837 [==============================] - 12s 1ms/step - loss: 0.1147 - accuracy: 0.9571 - val_loss: 0.7227 - val_accuracy: 0.7742\n",
      "Epoch 19/20\n",
      "10837/10837 [==============================] - 12s 1ms/step - loss: 0.1027 - accuracy: 0.9626 - val_loss: 0.3475 - val_accuracy: 0.8683\n",
      "Epoch 20/20\n",
      "10837/10837 [==============================] - 12s 1ms/step - loss: 0.1046 - accuracy: 0.9614 - val_loss: 0.2678 - val_accuracy: 0.9020\n",
      "\n",
      "\n",
      "1807/1807 [==============================] - 1s 379us/step\n",
      "\n",
      "-------------Model Evaluation Results Fold_2-----------\n",
      "accuracy: 90.20%\n",
      "\n",
      "------------------------------------------------------------------------------------------------------------\n",
      "\n",
      "\n",
      "Start Training Fold_3--------------------------------------\n",
      "Train on 10838 samples, validate on 1806 samples\n",
      "Epoch 1/20\n",
      "10838/10838 [==============================] - 12s 1ms/step - loss: 0.1364 - accuracy: 0.9521 - val_loss: 0.0487 - val_accuracy: 0.9873\n",
      "Epoch 2/20\n",
      "10838/10838 [==============================] - 12s 1ms/step - loss: 0.1218 - accuracy: 0.9531 - val_loss: 0.2816 - val_accuracy: 0.8848\n",
      "Epoch 3/20\n",
      "10838/10838 [==============================] - 12s 1ms/step - loss: 0.1172 - accuracy: 0.9586 - val_loss: 0.0976 - val_accuracy: 0.9596\n",
      "Epoch 4/20\n",
      "10838/10838 [==============================] - 12s 1ms/step - loss: 0.1166 - accuracy: 0.9557 - val_loss: 0.1063 - val_accuracy: 0.9596\n",
      "Epoch 5/20\n",
      "10838/10838 [==============================] - 12s 1ms/step - loss: 0.1062 - accuracy: 0.9576 - val_loss: 0.2109 - val_accuracy: 0.9181\n",
      "Epoch 6/20\n",
      "10838/10838 [==============================] - 12s 1ms/step - loss: 0.1005 - accuracy: 0.9612 - val_loss: 0.1310 - val_accuracy: 0.9502\n",
      "Epoch 7/20\n",
      "10838/10838 [==============================] - 12s 1ms/step - loss: 0.1200 - accuracy: 0.9537 - val_loss: 0.1273 - val_accuracy: 0.9524\n",
      "Epoch 8/20\n",
      "10838/10838 [==============================] - 12s 1ms/step - loss: 0.0896 - accuracy: 0.9667 - val_loss: 0.1017 - val_accuracy: 0.9651\n",
      "Epoch 9/20\n",
      "10838/10838 [==============================] - 12s 1ms/step - loss: 0.0939 - accuracy: 0.9657 - val_loss: 0.0801 - val_accuracy: 0.9712\n",
      "Epoch 10/20\n",
      "10838/10838 [==============================] - 12s 1ms/step - loss: 0.0872 - accuracy: 0.9680 - val_loss: 0.2043 - val_accuracy: 0.9214\n"
     ]
    },
    {
     "name": "stdout",
     "output_type": "stream",
     "text": [
      "Epoch 11/20\n",
      "10838/10838 [==============================] - 12s 1ms/step - loss: 0.0872 - accuracy: 0.9670 - val_loss: 0.2926 - val_accuracy: 0.8787\n",
      "Epoch 12/20\n",
      "10838/10838 [==============================] - 12s 1ms/step - loss: 0.0864 - accuracy: 0.9684 - val_loss: 0.1020 - val_accuracy: 0.9563\n",
      "Epoch 13/20\n",
      "10838/10838 [==============================] - 12s 1ms/step - loss: 0.0837 - accuracy: 0.9678 - val_loss: 0.1554 - val_accuracy: 0.9385\n",
      "Epoch 14/20\n",
      "10838/10838 [==============================] - 12s 1ms/step - loss: 0.0806 - accuracy: 0.9696 - val_loss: 0.1123 - val_accuracy: 0.9590\n",
      "Epoch 15/20\n",
      "10838/10838 [==============================] - 12s 1ms/step - loss: 0.0852 - accuracy: 0.9693 - val_loss: 0.1019 - val_accuracy: 0.9635\n",
      "Epoch 16/20\n",
      "10838/10838 [==============================] - 12s 1ms/step - loss: 0.0680 - accuracy: 0.9752 - val_loss: 0.1218 - val_accuracy: 0.9612\n",
      "Epoch 17/20\n",
      "10838/10838 [==============================] - 12s 1ms/step - loss: 0.0673 - accuracy: 0.9754 - val_loss: 0.2296 - val_accuracy: 0.9291\n",
      "Epoch 18/20\n",
      "10838/10838 [==============================] - 12s 1ms/step - loss: 0.0677 - accuracy: 0.9763 - val_loss: 0.2017 - val_accuracy: 0.9275\n",
      "Epoch 19/20\n",
      "10838/10838 [==============================] - 12s 1ms/step - loss: 0.0713 - accuracy: 0.9748 - val_loss: 0.1208 - val_accuracy: 0.9607\n",
      "Epoch 20/20\n",
      "10838/10838 [==============================] - 12s 1ms/step - loss: 0.0688 - accuracy: 0.9744 - val_loss: 0.1370 - val_accuracy: 0.9474\n",
      "\n",
      "\n",
      "1806/1806 [==============================] - 1s 361us/step\n",
      "\n",
      "-------------Model Evaluation Results Fold_3-----------\n",
      "accuracy: 94.74%\n",
      "\n",
      "------------------------------------------------------------------------------------------------------------\n",
      "\n",
      "\n",
      "Start Training Fold_4--------------------------------------\n",
      "Train on 10838 samples, validate on 1806 samples\n",
      "Epoch 1/20\n",
      "10838/10838 [==============================] - 12s 1ms/step - loss: 0.0914 - accuracy: 0.9670 - val_loss: 0.0311 - val_accuracy: 0.9884\n",
      "Epoch 2/20\n",
      "10838/10838 [==============================] - 12s 1ms/step - loss: 0.0876 - accuracy: 0.9680 - val_loss: 0.0247 - val_accuracy: 0.9945\n",
      "Epoch 3/20\n",
      "10838/10838 [==============================] - 12s 1ms/step - loss: 0.0669 - accuracy: 0.9757 - val_loss: 0.0289 - val_accuracy: 0.9895\n",
      "Epoch 4/20\n",
      "10838/10838 [==============================] - 12s 1ms/step - loss: 0.0774 - accuracy: 0.9719 - val_loss: 0.1371 - val_accuracy: 0.9457\n",
      "Epoch 5/20\n",
      "10838/10838 [==============================] - 12s 1ms/step - loss: 0.0732 - accuracy: 0.9738 - val_loss: 0.0293 - val_accuracy: 0.9895\n",
      "Epoch 6/20\n",
      "10838/10838 [==============================] - 12s 1ms/step - loss: 0.0611 - accuracy: 0.9769 - val_loss: 0.0845 - val_accuracy: 0.9673\n",
      "Epoch 7/20\n",
      "10838/10838 [==============================] - 12s 1ms/step - loss: 0.0631 - accuracy: 0.9770 - val_loss: 0.7677 - val_accuracy: 0.7924\n",
      "Epoch 8/20\n",
      "10838/10838 [==============================] - 12s 1ms/step - loss: 0.0641 - accuracy: 0.9765 - val_loss: 0.0395 - val_accuracy: 0.9884\n",
      "Epoch 9/20\n",
      "10838/10838 [==============================] - 12s 1ms/step - loss: 0.0695 - accuracy: 0.9743 - val_loss: 0.0493 - val_accuracy: 0.9823\n",
      "Epoch 10/20\n",
      "10838/10838 [==============================] - 12s 1ms/step - loss: 0.0524 - accuracy: 0.9811 - val_loss: 0.0684 - val_accuracy: 0.9723\n",
      "Epoch 11/20\n",
      "10838/10838 [==============================] - 12s 1ms/step - loss: 0.0608 - accuracy: 0.9794 - val_loss: 0.0812 - val_accuracy: 0.9673\n",
      "Epoch 12/20\n",
      "10838/10838 [==============================] - 12s 1ms/step - loss: 0.0549 - accuracy: 0.9803 - val_loss: 0.6808 - val_accuracy: 0.8228\n",
      "Epoch 13/20\n",
      "10838/10838 [==============================] - 12s 1ms/step - loss: 0.0610 - accuracy: 0.9782 - val_loss: 0.0517 - val_accuracy: 0.9801\n",
      "Epoch 14/20\n",
      "10838/10838 [==============================] - 12s 1ms/step - loss: 0.0566 - accuracy: 0.9796 - val_loss: 0.2899 - val_accuracy: 0.9048\n",
      "Epoch 15/20\n",
      "10838/10838 [==============================] - 13s 1ms/step - loss: 0.0502 - accuracy: 0.9811 - val_loss: 0.0496 - val_accuracy: 0.9784\n",
      "Epoch 16/20\n",
      "10838/10838 [==============================] - 12s 1ms/step - loss: 0.0505 - accuracy: 0.9818 - val_loss: 0.0971 - val_accuracy: 0.9629\n",
      "Epoch 17/20\n",
      "10838/10838 [==============================] - 12s 1ms/step - loss: 0.0589 - accuracy: 0.9790 - val_loss: 0.0368 - val_accuracy: 0.9828\n",
      "Epoch 18/20\n",
      "10838/10838 [==============================] - 12s 1ms/step - loss: 0.0533 - accuracy: 0.9795 - val_loss: 0.1065 - val_accuracy: 0.9563\n",
      "Epoch 19/20\n",
      "10838/10838 [==============================] - 12s 1ms/step - loss: 0.0512 - accuracy: 0.9808 - val_loss: 0.4741 - val_accuracy: 0.8499\n",
      "Epoch 20/20\n",
      "10838/10838 [==============================] - 12s 1ms/step - loss: 0.0559 - accuracy: 0.9803 - val_loss: 0.1353 - val_accuracy: 0.9480\n",
      "\n",
      "\n",
      "1806/1806 [==============================] - 1s 381us/step\n",
      "\n",
      "-------------Model Evaluation Results Fold_4-----------\n",
      "accuracy: 94.80%\n",
      "\n",
      "------------------------------------------------------------------------------------------------------------\n",
      "\n",
      "\n",
      "Start Training Fold_5--------------------------------------\n",
      "Train on 10838 samples, validate on 1806 samples\n",
      "Epoch 1/20\n",
      "10838/10838 [==============================] - 12s 1ms/step - loss: 0.0605 - accuracy: 0.9784 - val_loss: 0.0421 - val_accuracy: 0.9911\n",
      "Epoch 2/20\n",
      "10838/10838 [==============================] - 12s 1ms/step - loss: 0.0649 - accuracy: 0.9760 - val_loss: 0.2175 - val_accuracy: 0.9297\n",
      "Epoch 3/20\n",
      "10838/10838 [==============================] - 12s 1ms/step - loss: 0.0472 - accuracy: 0.9834 - val_loss: 0.0412 - val_accuracy: 0.9834\n",
      "Epoch 4/20\n",
      "10838/10838 [==============================] - 12s 1ms/step - loss: 0.0489 - accuracy: 0.9804 - val_loss: 0.2039 - val_accuracy: 0.9225\n",
      "Epoch 5/20\n",
      "10838/10838 [==============================] - 12s 1ms/step - loss: 0.0551 - accuracy: 0.9801 - val_loss: 0.0104 - val_accuracy: 0.9978\n",
      "Epoch 6/20\n",
      "10838/10838 [==============================] - 12s 1ms/step - loss: 0.0535 - accuracy: 0.9818 - val_loss: 0.0197 - val_accuracy: 0.9928\n",
      "Epoch 7/20\n",
      "10838/10838 [==============================] - 12s 1ms/step - loss: 0.0492 - accuracy: 0.9828 - val_loss: 0.0829 - val_accuracy: 0.9673\n",
      "Epoch 8/20\n",
      "10838/10838 [==============================] - 12s 1ms/step - loss: 0.0486 - accuracy: 0.9826 - val_loss: 0.0142 - val_accuracy: 0.9972\n",
      "Epoch 9/20\n",
      "10838/10838 [==============================] - 12s 1ms/step - loss: 0.0407 - accuracy: 0.9856 - val_loss: 0.0221 - val_accuracy: 0.9928\n",
      "Epoch 10/20\n",
      "10838/10838 [==============================] - 12s 1ms/step - loss: 0.0407 - accuracy: 0.9851 - val_loss: 0.0394 - val_accuracy: 0.9867\n",
      "Epoch 11/20\n",
      "10838/10838 [==============================] - 12s 1ms/step - loss: 0.0409 - accuracy: 0.9858 - val_loss: 0.0228 - val_accuracy: 0.9922\n",
      "Epoch 12/20\n",
      "10838/10838 [==============================] - 12s 1ms/step - loss: 0.0458 - accuracy: 0.9832 - val_loss: 0.6171 - val_accuracy: 0.8156\n",
      "Epoch 13/20\n",
      "10838/10838 [==============================] - 12s 1ms/step - loss: 0.0452 - accuracy: 0.9842 - val_loss: 0.0984 - val_accuracy: 0.9668\n",
      "Epoch 14/20\n",
      "10838/10838 [==============================] - 12s 1ms/step - loss: 0.0465 - accuracy: 0.9824 - val_loss: 0.0573 - val_accuracy: 0.9790\n",
      "Epoch 15/20\n",
      "10838/10838 [==============================] - 12s 1ms/step - loss: 0.0424 - accuracy: 0.9841 - val_loss: 0.0290 - val_accuracy: 0.9884\n",
      "Epoch 16/20\n",
      "10838/10838 [==============================] - 12s 1ms/step - loss: 0.0455 - accuracy: 0.9841 - val_loss: 0.0465 - val_accuracy: 0.9862\n",
      "Epoch 17/20\n",
      "10838/10838 [==============================] - 12s 1ms/step - loss: 0.0344 - accuracy: 0.9879 - val_loss: 0.0473 - val_accuracy: 0.9834\n",
      "Epoch 18/20\n",
      "10838/10838 [==============================] - 12s 1ms/step - loss: 0.0405 - accuracy: 0.9850 - val_loss: 0.1530 - val_accuracy: 0.9468\n",
      "Epoch 19/20\n",
      "10838/10838 [==============================] - 12s 1ms/step - loss: 0.0375 - accuracy: 0.9859 - val_loss: 0.0496 - val_accuracy: 0.9812\n",
      "Epoch 20/20\n",
      "10838/10838 [==============================] - 12s 1ms/step - loss: 0.0425 - accuracy: 0.9838 - val_loss: 0.0578 - val_accuracy: 0.9779\n",
      "\n",
      "\n",
      "1806/1806 [==============================] - 1s 367us/step\n",
      "\n",
      "-------------Model Evaluation Results Fold_5-----------\n",
      "accuracy: 97.79%\n",
      "\n",
      "------------------------------------------------------------------------------------------------------------\n"
     ]
    },
    {
     "name": "stdout",
     "output_type": "stream",
     "text": [
      "\n",
      "\n",
      "Start Training Fold_6--------------------------------------\n",
      "Train on 10838 samples, validate on 1806 samples\n",
      "Epoch 1/20\n",
      "10838/10838 [==============================] - 12s 1ms/step - loss: 0.0453 - accuracy: 0.9849 - val_loss: 0.0564 - val_accuracy: 0.9812\n",
      "Epoch 2/20\n",
      "10838/10838 [==============================] - 12s 1ms/step - loss: 0.0495 - accuracy: 0.9838 - val_loss: 0.0097 - val_accuracy: 0.9978\n",
      "Epoch 3/20\n",
      "10838/10838 [==============================] - 12s 1ms/step - loss: 0.0346 - accuracy: 0.9877 - val_loss: 0.0762 - val_accuracy: 0.9690\n",
      "Epoch 4/20\n",
      "10838/10838 [==============================] - 12s 1ms/step - loss: 0.0438 - accuracy: 0.9833 - val_loss: 0.0844 - val_accuracy: 0.9701\n",
      "Epoch 5/20\n",
      "10838/10838 [==============================] - 12s 1ms/step - loss: 0.0399 - accuracy: 0.9855 - val_loss: 0.1092 - val_accuracy: 0.9546\n",
      "Epoch 6/20\n",
      "10838/10838 [==============================] - 12s 1ms/step - loss: 0.0344 - accuracy: 0.9887 - val_loss: 0.0251 - val_accuracy: 0.9911\n",
      "Epoch 7/20\n",
      "10838/10838 [==============================] - 12s 1ms/step - loss: 0.0416 - accuracy: 0.9849 - val_loss: 0.0086 - val_accuracy: 0.9978\n",
      "Epoch 8/20\n",
      "10838/10838 [==============================] - 12s 1ms/step - loss: 0.0434 - accuracy: 0.9850 - val_loss: 0.0605 - val_accuracy: 0.9751\n",
      "Epoch 9/20\n",
      "10838/10838 [==============================] - 12s 1ms/step - loss: 0.0424 - accuracy: 0.9863 - val_loss: 0.0284 - val_accuracy: 0.9889\n",
      "Epoch 10/20\n",
      "10838/10838 [==============================] - 12s 1ms/step - loss: 0.0301 - accuracy: 0.9895 - val_loss: 0.2519 - val_accuracy: 0.9158\n",
      "Epoch 11/20\n",
      "10838/10838 [==============================] - 12s 1ms/step - loss: 0.0296 - accuracy: 0.9891 - val_loss: 0.1825 - val_accuracy: 0.9369\n",
      "Epoch 12/20\n",
      "10838/10838 [==============================] - 12s 1ms/step - loss: 0.0308 - accuracy: 0.9880 - val_loss: 0.0082 - val_accuracy: 0.9967\n",
      "Epoch 13/20\n",
      "10838/10838 [==============================] - 12s 1ms/step - loss: 0.0344 - accuracy: 0.9887 - val_loss: 0.0443 - val_accuracy: 0.9839\n",
      "Epoch 14/20\n",
      "10838/10838 [==============================] - 12s 1ms/step - loss: 0.0344 - accuracy: 0.9886 - val_loss: 0.0535 - val_accuracy: 0.9806\n",
      "Epoch 15/20\n",
      "10838/10838 [==============================] - 12s 1ms/step - loss: 0.0411 - accuracy: 0.9848 - val_loss: 0.0327 - val_accuracy: 0.9839\n",
      "Epoch 16/20\n",
      "10838/10838 [==============================] - 12s 1ms/step - loss: 0.0314 - accuracy: 0.9889 - val_loss: 0.0093 - val_accuracy: 0.9972\n",
      "Epoch 17/20\n",
      "10838/10838 [==============================] - 12s 1ms/step - loss: 0.0329 - accuracy: 0.9883 - val_loss: 0.0166 - val_accuracy: 0.9928\n",
      "Epoch 18/20\n",
      "10838/10838 [==============================] - 12s 1ms/step - loss: 0.0272 - accuracy: 0.9911 - val_loss: 0.9396 - val_accuracy: 0.7818\n",
      "Epoch 19/20\n",
      "10838/10838 [==============================] - 12s 1ms/step - loss: 0.0390 - accuracy: 0.9869 - val_loss: 0.0166 - val_accuracy: 0.9950\n",
      "Epoch 20/20\n",
      "10838/10838 [==============================] - 12s 1ms/step - loss: 0.0345 - accuracy: 0.9884 - val_loss: 0.0530 - val_accuracy: 0.9784\n",
      "\n",
      "\n",
      "1806/1806 [==============================] - 1s 374us/step\n",
      "\n",
      "-------------Model Evaluation Results Fold_6-----------\n",
      "accuracy: 97.84%\n",
      "\n",
      "------------------------------------------------------------------------------------------------------------\n",
      "\n",
      "\n",
      "Start Training Fold_7--------------------------------------\n",
      "Train on 10838 samples, validate on 1806 samples\n",
      "Epoch 1/20\n",
      "10838/10838 [==============================] - 12s 1ms/step - loss: 0.0407 - accuracy: 0.9851 - val_loss: 0.0158 - val_accuracy: 0.9950\n",
      "Epoch 2/20\n",
      "10838/10838 [==============================] - 12s 1ms/step - loss: 0.0352 - accuracy: 0.9874 - val_loss: 0.0174 - val_accuracy: 0.9956\n",
      "Epoch 3/20\n",
      "10838/10838 [==============================] - 12s 1ms/step - loss: 0.0386 - accuracy: 0.9869 - val_loss: 0.0054 - val_accuracy: 0.9994\n",
      "Epoch 4/20\n",
      "10838/10838 [==============================] - 12s 1ms/step - loss: 0.0388 - accuracy: 0.9862 - val_loss: 0.0389 - val_accuracy: 0.9845\n",
      "Epoch 5/20\n",
      "10838/10838 [==============================] - 12s 1ms/step - loss: 0.0299 - accuracy: 0.9901 - val_loss: 0.0078 - val_accuracy: 0.9967\n",
      "Epoch 6/20\n",
      "10838/10838 [==============================] - 12s 1ms/step - loss: 0.0281 - accuracy: 0.9911 - val_loss: 0.0040 - val_accuracy: 0.9989\n",
      "Epoch 7/20\n",
      "10838/10838 [==============================] - 12s 1ms/step - loss: 0.0349 - accuracy: 0.9875 - val_loss: 0.0540 - val_accuracy: 0.9801\n",
      "Epoch 8/20\n",
      "10838/10838 [==============================] - 12s 1ms/step - loss: 0.0361 - accuracy: 0.9873 - val_loss: 0.0126 - val_accuracy: 0.9961\n",
      "Epoch 9/20\n",
      "10838/10838 [==============================] - 12s 1ms/step - loss: 0.0344 - accuracy: 0.9880 - val_loss: 0.0320 - val_accuracy: 0.9867\n",
      "Epoch 10/20\n",
      "10838/10838 [==============================] - 12s 1ms/step - loss: 0.0326 - accuracy: 0.9897 - val_loss: 0.0093 - val_accuracy: 0.9972\n",
      "Epoch 11/20\n",
      "10838/10838 [==============================] - 12s 1ms/step - loss: 0.0299 - accuracy: 0.9899 - val_loss: 0.0258 - val_accuracy: 0.9884\n",
      "Epoch 12/20\n",
      "10838/10838 [==============================] - 12s 1ms/step - loss: 0.0288 - accuracy: 0.9911 - val_loss: 0.0124 - val_accuracy: 0.9967\n",
      "Epoch 13/20\n",
      "10838/10838 [==============================] - 12s 1ms/step - loss: 0.0294 - accuracy: 0.9894 - val_loss: 0.1934 - val_accuracy: 0.9385\n",
      "Epoch 14/20\n",
      "10838/10838 [==============================] - 12s 1ms/step - loss: 0.0353 - accuracy: 0.9879 - val_loss: 0.0113 - val_accuracy: 0.9961\n",
      "Epoch 15/20\n",
      "10838/10838 [==============================] - 12s 1ms/step - loss: 0.0235 - accuracy: 0.9914 - val_loss: 0.5764 - val_accuracy: 0.8450\n",
      "Epoch 16/20\n",
      "10838/10838 [==============================] - 12s 1ms/step - loss: 0.0267 - accuracy: 0.9903 - val_loss: 0.0304 - val_accuracy: 0.9917\n",
      "Epoch 17/20\n",
      "10838/10838 [==============================] - 12s 1ms/step - loss: 0.0314 - accuracy: 0.9878 - val_loss: 0.0696 - val_accuracy: 0.9729\n",
      "Epoch 18/20\n",
      "10838/10838 [==============================] - 12s 1ms/step - loss: 0.0347 - accuracy: 0.9876 - val_loss: 0.0071 - val_accuracy: 0.9983\n",
      "Epoch 19/20\n",
      "10838/10838 [==============================] - 12s 1ms/step - loss: 0.0373 - accuracy: 0.9863 - val_loss: 1.9574 - val_accuracy: 0.6467\n",
      "Epoch 20/20\n",
      "10838/10838 [==============================] - 12s 1ms/step - loss: 0.0382 - accuracy: 0.9862 - val_loss: 0.0092 - val_accuracy: 0.9978\n",
      "\n",
      "\n",
      "1806/1806 [==============================] - 1s 399us/step\n",
      "\n",
      "-------------Model Evaluation Results Fold_7-----------\n",
      "accuracy: 99.78%\n",
      "\n",
      "------------------------------------------------------------------------------------------------------------\n",
      "92.29% (+/- 9.19%)\n"
     ]
    }
   ],
   "source": [
    "from sklearn.model_selection import StratifiedKFold\n",
    "\n",
    "skf = StratifiedKFold(n_splits=7, random_state=None)\n",
    "\n",
    "cvscores = []\n",
    "acc = []\n",
    "vacc = []\n",
    "loss = []\n",
    "vloss = []\n",
    "i = 0\n",
    "for train_index, val_index in skf.split(features,labels):\n",
    "    i = i + 1\n",
    "    X_train, X_val = features[train_index], features[val_index]\n",
    "    Y_train, Y_val = labels[train_index], labels[val_index]\n",
    "    name = 'model_HUE_SIFT_v' + str(i) + '.hdf5'\n",
    "    mcp = ModelCheckpoint(filepath=name, monitor=\"val_accuracy\", save_best_only=True, save_weights_only=False)\n",
    "    \n",
    "    print('\\n')\n",
    "    print('Start Training Fold_' + str(i)+'--------------------------------------')\n",
    "    #print('\\n')\n",
    "    hist = model.fit(X_train,Y_train, validation_data = (X_val,Y_val) , \n",
    "                         epochs = 20,verbose=1,class_weight = class_weights,callbacks=[mcp])\n",
    "    print('\\n')\n",
    "    scores = model.evaluate(X_val,Y_val, verbose=1)\n",
    "    print('\\n-------------Model Evaluation Results '+ 'Fold_' + str(i) + '-----------')\n",
    "    print(\"%s: %.2f%%\" % (model.metrics_names[1], scores[1]*100))\n",
    "    print('\\n------------------------------------------------------------------------------------------------------------')\n",
    "    cvscores.append(scores[1] * 100)\n",
    "    acc.append(hist.history['accuracy'])\n",
    "    vacc.append(hist.history['val_accuracy'])\n",
    "    loss.append(hist.history['loss'])\n",
    "    vloss.append(hist.history['val_loss'])\n",
    "\n",
    "print(\"%.2f%% (+/- %.2f%%)\" % (np.mean(cvscores), np.std(cvscores)))"
   ]
  },
  {
   "cell_type": "markdown",
   "metadata": {},
   "source": [
    "# Predictions on Test Data"
   ]
  },
  {
   "cell_type": "code",
   "execution_count": 18,
   "metadata": {},
   "outputs": [
    {
     "data": {
      "text/plain": [
       "(1406, 150, 150, 3)"
      ]
     },
     "execution_count": 18,
     "metadata": {},
     "output_type": "execute_result"
    }
   ],
   "source": [
    "X_test.shape"
   ]
  },
  {
   "cell_type": "code",
   "execution_count": 19,
   "metadata": {},
   "outputs": [
    {
     "name": "stdout",
     "output_type": "stream",
     "text": [
      "1406/1406 [==============================] - 1s 435us/step\n",
      "\n",
      "CV_Results_Overall Model Performance\n",
      "[0.36476749277131826, 0.9103840589523315]\n"
     ]
    }
   ],
   "source": [
    "# Cross-Validation Predictions\n",
    "test_results = model.evaluate(X_test,Y_test)\n",
    "y_test_pred = model.predict_classes(X_test)\n",
    "\n",
    "print('\\nCV_Results_Overall Model Performance')\n",
    "print(test_results)"
   ]
  },
  {
   "cell_type": "markdown",
   "metadata": {},
   "source": [
    "## Evaluation of each fold"
   ]
  },
  {
   "cell_type": "code",
   "execution_count": 20,
   "metadata": {},
   "outputs": [],
   "source": [
    "fold_results = []"
   ]
  },
  {
   "cell_type": "code",
   "execution_count": 21,
   "metadata": {},
   "outputs": [
    {
     "name": "stdout",
     "output_type": "stream",
     "text": [
      "1406/1406 [==============================] - 1s 404us/step\n",
      "\n",
      "---CV_Results_Fold_1---\n",
      "[0.2927503373850121, 0.8776671290397644]\n"
     ]
    }
   ],
   "source": [
    "model.load_weights('../input/weights/model_HUE_SIFT_v1.hdf5')\n",
    "fold1_results = model.evaluate(X_test,Y_test)\n",
    "\n",
    "print('\\n---CV_Results_Fold_1---')\n",
    "print(fold1_results)\n",
    "fold_results.append(fold1_results)"
   ]
  },
  {
   "cell_type": "code",
   "execution_count": 22,
   "metadata": {},
   "outputs": [
    {
     "name": "stdout",
     "output_type": "stream",
     "text": [
      "1406/1406 [==============================] - 1s 430us/step\n",
      "\n",
      "---CV_Results_Fold_2---\n",
      "[0.2652746658152232, 0.8940256237983704]\n"
     ]
    }
   ],
   "source": [
    "model.load_weights('../input/weights/model_HUE_SIFT_v2.hdf5')\n",
    "fold2_results = model.evaluate(X_test,Y_test)\n",
    "\n",
    "print('\\n---CV_Results_Fold_2---')\n",
    "print(fold2_results)\n",
    "fold_results.append(fold2_results)"
   ]
  },
  {
   "cell_type": "code",
   "execution_count": 23,
   "metadata": {},
   "outputs": [
    {
     "name": "stdout",
     "output_type": "stream",
     "text": [
      "1406/1406 [==============================] - 1s 368us/step\n",
      "\n",
      "---CV_Results_Fold_3---\n",
      "[0.26088381135785904, 0.9032716751098633]\n"
     ]
    }
   ],
   "source": [
    "model.load_weights('../input/weights/model_HUE_SIFT_v3.hdf5')\n",
    "fold3_results = model.evaluate(X_test,Y_test)\n",
    "\n",
    "print('\\n---CV_Results_Fold_3---')\n",
    "print(fold3_results)\n",
    "fold_results.append(fold3_results)"
   ]
  },
  {
   "cell_type": "code",
   "execution_count": 24,
   "metadata": {},
   "outputs": [
    {
     "name": "stdout",
     "output_type": "stream",
     "text": [
      "1406/1406 [==============================] - 1s 361us/step\n",
      "\n",
      "---CV_Results_Fold_4---\n",
      "[0.31048314890176437, 0.9103840589523315]\n"
     ]
    }
   ],
   "source": [
    "model.load_weights('../input/weights/model_HUE_SIFT_v4.hdf5')\n",
    "fold4_results = model.evaluate(X_test,Y_test)\n",
    "\n",
    "print('\\n---CV_Results_Fold_4---')\n",
    "print(fold4_results)\n",
    "fold_results.append(fold4_results)"
   ]
  },
  {
   "cell_type": "code",
   "execution_count": 25,
   "metadata": {},
   "outputs": [
    {
     "name": "stdout",
     "output_type": "stream",
     "text": [
      "1406/1406 [==============================] - 1s 358us/step\n",
      "\n",
      "---CV_Results_Fold_5---\n",
      "[0.32249128237727015, 0.9061166644096375]\n"
     ]
    }
   ],
   "source": [
    "model.load_weights('../input/weights/model_HUE_SIFT_v5.hdf5')\n",
    "fold5_results = model.evaluate(X_test,Y_test)\n",
    "\n",
    "print('\\n---CV_Results_Fold_5---')\n",
    "print(fold5_results)\n",
    "fold_results.append(fold5_results)"
   ]
  },
  {
   "cell_type": "code",
   "execution_count": 26,
   "metadata": {},
   "outputs": [
    {
     "name": "stdout",
     "output_type": "stream",
     "text": [
      "1406/1406 [==============================] - 1s 367us/step\n",
      "\n",
      "---CV_Results_Fold_6---\n",
      "[0.3200433837146542, 0.9096728563308716]\n"
     ]
    }
   ],
   "source": [
    "model.load_weights('../input/weights/model_HUE_SIFT_v6.hdf5')\n",
    "fold6_results = model.evaluate(X_test,Y_test)\n",
    "\n",
    "print('\\n---CV_Results_Fold_6---')\n",
    "print(fold6_results)\n",
    "fold_results.append(fold6_results)"
   ]
  },
  {
   "cell_type": "code",
   "execution_count": 27,
   "metadata": {},
   "outputs": [
    {
     "name": "stdout",
     "output_type": "stream",
     "text": [
      "1406/1406 [==============================] - 1s 373us/step\n",
      "\n",
      "---CV_Results_Fold_7---\n",
      "[0.45231920964009054, 0.903982937335968]\n"
     ]
    }
   ],
   "source": [
    "model.load_weights('../input/weights/model_HUE_SIFT_v7.hdf5')\n",
    "fold7_results = model.evaluate(X_test,Y_test)\n",
    "\n",
    "print('\\n---CV_Results_Fold_7---')\n",
    "print(fold7_results)\n",
    "fold_results.append(fold7_results)"
   ]
  },
  {
   "cell_type": "code",
   "execution_count": 28,
   "metadata": {},
   "outputs": [],
   "source": [
    "fold_results = np.array(fold_results)"
   ]
  },
  {
   "cell_type": "code",
   "execution_count": 29,
   "metadata": {},
   "outputs": [],
   "source": [
    "overall_loss = fold_results[:,0]\n",
    "overall_accu = fold_results[:,1]"
   ]
  },
  {
   "cell_type": "code",
   "execution_count": 30,
   "metadata": {},
   "outputs": [
    {
     "name": "stdout",
     "output_type": "stream",
     "text": [
      "\n",
      "\n",
      "Test Data Accuracy : 90.07% (+/- 1.07%)\n"
     ]
    }
   ],
   "source": [
    "print(\"\\n\\nTest Data Accuracy : %.2f%% (+/- %.2f%%)\" % (np.mean(overall_accu)*100, np.std(overall_accu)*100))"
   ]
  },
  {
   "cell_type": "markdown",
   "metadata": {},
   "source": [
    "# Best Model Results"
   ]
  },
  {
   "cell_type": "code",
   "execution_count": 31,
   "metadata": {},
   "outputs": [],
   "source": [
    "model.load_weights('../input/weights/model_HUE_SIFT_v4.hdf5')"
   ]
  },
  {
   "cell_type": "code",
   "execution_count": 32,
   "metadata": {},
   "outputs": [
    {
     "name": "stdout",
     "output_type": "stream",
     "text": [
      "Best CV Fold Accuracy 91.04%\n"
     ]
    }
   ],
   "source": [
    "y_pred = model.predict_classes(X_test)\n",
    "\n",
    "print('Best CV Fold Accuracy %.2f%%' % (metrics.accuracy_score(Y_test, y_pred)*100))"
   ]
  },
  {
   "cell_type": "code",
   "execution_count": 33,
   "metadata": {},
   "outputs": [
    {
     "name": "stdout",
     "output_type": "stream",
     "text": [
      "Model Accuracy 91.04%\n"
     ]
    }
   ],
   "source": [
    "print('Model Accuracy %.2f%%' % (metrics.accuracy_score(Y_test, y_test_pred)*100))"
   ]
  },
  {
   "cell_type": "markdown",
   "metadata": {},
   "source": [
    "# Visualise Results"
   ]
  },
  {
   "cell_type": "markdown",
   "metadata": {},
   "source": [
    "## Train Validation Accuracy"
   ]
  },
  {
   "cell_type": "code",
   "execution_count": 34,
   "metadata": {},
   "outputs": [],
   "source": [
    "acc_1 = np.hstack((acc[0],acc[1],acc[2],acc[3],acc[4],acc[5],acc[6]))\n",
    "vacc_1 = np.hstack((vacc[0],vacc[1],vacc[2],vacc[3],vacc[4],vacc[5],vacc[6]))\n",
    "loss_1 = np.hstack((loss[0],loss[1],loss[2],loss[3],loss[4],loss[5],loss[6]))\n",
    "vloss_1 = np.hstack((vloss[0],vloss[1],vloss[2],vloss[3],vloss[4],vloss[5],vloss[6]))"
   ]
  },
  {
   "cell_type": "code",
   "execution_count": 35,
   "metadata": {},
   "outputs": [],
   "source": [
    "def plot_model_history(acc,vacc,loss,vloss):\n",
    "    fig, axs = plt.subplots(1,2,figsize=(15,5))\n",
    "    axs[0].plot(range(1,len(acc)+1),acc)\n",
    "    axs[0].plot(range(1,len(vacc)+1),vacc)\n",
    "    axs[0].set_title('Model Accuracy')\n",
    "    axs[0].set_ylabel('Accuracy')\n",
    "    axs[0].set_xlabel('Epoch')\n",
    "    axs[0].set_xticks(np.arange(1,len(acc)+1),len(acc)/10)\n",
    "    axs[0].legend(['train', 'val'], loc='best')\n",
    "    axs[1].plot(range(1,len(loss)+1),loss)\n",
    "    axs[1].plot(range(1,len(vloss)+1),vloss)\n",
    "    axs[1].set_title('Model Loss')\n",
    "    axs[1].set_ylabel('Loss')\n",
    "    axs[1].set_xlabel('Epoch')\n",
    "    axs[1].set_xticks(np.arange(1,len(loss)+1),len(loss)/10)\n",
    "    axs[1].legend(['train', 'val'], loc='best')\n",
    "    plt.show()"
   ]
  },
  {
   "cell_type": "code",
   "execution_count": 36,
   "metadata": {},
   "outputs": [
    {
     "name": "stderr",
     "output_type": "stream",
     "text": [
      "/opt/conda/lib/python3.7/site-packages/ipykernel_launcher.py:8: MatplotlibDeprecationWarning: Passing the minor parameter of set_xticks() positionally is deprecated since Matplotlib 3.2; the parameter will become keyword-only two minor releases later.\n",
      "  \n",
      "/opt/conda/lib/python3.7/site-packages/ipykernel_launcher.py:15: MatplotlibDeprecationWarning: Passing the minor parameter of set_xticks() positionally is deprecated since Matplotlib 3.2; the parameter will become keyword-only two minor releases later.\n",
      "  from ipykernel import kernelapp as app\n"
     ]
    },
    {
     "data": {
      "image/png": "[encoded data removed]",
      "text/plain": [
       "<Figure size 1080x360 with 2 Axes>"
      ]
     },
     "metadata": {
      "needs_background": "light"
     },
     "output_type": "display_data"
    }
   ],
   "source": [
    "plot_model_history(acc_1,vacc_1,loss_1,vloss_1)"
   ]
  },
  {
   "cell_type": "markdown",
   "metadata": {},
   "source": [
    "# Confusion Matrix"
   ]
  },
  {
   "cell_type": "code",
   "execution_count": 37,
   "metadata": {},
   "outputs": [],
   "source": [
    "def plot_confusion_matrix(cm,target_names,title='Confusion matrix',cmap=None,normalize=True):\n",
    "    import matplotlib.pyplot as plt\n",
    "    import numpy as np\n",
    "    import itertools\n",
    "\n",
    "    accuracy = np.trace(cm) / float(np.sum(cm))\n",
    "    misclass = 1 - accuracy\n",
    "\n",
    "    if cmap is None:\n",
    "        cmap = plt.get_cmap('Blues')\n",
    "\n",
    "    plt.figure(figsize=(6, 4))\n",
    "    plt.grid(b=False)\n",
    "    plt.imshow(cm, interpolation='nearest', cmap=cmap)\n",
    "    plt.title(title,fontsize=12,weight='bold')\n",
    "    #plt.legend('off')\n",
    "    #plt.colorbar()\n",
    "\n",
    "    if target_names is not None:\n",
    "        tick_marks = np.arange(len(target_names))\n",
    "        plt.xticks(tick_marks, target_names, rotation=0,fontsize=12,weight='bold')\n",
    "        plt.yticks(tick_marks, target_names,fontsize=12,weight='bold')\n",
    "    if normalize:\n",
    "        cm = cm.astype('float') / cm.sum(axis=1)[:, np.newaxis]\n",
    "\n",
    "    thresh = cm.max() / 1.5 if normalize else cm.max() / 2\n",
    "    for i, j in itertools.product(range(cm.shape[0]), range(cm.shape[1])):\n",
    "        if normalize:\n",
    "            plt.text(j, i, \"{:0.4f}\".format(cm[i, j]),\n",
    "                     horizontalalignment=\"center\",\n",
    "                     color=\"white\" if cm[i, j] > thresh else \"black\",fontsize=12,weight='bold')\n",
    "        else:\n",
    "            plt.text(j, i, \"{:,}\".format(cm[i, j]),\n",
    "                     horizontalalignment=\"center\",\n",
    "                     color=\"white\" if cm[i, j] > thresh else \"black\",fontsize=12,weight='bold')\n",
    "    plt.tight_layout()\n",
    "    plt.ylabel('True label',fontsize=12,weight='bold')\n",
    "    plt.xlabel('\\n Predicted label \\n Test accuracy={:0.2f}%; Misclass={:0.2f}%'.format(accuracy*100, misclass*100),fontsize=12,weight='bold')\n",
    "    #plt.get_legend().remove()\n",
    "    \n",
    "    plt.show()"
   ]
  },
  {
   "cell_type": "code",
   "execution_count": 38,
   "metadata": {},
   "outputs": [
    {
     "data": {
      "image/png": "[encoded data removed]",
      "text/plain": [
       "<Figure size 432x288 with 1 Axes>"
      ]
     },
     "metadata": {
      "needs_background": "light"
     },
     "output_type": "display_data"
    }
   ],
   "source": [
    "from sklearn.metrics import confusion_matrix\n",
    "cm = confusion_matrix(Y_test,y_pred)\n",
    "plot_confusion_matrix(cm = cm,normalize= False,cmap ='binary',target_names = ['nocancer', 'cancer'],\n",
    "                      title= '')"
   ]
  },
  {
   "cell_type": "code",
   "execution_count": 39,
   "metadata": {},
   "outputs": [
    {
     "name": "stdout",
     "output_type": "stream",
     "text": [
      "590 88 38 690\n"
     ]
    }
   ],
   "source": [
    "tn, fp, fn, tp = confusion_matrix(Y_test,y_pred).ravel()\n",
    "print(tn, fp, fn, tp)"
   ]
  },
  {
   "cell_type": "code",
   "execution_count": 40,
   "metadata": {},
   "outputs": [
    {
     "name": "stdout",
     "output_type": "stream",
     "text": [
      "Sensitivity 94.78%\n"
     ]
    }
   ],
   "source": [
    "print(\"Sensitivity %.2f%%\" % ((tp / (tp + fn))*100))"
   ]
  },
  {
   "cell_type": "code",
   "execution_count": 41,
   "metadata": {},
   "outputs": [
    {
     "name": "stdout",
     "output_type": "stream",
     "text": [
      "Specificity 87.02%\n"
     ]
    }
   ],
   "source": [
    "print(\"Specificity %.2f%%\" % ((tn / (tn + fp))*100))"
   ]
  },
  {
   "cell_type": "markdown",
   "metadata": {},
   "source": [
    "# Classification Report"
   ]
  },
  {
   "cell_type": "code",
   "execution_count": 42,
   "metadata": {},
   "outputs": [
    {
     "name": "stdout",
     "output_type": "stream",
     "text": [
      "              precision    recall  f1-score   support\n",
      "\n",
      "    nocancer       0.94      0.87      0.90       678\n",
      "      cancer       0.89      0.95      0.92       728\n",
      "\n",
      "    accuracy                           0.91      1406\n",
      "   macro avg       0.91      0.91      0.91      1406\n",
      "weighted avg       0.91      0.91      0.91      1406\n",
      "\n"
     ]
    }
   ],
   "source": [
    "from sklearn.metrics import classification_report\n",
    "\n",
    "# Generate a classification report\n",
    "report = classification_report(Y_test, y_pred, target_names=['nocancer','cancer'])\n",
    "\n",
    "print(report)"
   ]
  },
  {
   "cell_type": "code",
   "execution_count": 43,
   "metadata": {},
   "outputs": [
    {
     "name": "stdout",
     "output_type": "stream",
     "text": [
      "91.02%\n"
     ]
    }
   ],
   "source": [
    "print(\"%.2f%%\" % (metrics.f1_score(Y_test, y_pred,average='weighted')*100))"
   ]
  },
  {
   "cell_type": "markdown",
   "metadata": {},
   "source": [
    "# Saving Train / Validation Data"
   ]
  },
  {
   "cell_type": "code",
   "execution_count": 44,
   "metadata": {},
   "outputs": [],
   "source": [
    "HUESIFT_result = pd.DataFrame()"
   ]
  },
  {
   "cell_type": "code",
   "execution_count": 45,
   "metadata": {},
   "outputs": [],
   "source": [
    "HUESIFT_result['huesift_acc'] = acc_1\n",
    "HUESIFT_result['huesift_vacc'] = vacc_1\n",
    "HUESIFT_result['huesift_loss'] = loss_1\n",
    "HUESIFT_result['huesift_vloss'] = vloss_1"
   ]
  },
  {
   "cell_type": "code",
   "execution_count": 48,
   "metadata": {},
   "outputs": [
    {
     "data": {
      "text/html": [
       "<div>\n",
       "<style scoped>\n",
       "    .dataframe tbody tr th:only-of-type {\n",
       "        vertical-align: middle;\n",
       "    }\n",
       "\n",
       "    .dataframe tbody tr th {\n",
       "        vertical-align: top;\n",
       "    }\n",
       "\n",
       "    .dataframe thead th {\n",
       "        text-align: right;\n",
       "    }\n",
       "</style>\n",
       "<table border=\"1\" class=\"dataframe\">\n",
       "  <thead>\n",
       "    <tr style=\"text-align: right;\">\n",
       "      <th></th>\n",
       "      <th>huesift_acc</th>\n",
       "      <th>huesift_vacc</th>\n",
       "      <th>huesift_loss</th>\n",
       "      <th>huesift_vloss</th>\n",
       "    </tr>\n",
       "  </thead>\n",
       "  <tbody>\n",
       "    <tr>\n",
       "      <th>0</th>\n",
       "      <td>0.725385</td>\n",
       "      <td>0.755396</td>\n",
       "      <td>0.615403</td>\n",
       "      <td>0.566402</td>\n",
       "    </tr>\n",
       "    <tr>\n",
       "      <th>1</th>\n",
       "      <td>0.762850</td>\n",
       "      <td>0.634754</td>\n",
       "      <td>0.510118</td>\n",
       "      <td>0.746052</td>\n",
       "    </tr>\n",
       "    <tr>\n",
       "      <th>2</th>\n",
       "      <td>0.794408</td>\n",
       "      <td>0.752075</td>\n",
       "      <td>0.460395</td>\n",
       "      <td>0.591535</td>\n",
       "    </tr>\n",
       "    <tr>\n",
       "      <th>3</th>\n",
       "      <td>0.815355</td>\n",
       "      <td>0.832319</td>\n",
       "      <td>0.421307</td>\n",
       "      <td>0.401968</td>\n",
       "    </tr>\n",
       "    <tr>\n",
       "      <th>4</th>\n",
       "      <td>0.819230</td>\n",
       "      <td>0.527947</td>\n",
       "      <td>0.407997</td>\n",
       "      <td>1.137656</td>\n",
       "    </tr>\n",
       "  </tbody>\n",
       "</table>\n",
       "</div>"
      ],
      "text/plain": [
       "   huesift_acc  huesift_vacc  huesift_loss  huesift_vloss\n",
       "0     0.725385      0.755396      0.615403       0.566402\n",
       "1     0.762850      0.634754      0.510118       0.746052\n",
       "2     0.794408      0.752075      0.460395       0.591535\n",
       "3     0.815355      0.832319      0.421307       0.401968\n",
       "4     0.819230      0.527947      0.407997       1.137656"
      ]
     },
     "execution_count": 48,
     "metadata": {},
     "output_type": "execute_result"
    }
   ],
   "source": [
    "HUESIFT_result.head()"
   ]
  },
  {
   "cell_type": "code",
   "execution_count": 47,
   "metadata": {},
   "outputs": [],
   "source": [
    "HUESIFT_result.to_csv('huesift_results.csv', sep='\\t', encoding='utf-8')"
   ]
  },
  {
   "cell_type": "code",
   "execution_count": null,
   "metadata": {},
   "outputs": [],
   "source": []
  }
 ],
 "metadata": {
  "kernelspec": {
   "display_name": "Python 3",
   "language": "python",
   "name": "python3"
  },
  "language_info": {
   "codemirror_mode": {
    "name": "ipython",
    "version": 3
   },
   "file_extension": ".py",
   "mimetype": "text/x-python",
   "name": "python",
   "nbconvert_exporter": "python",
   "pygments_lexer": "ipython3",
   "version": "3.7.6"
  }
 },
 "nbformat": 4,
 "nbformat_minor": 4
}
