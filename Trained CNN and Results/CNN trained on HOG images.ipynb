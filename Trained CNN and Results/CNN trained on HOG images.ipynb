{
 "cells": [
  {
   "cell_type": "code",
   "execution_count": 1,
   "metadata": {},
   "outputs": [
    {
     "name": "stderr",
     "output_type": "stream",
     "text": [
      "Using TensorFlow backend.\n"
     ]
    }
   ],
   "source": [
    "import glob\n",
    "import cv2 as cv\n",
    "import numpy as np\n",
    "import pandas as pd\n",
    "import matplotlib.pyplot as plt\n",
    "%matplotlib inline\n",
    "from skimage.io import imread, imshow\n",
    "\n",
    "from keras.models import Sequential\n",
    "from keras.layers import Conv2D, MaxPooling2D , Input\n",
    "from keras.layers import Activation, Dropout, Flatten, Dense\n",
    "from keras.optimizers import SGD, Adam\n",
    "from keras.models import Sequential\n",
    "from keras.layers import BatchNormalization, Dropout\n",
    "from keras.optimizers import Adam\n",
    "from sklearn.model_selection import train_test_split\n",
    "from keras.utils import to_categorical\n",
    "from sklearn.utils import class_weight\n",
    "from sklearn import metrics\n",
    "from keras import regularizers\n",
    "from keras.callbacks import ModelCheckpoint"
   ]
  },
  {
   "cell_type": "code",
   "execution_count": 2,
   "metadata": {},
   "outputs": [],
   "source": [
    "data = np.load('../input/cnn-data-new/Train_HOG_v2.npz')"
   ]
  },
  {
   "cell_type": "code",
   "execution_count": 3,
   "metadata": {},
   "outputs": [],
   "source": [
    "test_data = np.load('../input/cnn-data-new/Test_HOG_v2.npz')"
   ]
  },
  {
   "cell_type": "code",
   "execution_count": 4,
   "metadata": {},
   "outputs": [],
   "source": [
    "X_test = test_data['features']\n",
    "Y_test = test_data['labels']"
   ]
  },
  {
   "cell_type": "code",
   "execution_count": 5,
   "metadata": {},
   "outputs": [
    {
     "data": {
      "text/plain": [
       "['features', 'labels']"
      ]
     },
     "execution_count": 5,
     "metadata": {},
     "output_type": "execute_result"
    }
   ],
   "source": [
    "data.files"
   ]
  },
  {
   "cell_type": "code",
   "execution_count": 6,
   "metadata": {},
   "outputs": [],
   "source": [
    "features = data['features']\n",
    "labels = data['labels']"
   ]
  },
  {
   "cell_type": "code",
   "execution_count": 7,
   "metadata": {},
   "outputs": [],
   "source": [
    "img = np.reshape(features[9],(150,150))"
   ]
  },
  {
   "cell_type": "code",
   "execution_count": 8,
   "metadata": {},
   "outputs": [
    {
     "data": {
      "text/plain": [
       "(-0.5, 149.5, 149.5, -0.5)"
      ]
     },
     "execution_count": 8,
     "metadata": {},
     "output_type": "execute_result"
    },
    {
     "data": {
      "image/png": "[encoded data removed]",
      "text/plain": [
       "<Figure size 432x288 with 1 Axes>"
      ]
     },
     "metadata": {
      "needs_background": "light"
     },
     "output_type": "display_data"
    }
   ],
   "source": [
    "plt.imshow(img)\n",
    "plt.title('HOG Image')\n",
    "plt.axis('off')"
   ]
  },
  {
   "cell_type": "code",
   "execution_count": 9,
   "metadata": {},
   "outputs": [],
   "source": [
    "#X_train, X_val, Y_train, Y_val = train_test_split(features, labels, test_size=0.20, random_state=42)"
   ]
  },
  {
   "cell_type": "code",
   "execution_count": 10,
   "metadata": {},
   "outputs": [
    {
     "name": "stdout",
     "output_type": "stream",
     "text": [
      "[1.03639344 0.96607579]\n"
     ]
    }
   ],
   "source": [
    "class_weights = class_weight.compute_class_weight('balanced',np.unique(labels),labels)\n",
    "\n",
    "print(class_weights)"
   ]
  },
  {
   "cell_type": "code",
   "execution_count": 11,
   "metadata": {},
   "outputs": [],
   "source": [
    "def build_cnn():\n",
    "    \n",
    "    model = Sequential()\n",
    "    model.add(Conv2D(32, (3, 3), input_shape=(150,150,1) , activation='relu'))\n",
    "    model.add(MaxPooling2D(pool_size=(2, 2)))\n",
    "    \n",
    "    model.add(Conv2D(64, (3, 3), activation='relu'))\n",
    "    model.add(BatchNormalization(axis = -1))\n",
    "    model.add(MaxPooling2D(pool_size=(2,2)))\n",
    "    model.add(Dropout(0.3))\n",
    "    \n",
    "    model.add(Conv2D(128, (3, 3), activation='relu'))\n",
    "    model.add(BatchNormalization(axis = -1))\n",
    "    model.add(MaxPooling2D(pool_size=(2,2)))\n",
    "    model.add(Dropout(0.3))\n",
    "    \n",
    "    model.add(Conv2D(256, (3, 3), activation='relu'))\n",
    "    model.add(BatchNormalization(axis = -1))\n",
    "    model.add(MaxPooling2D(pool_size=(2,2)))\n",
    "    model.add(Dropout(0.3))\n",
    "    \n",
    "    model.add(Conv2D(512, (3, 3), activation='relu'))\n",
    "    model.add(BatchNormalization(axis = -1))\n",
    "    model.add(MaxPooling2D(pool_size=(2,2)))\n",
    "    model.add(Dropout(0.3))\n",
    "\n",
    "    model.add(Flatten())\n",
    "    model.add(Dense(256 ,  activation='relu'))\n",
    "    model.add(BatchNormalization(axis = -1))\n",
    "    model.add(Dropout(0.2))\n",
    "    model.add(Dense(2 , activation ='softmax'))\n",
    "\n",
    "    return model"
   ]
  },
  {
   "cell_type": "code",
   "execution_count": 12,
   "metadata": {},
   "outputs": [],
   "source": [
    "model = build_cnn()\n",
    "model.compile(optimizer='adam', loss='sparse_categorical_crossentropy', metrics=['accuracy']) "
   ]
  },
  {
   "cell_type": "code",
   "execution_count": 13,
   "metadata": {},
   "outputs": [
    {
     "name": "stdout",
     "output_type": "stream",
     "text": [
      "Model: \"sequential_1\"\n",
      "_________________________________________________________________\n",
      "Layer (type)                 Output Shape              Param #   \n",
      "=================================================================\n",
      "conv2d_1 (Conv2D)            (None, 148, 148, 32)      320       \n",
      "_________________________________________________________________\n",
      "max_pooling2d_1 (MaxPooling2 (None, 74, 74, 32)        0         \n",
      "_________________________________________________________________\n",
      "conv2d_2 (Conv2D)            (None, 72, 72, 64)        18496     \n",
      "_________________________________________________________________\n",
      "batch_normalization_1 (Batch (None, 72, 72, 64)        256       \n",
      "_________________________________________________________________\n",
      "max_pooling2d_2 (MaxPooling2 (None, 36, 36, 64)        0         \n",
      "_________________________________________________________________\n",
      "dropout_1 (Dropout)          (None, 36, 36, 64)        0         \n",
      "_________________________________________________________________\n",
      "conv2d_3 (Conv2D)            (None, 34, 34, 128)       73856     \n",
      "_________________________________________________________________\n",
      "batch_normalization_2 (Batch (None, 34, 34, 128)       512       \n",
      "_________________________________________________________________\n",
      "max_pooling2d_3 (MaxPooling2 (None, 17, 17, 128)       0         \n",
      "_________________________________________________________________\n",
      "dropout_2 (Dropout)          (None, 17, 17, 128)       0         \n",
      "_________________________________________________________________\n",
      "conv2d_4 (Conv2D)            (None, 15, 15, 256)       295168    \n",
      "_________________________________________________________________\n",
      "batch_normalization_3 (Batch (None, 15, 15, 256)       1024      \n",
      "_________________________________________________________________\n",
      "max_pooling2d_4 (MaxPooling2 (None, 7, 7, 256)         0         \n",
      "_________________________________________________________________\n",
      "dropout_3 (Dropout)          (None, 7, 7, 256)         0         \n",
      "_________________________________________________________________\n",
      "conv2d_5 (Conv2D)            (None, 5, 5, 512)         1180160   \n",
      "_________________________________________________________________\n",
      "batch_normalization_4 (Batch (None, 5, 5, 512)         2048      \n",
      "_________________________________________________________________\n",
      "max_pooling2d_5 (MaxPooling2 (None, 2, 2, 512)         0         \n",
      "_________________________________________________________________\n",
      "dropout_4 (Dropout)          (None, 2, 2, 512)         0         \n",
      "_________________________________________________________________\n",
      "flatten_1 (Flatten)          (None, 2048)              0         \n",
      "_________________________________________________________________\n",
      "dense_1 (Dense)              (None, 256)               524544    \n",
      "_________________________________________________________________\n",
      "batch_normalization_5 (Batch (None, 256)               1024      \n",
      "_________________________________________________________________\n",
      "dropout_5 (Dropout)          (None, 256)               0         \n",
      "_________________________________________________________________\n",
      "dense_2 (Dense)              (None, 2)                 514       \n",
      "=================================================================\n",
      "Total params: 2,097,922\n",
      "Trainable params: 2,095,490\n",
      "Non-trainable params: 2,432\n",
      "_________________________________________________________________\n"
     ]
    }
   ],
   "source": [
    "model.summary()"
   ]
  },
  {
   "cell_type": "code",
   "execution_count": 14,
   "metadata": {},
   "outputs": [
    {
     "name": "stdout",
     "output_type": "stream",
     "text": [
      "\n",
      "\n",
      "Start Training Fold_1--------------------------------------\n",
      "Train on 10837 samples, validate on 1807 samples\n",
      "Epoch 1/20\n",
      "10837/10837 [==============================] - 17s 2ms/step - loss: 0.5977 - accuracy: 0.7333 - val_loss: 1.5830 - val_accuracy: 0.3697\n",
      "Epoch 2/20\n",
      "10837/10837 [==============================] - 11s 1ms/step - loss: 0.5117 - accuracy: 0.7580 - val_loss: 3.0673 - val_accuracy: 0.5634\n",
      "Epoch 3/20\n",
      "10837/10837 [==============================] - 11s 1ms/step - loss: 0.5019 - accuracy: 0.7682 - val_loss: 0.5843 - val_accuracy: 0.7233\n",
      "Epoch 4/20\n",
      "10837/10837 [==============================] - 12s 1ms/step - loss: 0.4976 - accuracy: 0.7695 - val_loss: 0.6174 - val_accuracy: 0.7178\n",
      "Epoch 5/20\n",
      "10837/10837 [==============================] - 11s 1ms/step - loss: 0.4951 - accuracy: 0.7706 - val_loss: 0.5670 - val_accuracy: 0.7742\n",
      "Epoch 6/20\n",
      "10837/10837 [==============================] - 11s 1ms/step - loss: 0.4884 - accuracy: 0.7739 - val_loss: 0.5089 - val_accuracy: 0.7670\n",
      "Epoch 7/20\n",
      "10837/10837 [==============================] - 11s 1ms/step - loss: 0.4876 - accuracy: 0.7748 - val_loss: 0.5979 - val_accuracy: 0.7194\n",
      "Epoch 8/20\n",
      "10837/10837 [==============================] - 11s 1ms/step - loss: 0.4835 - accuracy: 0.7778 - val_loss: 0.4778 - val_accuracy: 0.7692\n",
      "Epoch 9/20\n",
      "10837/10837 [==============================] - 12s 1ms/step - loss: 0.4794 - accuracy: 0.7760 - val_loss: 0.7761 - val_accuracy: 0.5833\n",
      "Epoch 10/20\n",
      "10837/10837 [==============================] - 11s 1ms/step - loss: 0.4807 - accuracy: 0.7771 - val_loss: 0.4944 - val_accuracy: 0.7764\n",
      "Epoch 11/20\n",
      "10837/10837 [==============================] - 11s 1ms/step - loss: 0.4729 - accuracy: 0.7801 - val_loss: 0.8992 - val_accuracy: 0.5423\n",
      "Epoch 12/20\n",
      "10837/10837 [==============================] - 11s 1ms/step - loss: 0.4704 - accuracy: 0.7859 - val_loss: 0.8539 - val_accuracy: 0.5501\n",
      "Epoch 13/20\n",
      "10837/10837 [==============================] - 11s 1ms/step - loss: 0.4634 - accuracy: 0.7890 - val_loss: 1.2242 - val_accuracy: 0.5180\n",
      "Epoch 14/20\n",
      "10837/10837 [==============================] - 12s 1ms/step - loss: 0.4660 - accuracy: 0.7879 - val_loss: 0.6620 - val_accuracy: 0.6536\n",
      "Epoch 15/20\n",
      "10837/10837 [==============================] - 11s 1ms/step - loss: 0.4564 - accuracy: 0.7937 - val_loss: 0.9425 - val_accuracy: 0.5750\n",
      "Epoch 16/20\n",
      "10837/10837 [==============================] - 11s 1ms/step - loss: 0.4552 - accuracy: 0.7918 - val_loss: 0.6333 - val_accuracy: 0.6696\n",
      "Epoch 17/20\n",
      "10837/10837 [==============================] - 11s 1ms/step - loss: 0.4508 - accuracy: 0.7927 - val_loss: 0.7073 - val_accuracy: 0.7189\n",
      "Epoch 18/20\n",
      "10837/10837 [==============================] - 11s 1ms/step - loss: 0.4469 - accuracy: 0.7987 - val_loss: 0.4865 - val_accuracy: 0.7681\n",
      "Epoch 19/20\n",
      "10837/10837 [==============================] - 11s 1ms/step - loss: 0.4382 - accuracy: 0.8026 - val_loss: 0.4575 - val_accuracy: 0.7792\n",
      "Epoch 20/20\n",
      "10837/10837 [==============================] - 11s 1ms/step - loss: 0.4345 - accuracy: 0.8060 - val_loss: 0.6150 - val_accuracy: 0.7211\n",
      "\n",
      "\n",
      "1807/1807 [==============================] - 1s 327us/step\n",
      "\n",
      "-------------Model Evaluation Results Fold_1-----------\n",
      "accuracy: 72.11%\n",
      "\n",
      "------------------------------------------------------------------------------------------------------------\n",
      "\n",
      "\n",
      "Start Training Fold_2--------------------------------------\n",
      "Train on 10837 samples, validate on 1807 samples\n",
      "Epoch 1/20\n",
      "10837/10837 [==============================] - 11s 1ms/step - loss: 0.4310 - accuracy: 0.8013 - val_loss: 0.9184 - val_accuracy: 0.5755\n",
      "Epoch 2/20\n",
      "10837/10837 [==============================] - 11s 1ms/step - loss: 0.4272 - accuracy: 0.8055 - val_loss: 0.6096 - val_accuracy: 0.6906\n",
      "Epoch 3/20\n",
      "10837/10837 [==============================] - 11s 1ms/step - loss: 0.4252 - accuracy: 0.8061 - val_loss: 1.3049 - val_accuracy: 0.4953\n",
      "Epoch 4/20\n",
      "10837/10837 [==============================] - 12s 1ms/step - loss: 0.4216 - accuracy: 0.8080 - val_loss: 0.4255 - val_accuracy: 0.8080\n",
      "Epoch 5/20\n",
      "10837/10837 [==============================] - 11s 1ms/step - loss: 0.4135 - accuracy: 0.8138 - val_loss: 1.2257 - val_accuracy: 0.5174\n",
      "Epoch 6/20\n",
      "10837/10837 [==============================] - 11s 1ms/step - loss: 0.4041 - accuracy: 0.8169 - val_loss: 0.4314 - val_accuracy: 0.8152\n",
      "Epoch 7/20\n",
      "10837/10837 [==============================] - 11s 1ms/step - loss: 0.3957 - accuracy: 0.8255 - val_loss: 0.9565 - val_accuracy: 0.3741\n",
      "Epoch 8/20\n",
      "10837/10837 [==============================] - 11s 1ms/step - loss: 0.3946 - accuracy: 0.8257 - val_loss: 0.5419 - val_accuracy: 0.7410\n",
      "Epoch 9/20\n",
      "10837/10837 [==============================] - 11s 1ms/step - loss: 0.3899 - accuracy: 0.8263 - val_loss: 0.5542 - val_accuracy: 0.7194\n",
      "Epoch 10/20\n",
      "10837/10837 [==============================] - 12s 1ms/step - loss: 0.3825 - accuracy: 0.8312 - val_loss: 0.7877 - val_accuracy: 0.5816\n",
      "Epoch 11/20\n",
      "10837/10837 [==============================] - 11s 1ms/step - loss: 0.3701 - accuracy: 0.8349 - val_loss: 0.5325 - val_accuracy: 0.7443\n",
      "Epoch 12/20\n",
      "10837/10837 [==============================] - 11s 1ms/step - loss: 0.3594 - accuracy: 0.8417 - val_loss: 0.5844 - val_accuracy: 0.7061\n",
      "Epoch 13/20\n",
      "10837/10837 [==============================] - 11s 1ms/step - loss: 0.3647 - accuracy: 0.8402 - val_loss: 0.6247 - val_accuracy: 0.7360\n",
      "Epoch 14/20\n",
      "10837/10837 [==============================] - 11s 1ms/step - loss: 0.3462 - accuracy: 0.8480 - val_loss: 1.2872 - val_accuracy: 0.5551\n",
      "Epoch 15/20\n",
      "10837/10837 [==============================] - 12s 1ms/step - loss: 0.3259 - accuracy: 0.8563 - val_loss: 0.4548 - val_accuracy: 0.7947\n",
      "Epoch 16/20\n",
      "10837/10837 [==============================] - 11s 1ms/step - loss: 0.3170 - accuracy: 0.8627 - val_loss: 0.4446 - val_accuracy: 0.8157\n",
      "Epoch 17/20\n",
      "10837/10837 [==============================] - 11s 1ms/step - loss: 0.3166 - accuracy: 0.8606 - val_loss: 0.9761 - val_accuracy: 0.6215\n",
      "Epoch 18/20\n",
      "10837/10837 [==============================] - 11s 1ms/step - loss: 0.3014 - accuracy: 0.8699 - val_loss: 0.5355 - val_accuracy: 0.7853\n",
      "Epoch 19/20\n",
      "10837/10837 [==============================] - 11s 1ms/step - loss: 0.2908 - accuracy: 0.8752 - val_loss: 0.8960 - val_accuracy: 0.6187\n",
      "Epoch 20/20\n",
      "10837/10837 [==============================] - 12s 1ms/step - loss: 0.2737 - accuracy: 0.8805 - val_loss: 0.4432 - val_accuracy: 0.8168\n",
      "\n",
      "\n",
      "1807/1807 [==============================] - 1s 338us/step\n",
      "\n",
      "-------------Model Evaluation Results Fold_2-----------\n",
      "accuracy: 81.68%\n",
      "\n",
      "------------------------------------------------------------------------------------------------------------\n",
      "\n",
      "\n",
      "Start Training Fold_3--------------------------------------\n",
      "Train on 10838 samples, validate on 1806 samples\n",
      "Epoch 1/20\n",
      "10838/10838 [==============================] - 12s 1ms/step - loss: 0.3115 - accuracy: 0.8658 - val_loss: 0.4886 - val_accuracy: 0.7946\n",
      "Epoch 2/20\n",
      "10838/10838 [==============================] - 11s 1ms/step - loss: 0.2856 - accuracy: 0.8794 - val_loss: 0.2968 - val_accuracy: 0.8660\n",
      "Epoch 3/20\n",
      "10838/10838 [==============================] - 11s 1ms/step - loss: 0.2764 - accuracy: 0.8844 - val_loss: 0.4252 - val_accuracy: 0.7913\n",
      "Epoch 4/20\n",
      "10838/10838 [==============================] - 11s 1ms/step - loss: 0.2699 - accuracy: 0.8865 - val_loss: 0.4029 - val_accuracy: 0.8206\n",
      "Epoch 5/20\n",
      "10838/10838 [==============================] - 11s 1ms/step - loss: 0.2528 - accuracy: 0.8968 - val_loss: 0.4081 - val_accuracy: 0.8123\n",
      "Epoch 6/20\n",
      "10838/10838 [==============================] - 11s 1ms/step - loss: 0.2524 - accuracy: 0.8961 - val_loss: 1.0574 - val_accuracy: 0.6589\n",
      "Epoch 7/20\n",
      "10838/10838 [==============================] - 11s 1ms/step - loss: 0.2340 - accuracy: 0.9027 - val_loss: 0.2616 - val_accuracy: 0.8870\n",
      "Epoch 8/20\n",
      "10838/10838 [==============================] - 11s 1ms/step - loss: 0.2342 - accuracy: 0.9011 - val_loss: 0.2948 - val_accuracy: 0.8710\n",
      "Epoch 9/20\n",
      "10838/10838 [==============================] - 11s 1ms/step - loss: 0.2203 - accuracy: 0.9099 - val_loss: 0.3123 - val_accuracy: 0.8621\n",
      "Epoch 10/20\n",
      "10838/10838 [==============================] - 11s 1ms/step - loss: 0.2166 - accuracy: 0.9106 - val_loss: 0.6386 - val_accuracy: 0.7697\n"
     ]
    },
    {
     "name": "stdout",
     "output_type": "stream",
     "text": [
      "Epoch 11/20\n",
      "10838/10838 [==============================] - 12s 1ms/step - loss: 0.2011 - accuracy: 0.9195 - val_loss: 0.2553 - val_accuracy: 0.8998\n",
      "Epoch 12/20\n",
      "10838/10838 [==============================] - 11s 1ms/step - loss: 0.2064 - accuracy: 0.9167 - val_loss: 0.4472 - val_accuracy: 0.8023\n",
      "Epoch 13/20\n",
      "10838/10838 [==============================] - 11s 1ms/step - loss: 0.1968 - accuracy: 0.9201 - val_loss: 0.3824 - val_accuracy: 0.8427\n",
      "Epoch 14/20\n",
      "10838/10838 [==============================] - 11s 1ms/step - loss: 0.1853 - accuracy: 0.9231 - val_loss: 0.4725 - val_accuracy: 0.8173\n",
      "Epoch 15/20\n",
      "10838/10838 [==============================] - 11s 1ms/step - loss: 0.1774 - accuracy: 0.9291 - val_loss: 0.4931 - val_accuracy: 0.7913\n",
      "Epoch 16/20\n",
      "10838/10838 [==============================] - 12s 1ms/step - loss: 0.1796 - accuracy: 0.9287 - val_loss: 0.3125 - val_accuracy: 0.8798\n",
      "Epoch 17/20\n",
      "10838/10838 [==============================] - 11s 1ms/step - loss: 0.1709 - accuracy: 0.9319 - val_loss: 0.3153 - val_accuracy: 0.8826\n",
      "Epoch 18/20\n",
      "10838/10838 [==============================] - 11s 1ms/step - loss: 0.1603 - accuracy: 0.9374 - val_loss: 0.3459 - val_accuracy: 0.8527\n",
      "Epoch 19/20\n",
      "10838/10838 [==============================] - 11s 1ms/step - loss: 0.1557 - accuracy: 0.9401 - val_loss: 0.5277 - val_accuracy: 0.7946\n",
      "Epoch 20/20\n",
      "10838/10838 [==============================] - 11s 1ms/step - loss: 0.1428 - accuracy: 0.9429 - val_loss: 0.6503 - val_accuracy: 0.7553\n",
      "\n",
      "\n",
      "1806/1806 [==============================] - 1s 342us/step\n",
      "\n",
      "-------------Model Evaluation Results Fold_3-----------\n",
      "accuracy: 75.53%\n",
      "\n",
      "------------------------------------------------------------------------------------------------------------\n",
      "\n",
      "\n",
      "Start Training Fold_4--------------------------------------\n",
      "Train on 10838 samples, validate on 1806 samples\n",
      "Epoch 1/20\n",
      "10838/10838 [==============================] - 12s 1ms/step - loss: 0.2033 - accuracy: 0.9220 - val_loss: 0.0610 - val_accuracy: 0.9850\n",
      "Epoch 2/20\n",
      "10838/10838 [==============================] - 12s 1ms/step - loss: 0.1834 - accuracy: 0.9249 - val_loss: 0.0840 - val_accuracy: 0.9734\n",
      "Epoch 3/20\n",
      "10838/10838 [==============================] - 11s 1ms/step - loss: 0.1700 - accuracy: 0.9326 - val_loss: 0.0712 - val_accuracy: 0.9756\n",
      "Epoch 4/20\n",
      "10838/10838 [==============================] - 11s 1ms/step - loss: 0.1600 - accuracy: 0.9378 - val_loss: 0.0840 - val_accuracy: 0.9745\n",
      "Epoch 5/20\n",
      "10838/10838 [==============================] - 11s 1ms/step - loss: 0.1588 - accuracy: 0.9379 - val_loss: 0.1275 - val_accuracy: 0.9540\n",
      "Epoch 6/20\n",
      "10838/10838 [==============================] - 11s 1ms/step - loss: 0.1445 - accuracy: 0.9444 - val_loss: 0.0728 - val_accuracy: 0.9718\n",
      "Epoch 7/20\n",
      "10838/10838 [==============================] - 12s 1ms/step - loss: 0.1436 - accuracy: 0.9428 - val_loss: 0.2047 - val_accuracy: 0.9336\n",
      "Epoch 8/20\n",
      "10838/10838 [==============================] - 11s 1ms/step - loss: 0.1429 - accuracy: 0.9433 - val_loss: 0.0676 - val_accuracy: 0.9795\n",
      "Epoch 9/20\n",
      "10838/10838 [==============================] - 11s 1ms/step - loss: 0.1366 - accuracy: 0.9485 - val_loss: 0.2782 - val_accuracy: 0.9037\n",
      "Epoch 10/20\n",
      "10838/10838 [==============================] - 11s 1ms/step - loss: 0.1275 - accuracy: 0.9498 - val_loss: 0.0724 - val_accuracy: 0.9695\n",
      "Epoch 11/20\n",
      "10838/10838 [==============================] - 11s 1ms/step - loss: 0.1346 - accuracy: 0.9481 - val_loss: 0.1368 - val_accuracy: 0.9441\n",
      "Epoch 12/20\n",
      "10838/10838 [==============================] - 12s 1ms/step - loss: 0.1170 - accuracy: 0.9540 - val_loss: 0.0830 - val_accuracy: 0.9707\n",
      "Epoch 13/20\n",
      "10838/10838 [==============================] - 11s 1ms/step - loss: 0.1148 - accuracy: 0.9562 - val_loss: 0.2512 - val_accuracy: 0.9142\n",
      "Epoch 14/20\n",
      "10838/10838 [==============================] - 11s 1ms/step - loss: 0.1136 - accuracy: 0.9555 - val_loss: 0.2269 - val_accuracy: 0.9169\n",
      "Epoch 15/20\n",
      "10838/10838 [==============================] - 11s 1ms/step - loss: 0.1073 - accuracy: 0.9599 - val_loss: 0.1290 - val_accuracy: 0.9480\n",
      "Epoch 16/20\n",
      "10838/10838 [==============================] - 11s 1ms/step - loss: 0.1116 - accuracy: 0.9560 - val_loss: 0.2556 - val_accuracy: 0.9020\n",
      "Epoch 17/20\n",
      "10838/10838 [==============================] - 12s 1ms/step - loss: 0.1106 - accuracy: 0.9596 - val_loss: 0.1545 - val_accuracy: 0.9402\n",
      "Epoch 18/20\n",
      "10838/10838 [==============================] - 11s 1ms/step - loss: 0.1055 - accuracy: 0.9622 - val_loss: 0.2206 - val_accuracy: 0.9225\n",
      "Epoch 19/20\n",
      "10838/10838 [==============================] - 11s 1ms/step - loss: 0.1053 - accuracy: 0.9610 - val_loss: 0.2374 - val_accuracy: 0.9230\n",
      "Epoch 20/20\n",
      "10838/10838 [==============================] - 11s 1ms/step - loss: 0.1013 - accuracy: 0.9601 - val_loss: 0.1255 - val_accuracy: 0.9502\n",
      "\n",
      "\n",
      "1806/1806 [==============================] - 1s 339us/step\n",
      "\n",
      "-------------Model Evaluation Results Fold_4-----------\n",
      "accuracy: 95.02%\n",
      "\n",
      "------------------------------------------------------------------------------------------------------------\n",
      "\n",
      "\n",
      "Start Training Fold_5--------------------------------------\n",
      "Train on 10838 samples, validate on 1806 samples\n",
      "Epoch 1/20\n",
      "10838/10838 [==============================] - 12s 1ms/step - loss: 0.1334 - accuracy: 0.9482 - val_loss: 0.0467 - val_accuracy: 0.9873\n",
      "Epoch 2/20\n",
      "10838/10838 [==============================] - 12s 1ms/step - loss: 0.1227 - accuracy: 0.9532 - val_loss: 0.0387 - val_accuracy: 0.9906\n",
      "Epoch 3/20\n",
      "10838/10838 [==============================] - 12s 1ms/step - loss: 0.1107 - accuracy: 0.9596 - val_loss: 0.0852 - val_accuracy: 0.9712\n",
      "Epoch 4/20\n",
      "10838/10838 [==============================] - 11s 1ms/step - loss: 0.1087 - accuracy: 0.9606 - val_loss: 0.0362 - val_accuracy: 0.9906\n",
      "Epoch 5/20\n",
      "10838/10838 [==============================] - 11s 1ms/step - loss: 0.1036 - accuracy: 0.9617 - val_loss: 0.0215 - val_accuracy: 0.9939\n",
      "Epoch 6/20\n",
      "10838/10838 [==============================] - 12s 1ms/step - loss: 0.0954 - accuracy: 0.9617 - val_loss: 0.0487 - val_accuracy: 0.9867\n",
      "Epoch 7/20\n",
      "10838/10838 [==============================] - 12s 1ms/step - loss: 0.1074 - accuracy: 0.9602 - val_loss: 0.7357 - val_accuracy: 0.8771\n",
      "Epoch 8/20\n",
      "10838/10838 [==============================] - 12s 1ms/step - loss: 0.0990 - accuracy: 0.9622 - val_loss: 0.0423 - val_accuracy: 0.9856\n",
      "Epoch 9/20\n",
      "10838/10838 [==============================] - 12s 1ms/step - loss: 0.0967 - accuracy: 0.9636 - val_loss: 0.0543 - val_accuracy: 0.9784\n",
      "Epoch 10/20\n",
      "10838/10838 [==============================] - 11s 1ms/step - loss: 0.0860 - accuracy: 0.9679 - val_loss: 0.1506 - val_accuracy: 0.9695\n",
      "Epoch 11/20\n",
      "10838/10838 [==============================] - 11s 1ms/step - loss: 0.0863 - accuracy: 0.9675 - val_loss: 0.1044 - val_accuracy: 0.9662\n",
      "Epoch 12/20\n",
      "10838/10838 [==============================] - 12s 1ms/step - loss: 0.0941 - accuracy: 0.9660 - val_loss: 0.0635 - val_accuracy: 0.9801\n",
      "Epoch 13/20\n",
      "10838/10838 [==============================] - 12s 1ms/step - loss: 0.0882 - accuracy: 0.9652 - val_loss: 0.9897 - val_accuracy: 0.7320\n",
      "Epoch 14/20\n",
      "10838/10838 [==============================] - 12s 1ms/step - loss: 0.0839 - accuracy: 0.9692 - val_loss: 0.8877 - val_accuracy: 0.8095\n",
      "Epoch 15/20\n",
      "10838/10838 [==============================] - 12s 1ms/step - loss: 0.0849 - accuracy: 0.9682 - val_loss: 0.0494 - val_accuracy: 0.9812\n",
      "Epoch 16/20\n",
      "10838/10838 [==============================] - 11s 1ms/step - loss: 0.0834 - accuracy: 0.9694 - val_loss: 0.0530 - val_accuracy: 0.9790\n",
      "Epoch 17/20\n",
      "10838/10838 [==============================] - 11s 1ms/step - loss: 0.0807 - accuracy: 0.9720 - val_loss: 0.0719 - val_accuracy: 0.9707\n",
      "Epoch 18/20\n",
      "10838/10838 [==============================] - 12s 1ms/step - loss: 0.0767 - accuracy: 0.9731 - val_loss: 1.0210 - val_accuracy: 0.7890\n",
      "Epoch 19/20\n",
      "10838/10838 [==============================] - 11s 1ms/step - loss: 0.0789 - accuracy: 0.9700 - val_loss: 0.0741 - val_accuracy: 0.9712\n",
      "Epoch 20/20\n",
      "10838/10838 [==============================] - 11s 1ms/step - loss: 0.0712 - accuracy: 0.9756 - val_loss: 0.6901 - val_accuracy: 0.7685\n",
      "\n",
      "\n",
      "1806/1806 [==============================] - 1s 335us/step\n",
      "\n",
      "-------------Model Evaluation Results Fold_5-----------\n",
      "accuracy: 76.85%\n",
      "\n",
      "------------------------------------------------------------------------------------------------------------\n"
     ]
    },
    {
     "name": "stdout",
     "output_type": "stream",
     "text": [
      "\n",
      "\n",
      "Start Training Fold_6--------------------------------------\n",
      "Train on 10838 samples, validate on 1806 samples\n",
      "Epoch 1/20\n",
      "10838/10838 [==============================] - 11s 1ms/step - loss: 0.0987 - accuracy: 0.9627 - val_loss: 0.0195 - val_accuracy: 0.9983\n",
      "Epoch 2/20\n",
      "10838/10838 [==============================] - 11s 1ms/step - loss: 0.1020 - accuracy: 0.9623 - val_loss: 0.5827 - val_accuracy: 0.9053\n",
      "Epoch 3/20\n",
      "10838/10838 [==============================] - 12s 1ms/step - loss: 0.0932 - accuracy: 0.9644 - val_loss: 0.0091 - val_accuracy: 0.9989\n",
      "Epoch 4/20\n",
      "10838/10838 [==============================] - 11s 1ms/step - loss: 0.0849 - accuracy: 0.9676 - val_loss: 0.3574 - val_accuracy: 0.9535\n",
      "Epoch 5/20\n",
      "10838/10838 [==============================] - 11s 1ms/step - loss: 0.0743 - accuracy: 0.9730 - val_loss: 0.0763 - val_accuracy: 0.9828\n",
      "Epoch 6/20\n",
      "10838/10838 [==============================] - 11s 1ms/step - loss: 0.0807 - accuracy: 0.9700 - val_loss: 0.0100 - val_accuracy: 0.9989\n",
      "Epoch 7/20\n",
      "10838/10838 [==============================] - 11s 1ms/step - loss: 0.0756 - accuracy: 0.9741 - val_loss: 0.0214 - val_accuracy: 0.9939\n",
      "Epoch 8/20\n",
      "10838/10838 [==============================] - 12s 1ms/step - loss: 0.0765 - accuracy: 0.9717 - val_loss: 0.0413 - val_accuracy: 0.9862\n",
      "Epoch 9/20\n",
      "10838/10838 [==============================] - 12s 1ms/step - loss: 0.0734 - accuracy: 0.9726 - val_loss: 0.0246 - val_accuracy: 0.9922\n",
      "Epoch 10/20\n",
      "10838/10838 [==============================] - 11s 1ms/step - loss: 0.0759 - accuracy: 0.9725 - val_loss: 0.0220 - val_accuracy: 0.9950\n",
      "Epoch 11/20\n",
      "10838/10838 [==============================] - 11s 1ms/step - loss: 0.0691 - accuracy: 0.9753 - val_loss: 0.0167 - val_accuracy: 0.9961\n",
      "Epoch 12/20\n",
      "10838/10838 [==============================] - 11s 1ms/step - loss: 0.0729 - accuracy: 0.9740 - val_loss: 0.0988 - val_accuracy: 0.9668\n",
      "Epoch 13/20\n",
      "10838/10838 [==============================] - 12s 1ms/step - loss: 0.0680 - accuracy: 0.9742 - val_loss: 0.4134 - val_accuracy: 0.8571\n",
      "Epoch 14/20\n",
      "10838/10838 [==============================] - 12s 1ms/step - loss: 0.0736 - accuracy: 0.9743 - val_loss: 0.1617 - val_accuracy: 0.9413\n",
      "Epoch 15/20\n",
      "10838/10838 [==============================] - 11s 1ms/step - loss: 0.0615 - accuracy: 0.9777 - val_loss: 0.0307 - val_accuracy: 0.9873\n",
      "Epoch 16/20\n",
      "10838/10838 [==============================] - 11s 1ms/step - loss: 0.0620 - accuracy: 0.9769 - val_loss: 0.5802 - val_accuracy: 0.8439\n",
      "Epoch 17/20\n",
      "10838/10838 [==============================] - 11s 1ms/step - loss: 0.0577 - accuracy: 0.9788 - val_loss: 0.2387 - val_accuracy: 0.9186\n",
      "Epoch 18/20\n",
      "10838/10838 [==============================] - 12s 1ms/step - loss: 0.0632 - accuracy: 0.9763 - val_loss: 0.4162 - val_accuracy: 0.8632\n",
      "Epoch 19/20\n",
      "10838/10838 [==============================] - 12s 1ms/step - loss: 0.0667 - accuracy: 0.9774 - val_loss: 0.1381 - val_accuracy: 0.9507\n",
      "Epoch 20/20\n",
      "10838/10838 [==============================] - 11s 1ms/step - loss: 0.0654 - accuracy: 0.9767 - val_loss: 0.0769 - val_accuracy: 0.9712\n",
      "\n",
      "\n",
      "1806/1806 [==============================] - 1s 349us/step\n",
      "\n",
      "-------------Model Evaluation Results Fold_6-----------\n",
      "accuracy: 97.12%\n",
      "\n",
      "------------------------------------------------------------------------------------------------------------\n",
      "\n",
      "\n",
      "Start Training Fold_7--------------------------------------\n",
      "Train on 10838 samples, validate on 1806 samples\n",
      "Epoch 1/20\n",
      "10838/10838 [==============================] - 11s 1ms/step - loss: 0.0824 - accuracy: 0.9695 - val_loss: 0.0067 - val_accuracy: 0.9989\n",
      "Epoch 2/20\n",
      "10838/10838 [==============================] - 11s 1ms/step - loss: 0.0719 - accuracy: 0.9726 - val_loss: 0.0249 - val_accuracy: 0.9911\n",
      "Epoch 3/20\n",
      "10838/10838 [==============================] - 11s 1ms/step - loss: 0.0658 - accuracy: 0.9775 - val_loss: 0.0048 - val_accuracy: 1.0000\n",
      "Epoch 4/20\n",
      "10838/10838 [==============================] - 12s 1ms/step - loss: 0.0671 - accuracy: 0.9761 - val_loss: 0.1749 - val_accuracy: 0.9396\n",
      "Epoch 5/20\n",
      "10838/10838 [==============================] - 11s 1ms/step - loss: 0.0562 - accuracy: 0.9803 - val_loss: 0.0050 - val_accuracy: 0.9994\n",
      "Epoch 6/20\n",
      "10838/10838 [==============================] - 11s 1ms/step - loss: 0.0566 - accuracy: 0.9784 - val_loss: 0.1310 - val_accuracy: 0.9590\n",
      "Epoch 7/20\n",
      "10838/10838 [==============================] - 11s 1ms/step - loss: 0.0668 - accuracy: 0.9747 - val_loss: 0.7142 - val_accuracy: 0.7685\n",
      "Epoch 8/20\n",
      "10838/10838 [==============================] - 11s 1ms/step - loss: 0.0617 - accuracy: 0.9792 - val_loss: 0.3970 - val_accuracy: 0.8682\n",
      "Epoch 9/20\n",
      "10838/10838 [==============================] - 12s 1ms/step - loss: 0.0548 - accuracy: 0.9804 - val_loss: 0.0584 - val_accuracy: 0.9867\n",
      "Epoch 10/20\n",
      "10838/10838 [==============================] - 12s 1ms/step - loss: 0.0643 - accuracy: 0.9765 - val_loss: 0.6157 - val_accuracy: 0.8300\n",
      "Epoch 11/20\n",
      "10838/10838 [==============================] - 11s 1ms/step - loss: 0.0615 - accuracy: 0.9773 - val_loss: 0.4114 - val_accuracy: 0.8760\n",
      "Epoch 12/20\n",
      "10838/10838 [==============================] - 11s 1ms/step - loss: 0.0548 - accuracy: 0.9796 - val_loss: 0.0192 - val_accuracy: 0.9956\n",
      "Epoch 13/20\n",
      "10838/10838 [==============================] - 11s 1ms/step - loss: 0.0594 - accuracy: 0.9776 - val_loss: 0.8018 - val_accuracy: 0.7940\n",
      "Epoch 14/20\n",
      "10838/10838 [==============================] - 12s 1ms/step - loss: 0.0562 - accuracy: 0.9798 - val_loss: 0.0603 - val_accuracy: 0.9795\n",
      "Epoch 15/20\n",
      "10838/10838 [==============================] - 11s 1ms/step - loss: 0.0569 - accuracy: 0.9796 - val_loss: 0.0240 - val_accuracy: 0.9922\n",
      "Epoch 16/20\n",
      "10838/10838 [==============================] - 11s 1ms/step - loss: 0.0535 - accuracy: 0.9813 - val_loss: 0.0458 - val_accuracy: 0.9856\n",
      "Epoch 17/20\n",
      "10838/10838 [==============================] - 11s 1ms/step - loss: 0.0498 - accuracy: 0.9830 - val_loss: 0.0100 - val_accuracy: 0.9983\n",
      "Epoch 18/20\n",
      "10838/10838 [==============================] - 11s 1ms/step - loss: 0.0535 - accuracy: 0.9801 - val_loss: 0.2702 - val_accuracy: 0.9230\n",
      "Epoch 19/20\n",
      "10838/10838 [==============================] - 12s 1ms/step - loss: 0.0587 - accuracy: 0.9804 - val_loss: 0.1038 - val_accuracy: 0.9668\n",
      "Epoch 20/20\n",
      "10838/10838 [==============================] - 12s 1ms/step - loss: 0.0505 - accuracy: 0.9803 - val_loss: 0.0206 - val_accuracy: 0.9956\n",
      "\n",
      "\n",
      "1806/1806 [==============================] - 1s 338us/step\n",
      "\n",
      "-------------Model Evaluation Results Fold_7-----------\n",
      "accuracy: 99.56%\n",
      "\n",
      "------------------------------------------------------------------------------------------------------------\n",
      "85.41% (+/- 10.63%)\n"
     ]
    }
   ],
   "source": [
    "from sklearn.model_selection import StratifiedKFold\n",
    "\n",
    "skf = StratifiedKFold(n_splits=7, random_state=None)\n",
    "\n",
    "cvscores = []\n",
    "acc = []\n",
    "vacc = []\n",
    "loss = []\n",
    "vloss = []\n",
    "i = 0\n",
    "for train_index, val_index in skf.split(features,labels):\n",
    "    i = i + 1\n",
    "    X_train, X_val = features[train_index], features[val_index]\n",
    "    Y_train, Y_val = labels[train_index], labels[val_index]\n",
    "    name = 'model_HOG_v' + str(i) + '.hdf5'\n",
    "    mcp = ModelCheckpoint(filepath=name, monitor=\"val_accuracy\", save_best_only=True, save_weights_only=False)\n",
    "    \n",
    "    print('\\n')\n",
    "    print('Start Training Fold_' + str(i)+'--------------------------------------')\n",
    "    #print('\\n')\n",
    "    hist = model.fit(X_train,Y_train, validation_data = (X_val,Y_val) , \n",
    "                         epochs = 20,verbose=1,class_weight = class_weights,callbacks=[mcp])\n",
    "    print('\\n')\n",
    "    scores = model.evaluate(X_val,Y_val, verbose=1)\n",
    "    print('\\n-------------Model Evaluation Results '+ 'Fold_' + str(i) + '-----------')\n",
    "    print(\"%s: %.2f%%\" % (model.metrics_names[1], scores[1]*100))\n",
    "    print('\\n------------------------------------------------------------------------------------------------------------')\n",
    "    cvscores.append(scores[1] * 100)\n",
    "    acc.append(hist.history['accuracy'])\n",
    "    vacc.append(hist.history['val_accuracy'])\n",
    "    loss.append(hist.history['loss'])\n",
    "    vloss.append(hist.history['val_loss'])\n",
    "\n",
    "print(\"%.2f%% (+/- %.2f%%)\" % (np.mean(cvscores), np.std(cvscores)))"
   ]
  },
  {
   "cell_type": "markdown",
   "metadata": {},
   "source": [
    "# Predictions on Test Data"
   ]
  },
  {
   "cell_type": "code",
   "execution_count": 15,
   "metadata": {},
   "outputs": [
    {
     "data": {
      "text/plain": [
       "(1406, 150, 150, 1)"
      ]
     },
     "execution_count": 15,
     "metadata": {},
     "output_type": "execute_result"
    }
   ],
   "source": [
    "X_test.shape"
   ]
  },
  {
   "cell_type": "code",
   "execution_count": 16,
   "metadata": {},
   "outputs": [
    {
     "name": "stdout",
     "output_type": "stream",
     "text": [
      "1406/1406 [==============================] - 1s 406us/step\n",
      "\n",
      "CV_Results_Overall Model Performance\n",
      "[0.8544035358076245, 0.8122332692146301]\n"
     ]
    }
   ],
   "source": [
    "# Cross-Validation Predictions\n",
    "test_results = model.evaluate(X_test,Y_test)\n",
    "y_test_pred = model.predict_classes(X_test)\n",
    "\n",
    "print('\\nCV_Results_Overall Model Performance')\n",
    "print(test_results)"
   ]
  },
  {
   "cell_type": "markdown",
   "metadata": {},
   "source": [
    "## Evaluation of each fold"
   ]
  },
  {
   "cell_type": "code",
   "execution_count": 17,
   "metadata": {},
   "outputs": [],
   "source": [
    "fold_results = []"
   ]
  },
  {
   "cell_type": "code",
   "execution_count": 18,
   "metadata": {},
   "outputs": [
    {
     "name": "stdout",
     "output_type": "stream",
     "text": [
      "1406/1406 [==============================] - 0s 337us/step\n",
      "\n",
      "---CV_Results_Fold_1---\n",
      "[0.5035129894063958, 0.7766714096069336]\n"
     ]
    }
   ],
   "source": [
    "model.load_weights('../input/weights/model_HOG_v1.hdf5')\n",
    "fold1_results = model.evaluate(X_test,Y_test)\n",
    "\n",
    "print('\\n---CV_Results_Fold_1---')\n",
    "print(fold1_results)\n",
    "fold_results.append(fold1_results)"
   ]
  },
  {
   "cell_type": "code",
   "execution_count": 19,
   "metadata": {},
   "outputs": [
    {
     "name": "stdout",
     "output_type": "stream",
     "text": [
      "1406/1406 [==============================] - 1s 381us/step\n",
      "\n",
      "---CV_Results_Fold_2---\n",
      "[0.4729670612605164, 0.7901849150657654]\n"
     ]
    }
   ],
   "source": [
    "model.load_weights('../input/weights/model_HOG_v2.hdf5')\n",
    "fold2_results = model.evaluate(X_test,Y_test)\n",
    "\n",
    "print('\\n---CV_Results_Fold_2---')\n",
    "print(fold2_results)\n",
    "fold_results.append(fold2_results)"
   ]
  },
  {
   "cell_type": "code",
   "execution_count": 20,
   "metadata": {},
   "outputs": [
    {
     "name": "stdout",
     "output_type": "stream",
     "text": [
      "1406/1406 [==============================] - 0s 335us/step\n",
      "\n",
      "---CV_Results_Fold_3---\n",
      "[0.5356033935316257, 0.8143669962882996]\n"
     ]
    }
   ],
   "source": [
    "model.load_weights('../input/weights/model_HOG_v3.hdf5')\n",
    "fold3_results = model.evaluate(X_test,Y_test)\n",
    "\n",
    "print('\\n---CV_Results_Fold_3---')\n",
    "print(fold3_results)\n",
    "fold_results.append(fold3_results)"
   ]
  },
  {
   "cell_type": "code",
   "execution_count": 21,
   "metadata": {},
   "outputs": [
    {
     "name": "stdout",
     "output_type": "stream",
     "text": [
      "1406/1406 [==============================] - 0s 339us/step\n",
      "\n",
      "---CV_Results_Fold_4---\n",
      "[0.5789139464094832, 0.8115220665931702]\n"
     ]
    }
   ],
   "source": [
    "model.load_weights('../input/weights/model_HOG_v4.hdf5')\n",
    "fold4_results = model.evaluate(X_test,Y_test)\n",
    "\n",
    "print('\\n---CV_Results_Fold_4---')\n",
    "print(fold4_results)\n",
    "fold_results.append(fold4_results)"
   ]
  },
  {
   "cell_type": "code",
   "execution_count": 22,
   "metadata": {},
   "outputs": [
    {
     "name": "stdout",
     "output_type": "stream",
     "text": [
      "1406/1406 [==============================] - 0s 335us/step\n",
      "\n",
      "---CV_Results_Fold_5---\n",
      "[0.7313597719496379, 0.8214793801307678]\n"
     ]
    }
   ],
   "source": [
    "model.load_weights('../input/weights/model_HOG_v5.hdf5')\n",
    "fold5_results = model.evaluate(X_test,Y_test)\n",
    "\n",
    "print('\\n---CV_Results_Fold_5---')\n",
    "print(fold5_results)\n",
    "fold_results.append(fold5_results)"
   ]
  },
  {
   "cell_type": "code",
   "execution_count": 23,
   "metadata": {},
   "outputs": [
    {
     "name": "stdout",
     "output_type": "stream",
     "text": [
      "1406/1406 [==============================] - 0s 335us/step\n",
      "\n",
      "---CV_Results_Fold_6---\n",
      "[0.6748021146650843, 0.8300142288208008]\n"
     ]
    }
   ],
   "source": [
    "model.load_weights('../input/weights/model_HOG_v6.hdf5')\n",
    "fold6_results = model.evaluate(X_test,Y_test)\n",
    "\n",
    "print('\\n---CV_Results_Fold_6---')\n",
    "print(fold6_results)\n",
    "fold_results.append(fold6_results)"
   ]
  },
  {
   "cell_type": "code",
   "execution_count": 24,
   "metadata": {},
   "outputs": [
    {
     "name": "stdout",
     "output_type": "stream",
     "text": [
      "1406/1406 [==============================] - 0s 335us/step\n",
      "\n",
      "---CV_Results_Fold_7---\n",
      "[0.765283549154127, 0.8100996017456055]\n"
     ]
    }
   ],
   "source": [
    "model.load_weights('../input/weights/model_HOG_v7.hdf5')\n",
    "fold7_results = model.evaluate(X_test,Y_test)\n",
    "\n",
    "print('\\n---CV_Results_Fold_7---')\n",
    "print(fold7_results)\n",
    "fold_results.append(fold7_results)"
   ]
  },
  {
   "cell_type": "code",
   "execution_count": 25,
   "metadata": {},
   "outputs": [],
   "source": [
    "fold_results = np.array(fold_results)"
   ]
  },
  {
   "cell_type": "code",
   "execution_count": 26,
   "metadata": {},
   "outputs": [],
   "source": [
    "overall_loss = fold_results[:,0]\n",
    "overall_accu = fold_results[:,1]"
   ]
  },
  {
   "cell_type": "code",
   "execution_count": 27,
   "metadata": {},
   "outputs": [
    {
     "name": "stdout",
     "output_type": "stream",
     "text": [
      "\n",
      "\n",
      "Test Data Accuracy : 80.78% (+/- 1.70%)\n"
     ]
    }
   ],
   "source": [
    "print(\"\\n\\nTest Data Accuracy : %.2f%% (+/- %.2f%%)\" % (np.mean(overall_accu)*100, np.std(overall_accu)*100))"
   ]
  },
  {
   "cell_type": "markdown",
   "metadata": {},
   "source": [
    "# Best Model Results"
   ]
  },
  {
   "cell_type": "code",
   "execution_count": 28,
   "metadata": {},
   "outputs": [],
   "source": [
    "model.load_weights('../input/weights/model_HOG_v6.hdf5')"
   ]
  },
  {
   "cell_type": "code",
   "execution_count": 29,
   "metadata": {},
   "outputs": [
    {
     "name": "stdout",
     "output_type": "stream",
     "text": [
      "Best CV Fold Accuracy 83.00%\n"
     ]
    }
   ],
   "source": [
    "y_pred = model.predict_classes(X_test)\n",
    "\n",
    "print('Best CV Fold Accuracy %.2f%%' % (metrics.accuracy_score(Y_test, y_pred)*100))"
   ]
  },
  {
   "cell_type": "code",
   "execution_count": 30,
   "metadata": {},
   "outputs": [
    {
     "name": "stdout",
     "output_type": "stream",
     "text": [
      "Model Accuracy 81.22%\n"
     ]
    }
   ],
   "source": [
    "print('Model Accuracy %.2f%%' % (metrics.accuracy_score(Y_test, y_test_pred)*100))"
   ]
  },
  {
   "cell_type": "markdown",
   "metadata": {},
   "source": [
    "# Visualise Results"
   ]
  },
  {
   "cell_type": "markdown",
   "metadata": {},
   "source": [
    "## Train Validation Accuracy"
   ]
  },
  {
   "cell_type": "code",
   "execution_count": 31,
   "metadata": {},
   "outputs": [],
   "source": [
    "acc_1 = np.hstack((acc[0],acc[1],acc[2],acc[3],acc[4],acc[5],acc[6]))\n",
    "vacc_1 = np.hstack((vacc[0],vacc[1],vacc[2],vacc[3],vacc[4],vacc[5],vacc[6]))\n",
    "loss_1 = np.hstack((loss[0],loss[1],loss[2],loss[3],loss[4],loss[5],loss[6]))\n",
    "vloss_1 = np.hstack((vloss[0],vloss[1],vloss[2],vloss[3],vloss[4],vloss[5],vloss[6]))"
   ]
  },
  {
   "cell_type": "code",
   "execution_count": 32,
   "metadata": {},
   "outputs": [],
   "source": [
    "def plot_model_history(acc,vacc,loss,vloss):\n",
    "    fig, axs = plt.subplots(1,2,figsize=(15,5))\n",
    "    axs[0].plot(range(1,len(acc)+1),acc)\n",
    "    axs[0].plot(range(1,len(vacc)+1),vacc)\n",
    "    axs[0].set_title('Model Accuracy')\n",
    "    axs[0].set_ylabel('Accuracy')\n",
    "    axs[0].set_xlabel('Epoch')\n",
    "    axs[0].set_xticks(np.arange(1,len(acc)+1),len(acc)/10)\n",
    "    axs[0].legend(['train', 'val'], loc='best')\n",
    "    axs[1].plot(range(1,len(loss)+1),loss)\n",
    "    axs[1].plot(range(1,len(vloss)+1),vloss)\n",
    "    axs[1].set_title('Model Loss')\n",
    "    axs[1].set_ylabel('Loss')\n",
    "    axs[1].set_xlabel('Epoch')\n",
    "    axs[1].set_xticks(np.arange(1,len(loss)+1),len(loss)/10)\n",
    "    axs[1].legend(['train', 'val'], loc='best')\n",
    "    plt.show()"
   ]
  },
  {
   "cell_type": "code",
   "execution_count": 33,
   "metadata": {},
   "outputs": [
    {
     "name": "stderr",
     "output_type": "stream",
     "text": [
      "/opt/conda/lib/python3.7/site-packages/ipykernel_launcher.py:8: MatplotlibDeprecationWarning: Passing the minor parameter of set_xticks() positionally is deprecated since Matplotlib 3.2; the parameter will become keyword-only two minor releases later.\n",
      "  \n",
      "/opt/conda/lib/python3.7/site-packages/ipykernel_launcher.py:15: MatplotlibDeprecationWarning: Passing the minor parameter of set_xticks() positionally is deprecated since Matplotlib 3.2; the parameter will become keyword-only two minor releases later.\n",
      "  from ipykernel import kernelapp as app\n"
     ]
    },
    {
     "data": {
      "image/png": "[encoded data removed]",
      "text/plain": [
       "<Figure size 1080x360 with 2 Axes>"
      ]
     },
     "metadata": {
      "needs_background": "light"
     },
     "output_type": "display_data"
    }
   ],
   "source": [
    "plot_model_history(acc_1,vacc_1,loss_1,vloss_1)"
   ]
  },
  {
   "cell_type": "markdown",
   "metadata": {},
   "source": [
    "# Confusion Matrix"
   ]
  },
  {
   "cell_type": "code",
   "execution_count": 34,
   "metadata": {},
   "outputs": [],
   "source": [
    "def plot_confusion_matrix(cm,target_names,title='Confusion matrix',cmap=None,normalize=True):\n",
    "    import matplotlib.pyplot as plt\n",
    "    import numpy as np\n",
    "    import itertools\n",
    "\n",
    "    accuracy = np.trace(cm) / float(np.sum(cm))\n",
    "    misclass = 1 - accuracy\n",
    "\n",
    "    if cmap is None:\n",
    "        cmap = plt.get_cmap('Blues')\n",
    "\n",
    "    plt.figure(figsize=(6, 4))\n",
    "    plt.grid(b=False)\n",
    "    plt.imshow(cm, interpolation='nearest', cmap=cmap)\n",
    "    plt.title(title,fontsize=12,weight='bold')\n",
    "    #plt.legend('off')\n",
    "    #plt.colorbar()\n",
    "\n",
    "    if target_names is not None:\n",
    "        tick_marks = np.arange(len(target_names))\n",
    "        plt.xticks(tick_marks, target_names, rotation=0,fontsize=12,weight='bold')\n",
    "        plt.yticks(tick_marks, target_names,fontsize=12,weight='bold')\n",
    "    if normalize:\n",
    "        cm = cm.astype('float') / cm.sum(axis=1)[:, np.newaxis]\n",
    "\n",
    "    thresh = cm.max() / 1.5 if normalize else cm.max() / 2\n",
    "    for i, j in itertools.product(range(cm.shape[0]), range(cm.shape[1])):\n",
    "        if normalize:\n",
    "            plt.text(j, i, \"{:0.4f}\".format(cm[i, j]),\n",
    "                     horizontalalignment=\"center\",\n",
    "                     color=\"white\" if cm[i, j] > thresh else \"black\",fontsize=12,weight='bold')\n",
    "        else:\n",
    "            plt.text(j, i, \"{:,}\".format(cm[i, j]),\n",
    "                     horizontalalignment=\"center\",\n",
    "                     color=\"white\" if cm[i, j] > thresh else \"black\",fontsize=12,weight='bold')\n",
    "    plt.tight_layout()\n",
    "    plt.ylabel('True label',fontsize=12,weight='bold')\n",
    "    plt.xlabel('\\n Predicted label \\n Test accuracy={:0.2f}%; Misclass={:0.2f}%'.format(accuracy*100, misclass*100),fontsize=12,weight='bold')\n",
    "    #plt.get_legend().remove()\n",
    "    \n",
    "    plt.show()"
   ]
  },
  {
   "cell_type": "code",
   "execution_count": 35,
   "metadata": {},
   "outputs": [
    {
     "data": {
      "image/png": "[encoded data removed]",
      "text/plain": [
       "<Figure size 432x288 with 1 Axes>"
      ]
     },
     "metadata": {
      "needs_background": "light"
     },
     "output_type": "display_data"
    }
   ],
   "source": [
    "from sklearn.metrics import confusion_matrix\n",
    "cm = confusion_matrix(Y_test,y_pred)\n",
    "plot_confusion_matrix(cm = cm,normalize= False,cmap ='binary',target_names = ['nocancer', 'cancer'],\n",
    "                      title= '')"
   ]
  },
  {
   "cell_type": "code",
   "execution_count": 36,
   "metadata": {},
   "outputs": [
    {
     "name": "stdout",
     "output_type": "stream",
     "text": [
      "547 131 108 620\n"
     ]
    }
   ],
   "source": [
    "tn, fp, fn, tp = confusion_matrix(Y_test,y_pred).ravel()\n",
    "print(tn, fp, fn, tp)"
   ]
  },
  {
   "cell_type": "code",
   "execution_count": 37,
   "metadata": {},
   "outputs": [
    {
     "name": "stdout",
     "output_type": "stream",
     "text": [
      "Sensitivity 85.16%\n"
     ]
    }
   ],
   "source": [
    "print(\"Sensitivity %.2f%%\" % ((tp / (tp + fn))*100))"
   ]
  },
  {
   "cell_type": "code",
   "execution_count": 38,
   "metadata": {},
   "outputs": [
    {
     "name": "stdout",
     "output_type": "stream",
     "text": [
      "Specificity 80.68%\n"
     ]
    }
   ],
   "source": [
    "print(\"Specificity %.2f%%\" % ((tn / (tn + fp))*100))"
   ]
  },
  {
   "cell_type": "markdown",
   "metadata": {},
   "source": [
    "# Classification Report"
   ]
  },
  {
   "cell_type": "code",
   "execution_count": 39,
   "metadata": {},
   "outputs": [
    {
     "name": "stdout",
     "output_type": "stream",
     "text": [
      "              precision    recall  f1-score   support\n",
      "\n",
      "    nocancer       0.84      0.81      0.82       678\n",
      "      cancer       0.83      0.85      0.84       728\n",
      "\n",
      "    accuracy                           0.83      1406\n",
      "   macro avg       0.83      0.83      0.83      1406\n",
      "weighted avg       0.83      0.83      0.83      1406\n",
      "\n"
     ]
    }
   ],
   "source": [
    "from sklearn.metrics import classification_report\n",
    "\n",
    "# Generate a classification report\n",
    "report = classification_report(Y_test, y_pred, target_names=['nocancer','cancer'])\n",
    "\n",
    "print(report)"
   ]
  },
  {
   "cell_type": "code",
   "execution_count": 40,
   "metadata": {},
   "outputs": [
    {
     "name": "stdout",
     "output_type": "stream",
     "text": [
      "82.99%\n"
     ]
    }
   ],
   "source": [
    "print(\"%.2f%%\" % (metrics.f1_score(Y_test, y_pred,average='weighted')*100))"
   ]
  },
  {
   "cell_type": "markdown",
   "metadata": {},
   "source": [
    "# Saving Train / Validation Data"
   ]
  },
  {
   "cell_type": "code",
   "execution_count": null,
   "metadata": {},
   "outputs": [],
   "source": [
    "HOG_result = pd.DataFrame()"
   ]
  },
  {
   "cell_type": "code",
   "execution_count": null,
   "metadata": {},
   "outputs": [],
   "source": [
    "HOG_result['hog_acc'] = acc_1\n",
    "HOG_result['hog_vacc'] = vacc_1\n",
    "HOG_result['hog_loss'] = loss_1\n",
    "HOG_result['hog_vloss'] = vloss_1"
   ]
  },
  {
   "cell_type": "code",
   "execution_count": null,
   "metadata": {},
   "outputs": [],
   "source": [
    "HOG_result.head()"
   ]
  },
  {
   "cell_type": "code",
   "execution_count": null,
   "metadata": {},
   "outputs": [],
   "source": [
    "HOG_result.to_csv('hog_results.csv', sep='\\t', encoding='utf-8')"
   ]
  },
  {
   "cell_type": "code",
   "execution_count": null,
   "metadata": {},
   "outputs": [],
   "source": []
  }
 ],
 "metadata": {
  "kernelspec": {
   "display_name": "Python 3",
   "language": "python",
   "name": "python3"
  },
  "language_info": {
   "codemirror_mode": {
    "name": "ipython",
    "version": 3
   },
   "file_extension": ".py",
   "mimetype": "text/x-python",
   "name": "python",
   "nbconvert_exporter": "python",
   "pygments_lexer": "ipython3",
   "version": "3.7.6"
  }
 },
 "nbformat": 4,
 "nbformat_minor": 4
}
