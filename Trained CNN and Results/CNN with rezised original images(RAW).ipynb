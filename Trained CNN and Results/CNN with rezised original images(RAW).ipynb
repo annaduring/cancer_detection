{
 "cells": [
  {
   "cell_type": "code",
   "execution_count": 1,
   "metadata": {},
   "outputs": [
    {
     "name": "stderr",
     "output_type": "stream",
     "text": [
      "Using TensorFlow backend.\n"
     ]
    }
   ],
   "source": [
    "import glob\n",
    "import cv2 as cv\n",
    "import numpy as np\n",
    "import pandas as pd\n",
    "import matplotlib.pyplot as plt\n",
    "%matplotlib inline\n",
    "from skimage.io import imread, imshow\n",
    "\n",
    "from keras.models import Sequential\n",
    "from keras.layers import Conv2D, MaxPooling2D , Input\n",
    "from keras.layers import Activation, Dropout, Flatten, Dense\n",
    "from keras.optimizers import SGD, Adam\n",
    "from keras.models import Sequential\n",
    "from keras.layers import BatchNormalization, Dropout\n",
    "from keras.optimizers import Adam\n",
    "from sklearn.model_selection import train_test_split\n",
    "from keras.utils import to_categorical\n",
    "from sklearn.utils import class_weight\n",
    "from sklearn import metrics\n",
    "from keras import regularizers\n",
    "from keras.callbacks import ModelCheckpoint"
   ]
  },
  {
   "cell_type": "code",
   "execution_count": 2,
   "metadata": {},
   "outputs": [],
   "source": [
    "data = np.load('../input/cnn-data-new/Train_RAW_v2.npz')"
   ]
  },
  {
   "cell_type": "code",
   "execution_count": 3,
   "metadata": {},
   "outputs": [],
   "source": [
    "test_data = np.load('../input/cnn-data-new/Test_RAW_v2.npz')"
   ]
  },
  {
   "cell_type": "code",
   "execution_count": 4,
   "metadata": {},
   "outputs": [],
   "source": [
    "X_test = test_data['features']\n",
    "Y_test = test_data['labels']"
   ]
  },
  {
   "cell_type": "code",
   "execution_count": 5,
   "metadata": {},
   "outputs": [
    {
     "data": {
      "text/plain": [
       "['features', 'labels']"
      ]
     },
     "execution_count": 5,
     "metadata": {},
     "output_type": "execute_result"
    }
   ],
   "source": [
    "data.files"
   ]
  },
  {
   "cell_type": "code",
   "execution_count": 6,
   "metadata": {},
   "outputs": [],
   "source": [
    "features = data['features']\n",
    "labels = data['labels']"
   ]
  },
  {
   "cell_type": "code",
   "execution_count": 7,
   "metadata": {},
   "outputs": [],
   "source": [
    "img = np.reshape(features[9],(150,150,3))"
   ]
  },
  {
   "cell_type": "code",
   "execution_count": 8,
   "metadata": {},
   "outputs": [
    {
     "data": {
      "text/plain": [
       "(-0.5, 149.5, 149.5, -0.5)"
      ]
     },
     "execution_count": 8,
     "metadata": {},
     "output_type": "execute_result"
    },
    {
     "data": {
      "image/png": "[encoded data removed]",
      "text/plain": [
       "<Figure size 432x288 with 1 Axes>"
      ]
     },
     "metadata": {
      "needs_background": "light"
     },
     "output_type": "display_data"
    }
   ],
   "source": [
    "plt.imshow(img)\n",
    "plt.title('Original image (Resized)')\n",
    "plt.axis('off')"
   ]
  },
  {
   "cell_type": "code",
   "execution_count": 9,
   "metadata": {},
   "outputs": [],
   "source": [
    "#X_train, X_val, Y_train, Y_val = train_test_split(features, labels, test_size=0.20, random_state=42)"
   ]
  },
  {
   "cell_type": "code",
   "execution_count": 10,
   "metadata": {},
   "outputs": [
    {
     "name": "stdout",
     "output_type": "stream",
     "text": [
      "[1.03639344 0.96607579]\n"
     ]
    }
   ],
   "source": [
    "class_weights = class_weight.compute_class_weight('balanced',np.unique(labels),labels)\n",
    "\n",
    "print(class_weights)"
   ]
  },
  {
   "cell_type": "code",
   "execution_count": 11,
   "metadata": {},
   "outputs": [],
   "source": [
    "def build_cnn():\n",
    "    \n",
    "    model = Sequential()\n",
    "    model.add(Conv2D(32, (3, 3), input_shape=(150,150,3) , activation='relu'))\n",
    "    model.add(MaxPooling2D(pool_size=(2, 2)))\n",
    "    \n",
    "    model.add(Conv2D(64, (3, 3), activation='relu'))\n",
    "    model.add(BatchNormalization(axis = -1))\n",
    "    model.add(MaxPooling2D(pool_size=(2,2)))\n",
    "    model.add(Dropout(0.3))\n",
    "    \n",
    "    model.add(Conv2D(128, (3, 3), activation='relu'))\n",
    "    model.add(BatchNormalization(axis = -1))\n",
    "    model.add(MaxPooling2D(pool_size=(2,2)))\n",
    "    model.add(Dropout(0.3))\n",
    "    \n",
    "    model.add(Conv2D(256, (3, 3), activation='relu'))\n",
    "    model.add(BatchNormalization(axis = -1))\n",
    "    model.add(MaxPooling2D(pool_size=(2,2)))\n",
    "    model.add(Dropout(0.3))\n",
    "    \n",
    "    model.add(Conv2D(512, (3, 3), activation='relu'))\n",
    "    model.add(BatchNormalization(axis = -1))\n",
    "    model.add(MaxPooling2D(pool_size=(2,2)))\n",
    "    model.add(Dropout(0.3))\n",
    "\n",
    "    model.add(Flatten())\n",
    "    model.add(Dense(256 ,  activation='relu'))\n",
    "    model.add(BatchNormalization(axis = -1))\n",
    "    model.add(Dropout(0.2))\n",
    "    model.add(Dense(2 , activation ='softmax'))\n",
    "\n",
    "    return model"
   ]
  },
  {
   "cell_type": "code",
   "execution_count": 12,
   "metadata": {},
   "outputs": [],
   "source": [
    "model = build_cnn()\n",
    "model.compile(optimizer='adam', loss='sparse_categorical_crossentropy', metrics=['accuracy']) "
   ]
  },
  {
   "cell_type": "code",
   "execution_count": 13,
   "metadata": {},
   "outputs": [
    {
     "name": "stdout",
     "output_type": "stream",
     "text": [
      "Model: \"sequential_1\"\n",
      "_________________________________________________________________\n",
      "Layer (type)                 Output Shape              Param #   \n",
      "=================================================================\n",
      "conv2d_1 (Conv2D)            (None, 148, 148, 32)      896       \n",
      "_________________________________________________________________\n",
      "max_pooling2d_1 (MaxPooling2 (None, 74, 74, 32)        0         \n",
      "_________________________________________________________________\n",
      "conv2d_2 (Conv2D)            (None, 72, 72, 64)        18496     \n",
      "_________________________________________________________________\n",
      "batch_normalization_1 (Batch (None, 72, 72, 64)        256       \n",
      "_________________________________________________________________\n",
      "max_pooling2d_2 (MaxPooling2 (None, 36, 36, 64)        0         \n",
      "_________________________________________________________________\n",
      "dropout_1 (Dropout)          (None, 36, 36, 64)        0         \n",
      "_________________________________________________________________\n",
      "conv2d_3 (Conv2D)            (None, 34, 34, 128)       73856     \n",
      "_________________________________________________________________\n",
      "batch_normalization_2 (Batch (None, 34, 34, 128)       512       \n",
      "_________________________________________________________________\n",
      "max_pooling2d_3 (MaxPooling2 (None, 17, 17, 128)       0         \n",
      "_________________________________________________________________\n",
      "dropout_2 (Dropout)          (None, 17, 17, 128)       0         \n",
      "_________________________________________________________________\n",
      "conv2d_4 (Conv2D)            (None, 15, 15, 256)       295168    \n",
      "_________________________________________________________________\n",
      "batch_normalization_3 (Batch (None, 15, 15, 256)       1024      \n",
      "_________________________________________________________________\n",
      "max_pooling2d_4 (MaxPooling2 (None, 7, 7, 256)         0         \n",
      "_________________________________________________________________\n",
      "dropout_3 (Dropout)          (None, 7, 7, 256)         0         \n",
      "_________________________________________________________________\n",
      "conv2d_5 (Conv2D)            (None, 5, 5, 512)         1180160   \n",
      "_________________________________________________________________\n",
      "batch_normalization_4 (Batch (None, 5, 5, 512)         2048      \n",
      "_________________________________________________________________\n",
      "max_pooling2d_5 (MaxPooling2 (None, 2, 2, 512)         0         \n",
      "_________________________________________________________________\n",
      "dropout_4 (Dropout)          (None, 2, 2, 512)         0         \n",
      "_________________________________________________________________\n",
      "flatten_1 (Flatten)          (None, 2048)              0         \n",
      "_________________________________________________________________\n",
      "dense_1 (Dense)              (None, 256)               524544    \n",
      "_________________________________________________________________\n",
      "batch_normalization_5 (Batch (None, 256)               1024      \n",
      "_________________________________________________________________\n",
      "dropout_5 (Dropout)          (None, 256)               0         \n",
      "_________________________________________________________________\n",
      "dense_2 (Dense)              (None, 2)                 514       \n",
      "=================================================================\n",
      "Total params: 2,098,498\n",
      "Trainable params: 2,096,066\n",
      "Non-trainable params: 2,432\n",
      "_________________________________________________________________\n"
     ]
    }
   ],
   "source": [
    "model.summary()"
   ]
  },
  {
   "cell_type": "code",
   "execution_count": 14,
   "metadata": {},
   "outputs": [
    {
     "name": "stdout",
     "output_type": "stream",
     "text": [
      "\n",
      "\n",
      "Start Training Fold_1--------------------------------------\n",
      "Train on 10837 samples, validate on 1807 samples\n",
      "Epoch 1/20\n",
      "10837/10837 [==============================] - 19s 2ms/step - loss: 0.5500 - accuracy: 0.7593 - val_loss: 0.4638 - val_accuracy: 0.8046\n",
      "Epoch 2/20\n",
      "10837/10837 [==============================] - 12s 1ms/step - loss: 0.4330 - accuracy: 0.8109 - val_loss: 2.1358 - val_accuracy: 0.6220\n",
      "Epoch 3/20\n",
      "10837/10837 [==============================] - 12s 1ms/step - loss: 0.3981 - accuracy: 0.8262 - val_loss: 1.2573 - val_accuracy: 0.6884\n",
      "Epoch 4/20\n",
      "10837/10837 [==============================] - 12s 1ms/step - loss: 0.3842 - accuracy: 0.8321 - val_loss: 2.0506 - val_accuracy: 0.6835\n",
      "Epoch 5/20\n",
      "10837/10837 [==============================] - 12s 1ms/step - loss: 0.3727 - accuracy: 0.8361 - val_loss: 1.3579 - val_accuracy: 0.7421\n",
      "Epoch 6/20\n",
      "10837/10837 [==============================] - 12s 1ms/step - loss: 0.3539 - accuracy: 0.8469 - val_loss: 0.4984 - val_accuracy: 0.8019\n",
      "Epoch 7/20\n",
      "10837/10837 [==============================] - 12s 1ms/step - loss: 0.3423 - accuracy: 0.8540 - val_loss: 0.4538 - val_accuracy: 0.8279\n",
      "Epoch 8/20\n",
      "10837/10837 [==============================] - 12s 1ms/step - loss: 0.3231 - accuracy: 0.8645 - val_loss: 0.6126 - val_accuracy: 0.7106\n",
      "Epoch 9/20\n",
      "10837/10837 [==============================] - 12s 1ms/step - loss: 0.3014 - accuracy: 0.8738 - val_loss: 2.2882 - val_accuracy: 0.5379\n",
      "Epoch 10/20\n",
      "10837/10837 [==============================] - 12s 1ms/step - loss: 0.2931 - accuracy: 0.8773 - val_loss: 2.3715 - val_accuracy: 0.4903\n",
      "Epoch 11/20\n",
      "10837/10837 [==============================] - 12s 1ms/step - loss: 0.2931 - accuracy: 0.8780 - val_loss: 0.5212 - val_accuracy: 0.7903\n",
      "Epoch 12/20\n",
      "10837/10837 [==============================] - 12s 1ms/step - loss: 0.2883 - accuracy: 0.8797 - val_loss: 0.3762 - val_accuracy: 0.8312\n",
      "Epoch 13/20\n",
      "10837/10837 [==============================] - 12s 1ms/step - loss: 0.2696 - accuracy: 0.8913 - val_loss: 0.2816 - val_accuracy: 0.8821\n",
      "Epoch 14/20\n",
      "10837/10837 [==============================] - 12s 1ms/step - loss: 0.2770 - accuracy: 0.8866 - val_loss: 0.3443 - val_accuracy: 0.8594\n",
      "Epoch 15/20\n",
      "10837/10837 [==============================] - 12s 1ms/step - loss: 0.2622 - accuracy: 0.8922 - val_loss: 0.8208 - val_accuracy: 0.7261\n",
      "Epoch 16/20\n",
      "10837/10837 [==============================] - 12s 1ms/step - loss: 0.2502 - accuracy: 0.8959 - val_loss: 0.2711 - val_accuracy: 0.8926\n",
      "Epoch 17/20\n",
      "10837/10837 [==============================] - 12s 1ms/step - loss: 0.2518 - accuracy: 0.8994 - val_loss: 0.7519 - val_accuracy: 0.6823\n",
      "Epoch 18/20\n",
      "10837/10837 [==============================] - 12s 1ms/step - loss: 0.2392 - accuracy: 0.9024 - val_loss: 0.4969 - val_accuracy: 0.7853\n",
      "Epoch 19/20\n",
      "10837/10837 [==============================] - 12s 1ms/step - loss: 0.2201 - accuracy: 0.9102 - val_loss: 0.9377 - val_accuracy: 0.6956\n",
      "Epoch 20/20\n",
      "10837/10837 [==============================] - 12s 1ms/step - loss: 0.2252 - accuracy: 0.9102 - val_loss: 0.3216 - val_accuracy: 0.8683\n",
      "\n",
      "\n",
      "1807/1807 [==============================] - 1s 411us/step\n",
      "\n",
      "-------------Model Evaluation Results Fold_1-----------\n",
      "accuracy: 86.83%\n",
      "\n",
      "------------------------------------------------------------------------------------------------------------\n",
      "\n",
      "\n",
      "Start Training Fold_2--------------------------------------\n",
      "Train on 10837 samples, validate on 1807 samples\n",
      "Epoch 1/20\n",
      "10837/10837 [==============================] - 13s 1ms/step - loss: 0.2371 - accuracy: 0.9062 - val_loss: 0.8069 - val_accuracy: 0.6763\n",
      "Epoch 2/20\n",
      "10837/10837 [==============================] - 12s 1ms/step - loss: 0.2318 - accuracy: 0.9068 - val_loss: 0.8646 - val_accuracy: 0.6646\n",
      "Epoch 3/20\n",
      "10837/10837 [==============================] - 12s 1ms/step - loss: 0.2213 - accuracy: 0.9096 - val_loss: 1.4875 - val_accuracy: 0.6502\n",
      "Epoch 4/20\n",
      "10837/10837 [==============================] - 12s 1ms/step - loss: 0.2136 - accuracy: 0.9148 - val_loss: 0.6877 - val_accuracy: 0.7648\n",
      "Epoch 5/20\n",
      "10837/10837 [==============================] - 12s 1ms/step - loss: 0.1997 - accuracy: 0.9203 - val_loss: 0.5088 - val_accuracy: 0.7626\n",
      "Epoch 6/20\n",
      "10837/10837 [==============================] - 12s 1ms/step - loss: 0.1785 - accuracy: 0.9268 - val_loss: 0.2220 - val_accuracy: 0.9131\n",
      "Epoch 7/20\n",
      "10837/10837 [==============================] - 12s 1ms/step - loss: 0.1770 - accuracy: 0.9285 - val_loss: 0.1880 - val_accuracy: 0.9247\n",
      "Epoch 8/20\n",
      "10837/10837 [==============================] - 12s 1ms/step - loss: 0.1727 - accuracy: 0.9335 - val_loss: 0.3909 - val_accuracy: 0.8279\n",
      "Epoch 9/20\n",
      "10837/10837 [==============================] - 12s 1ms/step - loss: 0.1783 - accuracy: 0.9288 - val_loss: 0.2301 - val_accuracy: 0.9098\n",
      "Epoch 10/20\n",
      "10837/10837 [==============================] - 12s 1ms/step - loss: 0.1641 - accuracy: 0.9371 - val_loss: 0.4315 - val_accuracy: 0.8556\n",
      "Epoch 11/20\n",
      "10837/10837 [==============================] - 12s 1ms/step - loss: 0.1563 - accuracy: 0.9376 - val_loss: 0.2656 - val_accuracy: 0.8982\n",
      "Epoch 12/20\n",
      "10837/10837 [==============================] - 12s 1ms/step - loss: 0.1488 - accuracy: 0.9421 - val_loss: 0.2436 - val_accuracy: 0.9037\n",
      "Epoch 13/20\n",
      "10837/10837 [==============================] - 12s 1ms/step - loss: 0.1387 - accuracy: 0.9456 - val_loss: 0.4067 - val_accuracy: 0.8633\n",
      "Epoch 14/20\n",
      "10837/10837 [==============================] - 12s 1ms/step - loss: 0.1364 - accuracy: 0.9497 - val_loss: 0.2020 - val_accuracy: 0.9264\n",
      "Epoch 15/20\n",
      "10837/10837 [==============================] - 12s 1ms/step - loss: 0.1353 - accuracy: 0.9480 - val_loss: 0.2708 - val_accuracy: 0.9153\n",
      "Epoch 16/20\n",
      "10837/10837 [==============================] - 12s 1ms/step - loss: 0.1304 - accuracy: 0.9470 - val_loss: 0.7309 - val_accuracy: 0.8196\n",
      "Epoch 17/20\n",
      "10837/10837 [==============================] - 12s 1ms/step - loss: 0.1212 - accuracy: 0.9547 - val_loss: 0.7186 - val_accuracy: 0.7676\n",
      "Epoch 18/20\n",
      "10837/10837 [==============================] - 12s 1ms/step - loss: 0.1187 - accuracy: 0.9562 - val_loss: 0.7053 - val_accuracy: 0.7831\n",
      "Epoch 19/20\n",
      "10837/10837 [==============================] - 12s 1ms/step - loss: 0.1144 - accuracy: 0.9542 - val_loss: 0.3662 - val_accuracy: 0.8605\n",
      "Epoch 20/20\n",
      "10837/10837 [==============================] - 12s 1ms/step - loss: 0.1007 - accuracy: 0.9615 - val_loss: 0.4762 - val_accuracy: 0.8733\n",
      "\n",
      "\n",
      "1807/1807 [==============================] - 1s 374us/step\n",
      "\n",
      "-------------Model Evaluation Results Fold_2-----------\n",
      "accuracy: 87.33%\n",
      "\n",
      "------------------------------------------------------------------------------------------------------------\n",
      "\n",
      "\n",
      "Start Training Fold_3--------------------------------------\n",
      "Train on 10838 samples, validate on 1806 samples\n",
      "Epoch 1/20\n",
      "10838/10838 [==============================] - 13s 1ms/step - loss: 0.1297 - accuracy: 0.9505 - val_loss: 0.1017 - val_accuracy: 0.9585\n",
      "Epoch 2/20\n",
      "10838/10838 [==============================] - 12s 1ms/step - loss: 0.1096 - accuracy: 0.9583 - val_loss: 1.3427 - val_accuracy: 0.6700\n",
      "Epoch 3/20\n",
      "10838/10838 [==============================] - 12s 1ms/step - loss: 0.1047 - accuracy: 0.9610 - val_loss: 0.0639 - val_accuracy: 0.9756\n",
      "Epoch 4/20\n",
      "10838/10838 [==============================] - 12s 1ms/step - loss: 0.0988 - accuracy: 0.9616 - val_loss: 0.0781 - val_accuracy: 0.9668\n",
      "Epoch 5/20\n",
      "10838/10838 [==============================] - 13s 1ms/step - loss: 0.1015 - accuracy: 0.9610 - val_loss: 0.0694 - val_accuracy: 0.9745\n",
      "Epoch 6/20\n",
      "10838/10838 [==============================] - 12s 1ms/step - loss: 0.0853 - accuracy: 0.9682 - val_loss: 0.1825 - val_accuracy: 0.9313\n",
      "Epoch 7/20\n",
      "10838/10838 [==============================] - 12s 1ms/step - loss: 0.0888 - accuracy: 0.9660 - val_loss: 0.2613 - val_accuracy: 0.9025\n",
      "Epoch 8/20\n",
      "10838/10838 [==============================] - 12s 1ms/step - loss: 0.0789 - accuracy: 0.9703 - val_loss: 0.1883 - val_accuracy: 0.9413\n",
      "Epoch 9/20\n",
      "10838/10838 [==============================] - 12s 1ms/step - loss: 0.0769 - accuracy: 0.9703 - val_loss: 0.1167 - val_accuracy: 0.9540\n",
      "Epoch 10/20\n",
      "10838/10838 [==============================] - 13s 1ms/step - loss: 0.0790 - accuracy: 0.9709 - val_loss: 0.0863 - val_accuracy: 0.9640\n"
     ]
    },
    {
     "name": "stdout",
     "output_type": "stream",
     "text": [
      "Epoch 11/20\n",
      "10838/10838 [==============================] - 12s 1ms/step - loss: 0.0785 - accuracy: 0.9700 - val_loss: 0.0915 - val_accuracy: 0.9635\n",
      "Epoch 12/20\n",
      "10838/10838 [==============================] - 12s 1ms/step - loss: 0.0735 - accuracy: 0.9729 - val_loss: 0.1551 - val_accuracy: 0.9424\n",
      "Epoch 13/20\n",
      "10838/10838 [==============================] - 12s 1ms/step - loss: 0.0739 - accuracy: 0.9728 - val_loss: 0.2025 - val_accuracy: 0.9291\n",
      "Epoch 14/20\n",
      "10838/10838 [==============================] - 12s 1ms/step - loss: 0.0692 - accuracy: 0.9736 - val_loss: 0.1361 - val_accuracy: 0.9496\n",
      "Epoch 15/20\n",
      "10838/10838 [==============================] - 12s 1ms/step - loss: 0.0654 - accuracy: 0.9758 - val_loss: 0.1742 - val_accuracy: 0.9319\n",
      "Epoch 16/20\n",
      "10838/10838 [==============================] - 12s 1ms/step - loss: 0.0700 - accuracy: 0.9743 - val_loss: 0.2085 - val_accuracy: 0.9264\n",
      "Epoch 17/20\n",
      "10838/10838 [==============================] - 12s 1ms/step - loss: 0.0644 - accuracy: 0.9767 - val_loss: 0.2888 - val_accuracy: 0.9131\n",
      "Epoch 18/20\n",
      "10838/10838 [==============================] - 12s 1ms/step - loss: 0.0631 - accuracy: 0.9751 - val_loss: 0.5188 - val_accuracy: 0.8394\n",
      "Epoch 19/20\n",
      "10838/10838 [==============================] - 12s 1ms/step - loss: 0.0669 - accuracy: 0.9758 - val_loss: 0.1475 - val_accuracy: 0.9513\n",
      "Epoch 20/20\n",
      "10838/10838 [==============================] - 12s 1ms/step - loss: 0.0571 - accuracy: 0.9803 - val_loss: 0.4585 - val_accuracy: 0.8754\n",
      "\n",
      "\n",
      "1806/1806 [==============================] - 1s 366us/step\n",
      "\n",
      "-------------Model Evaluation Results Fold_3-----------\n",
      "accuracy: 87.54%\n",
      "\n",
      "------------------------------------------------------------------------------------------------------------\n",
      "\n",
      "\n",
      "Start Training Fold_4--------------------------------------\n",
      "Train on 10838 samples, validate on 1806 samples\n",
      "Epoch 1/20\n",
      "10838/10838 [==============================] - 12s 1ms/step - loss: 0.0822 - accuracy: 0.9708 - val_loss: 0.0722 - val_accuracy: 0.9651\n",
      "Epoch 2/20\n",
      "10838/10838 [==============================] - 12s 1ms/step - loss: 0.0588 - accuracy: 0.9793 - val_loss: 0.0726 - val_accuracy: 0.9767\n",
      "Epoch 3/20\n",
      "10838/10838 [==============================] - 12s 1ms/step - loss: 0.0744 - accuracy: 0.9740 - val_loss: 0.1150 - val_accuracy: 0.9557\n",
      "Epoch 4/20\n",
      "10838/10838 [==============================] - 12s 1ms/step - loss: 0.0632 - accuracy: 0.9789 - val_loss: 0.1286 - val_accuracy: 0.9518\n",
      "Epoch 5/20\n",
      "10838/10838 [==============================] - 12s 1ms/step - loss: 0.0680 - accuracy: 0.9756 - val_loss: 0.2828 - val_accuracy: 0.8920\n",
      "Epoch 6/20\n",
      "10838/10838 [==============================] - 12s 1ms/step - loss: 0.0521 - accuracy: 0.9794 - val_loss: 0.3331 - val_accuracy: 0.8859\n",
      "Epoch 7/20\n",
      "10838/10838 [==============================] - 12s 1ms/step - loss: 0.0688 - accuracy: 0.9763 - val_loss: 3.2521 - val_accuracy: 0.5437\n",
      "Epoch 8/20\n",
      "10838/10838 [==============================] - 12s 1ms/step - loss: 0.1162 - accuracy: 0.9570 - val_loss: 0.0537 - val_accuracy: 0.9828\n",
      "Epoch 9/20\n",
      "10838/10838 [==============================] - 12s 1ms/step - loss: 0.0666 - accuracy: 0.9753 - val_loss: 0.0596 - val_accuracy: 0.9773\n",
      "Epoch 10/20\n",
      "10838/10838 [==============================] - 12s 1ms/step - loss: 0.0512 - accuracy: 0.9800 - val_loss: 0.0377 - val_accuracy: 0.9856\n",
      "Epoch 11/20\n",
      "10838/10838 [==============================] - 12s 1ms/step - loss: 0.0511 - accuracy: 0.9815 - val_loss: 0.0649 - val_accuracy: 0.9773\n",
      "Epoch 12/20\n",
      "10838/10838 [==============================] - 12s 1ms/step - loss: 0.0578 - accuracy: 0.9779 - val_loss: 0.1066 - val_accuracy: 0.9590\n",
      "Epoch 13/20\n",
      "10838/10838 [==============================] - 12s 1ms/step - loss: 0.0474 - accuracy: 0.9835 - val_loss: 0.0395 - val_accuracy: 0.9850\n",
      "Epoch 14/20\n",
      "10838/10838 [==============================] - 12s 1ms/step - loss: 0.0467 - accuracy: 0.9833 - val_loss: 0.0332 - val_accuracy: 0.9878\n",
      "Epoch 15/20\n",
      "10838/10838 [==============================] - 13s 1ms/step - loss: 0.0484 - accuracy: 0.9833 - val_loss: 0.2483 - val_accuracy: 0.9252\n",
      "Epoch 16/20\n",
      "10838/10838 [==============================] - 12s 1ms/step - loss: 0.0448 - accuracy: 0.9834 - val_loss: 0.2268 - val_accuracy: 0.9208\n",
      "Epoch 17/20\n",
      "10838/10838 [==============================] - 12s 1ms/step - loss: 0.0432 - accuracy: 0.9842 - val_loss: 0.1771 - val_accuracy: 0.9396\n",
      "Epoch 18/20\n",
      "10838/10838 [==============================] - 12s 1ms/step - loss: 0.0479 - accuracy: 0.9846 - val_loss: 0.0483 - val_accuracy: 0.9779\n",
      "Epoch 19/20\n",
      "10838/10838 [==============================] - 12s 1ms/step - loss: 0.0467 - accuracy: 0.9835 - val_loss: 0.0770 - val_accuracy: 0.9695\n",
      "Epoch 20/20\n",
      "10838/10838 [==============================] - 12s 1ms/step - loss: 0.0396 - accuracy: 0.9853 - val_loss: 0.1737 - val_accuracy: 0.9347\n",
      "\n",
      "\n",
      "1806/1806 [==============================] - 1s 374us/step\n",
      "\n",
      "-------------Model Evaluation Results Fold_4-----------\n",
      "accuracy: 93.47%\n",
      "\n",
      "------------------------------------------------------------------------------------------------------------\n",
      "\n",
      "\n",
      "Start Training Fold_5--------------------------------------\n",
      "Train on 10838 samples, validate on 1806 samples\n",
      "Epoch 1/20\n",
      "10838/10838 [==============================] - 12s 1ms/step - loss: 0.0599 - accuracy: 0.9783 - val_loss: 0.2617 - val_accuracy: 0.9097\n",
      "Epoch 2/20\n",
      "10838/10838 [==============================] - 12s 1ms/step - loss: 0.0448 - accuracy: 0.9839 - val_loss: 0.0080 - val_accuracy: 1.0000\n",
      "Epoch 3/20\n",
      "10838/10838 [==============================] - 12s 1ms/step - loss: 0.0515 - accuracy: 0.9822 - val_loss: 0.1629 - val_accuracy: 0.9330\n",
      "Epoch 4/20\n",
      "10838/10838 [==============================] - 12s 1ms/step - loss: 0.0528 - accuracy: 0.9804 - val_loss: 0.1158 - val_accuracy: 0.9551\n",
      "Epoch 5/20\n",
      "10838/10838 [==============================] - 12s 1ms/step - loss: 0.0472 - accuracy: 0.9837 - val_loss: 0.0282 - val_accuracy: 0.9906\n",
      "Epoch 6/20\n",
      "10838/10838 [==============================] - 12s 1ms/step - loss: 0.0452 - accuracy: 0.9837 - val_loss: 0.0249 - val_accuracy: 0.9911\n",
      "Epoch 7/20\n",
      "10838/10838 [==============================] - 12s 1ms/step - loss: 0.0435 - accuracy: 0.9849 - val_loss: 0.0765 - val_accuracy: 0.9673\n",
      "Epoch 8/20\n",
      "10838/10838 [==============================] - 12s 1ms/step - loss: 0.0386 - accuracy: 0.9862 - val_loss: 0.0274 - val_accuracy: 0.9922\n",
      "Epoch 9/20\n",
      "10838/10838 [==============================] - 13s 1ms/step - loss: 0.0484 - accuracy: 0.9825 - val_loss: 0.0344 - val_accuracy: 0.9889\n",
      "Epoch 10/20\n",
      "10838/10838 [==============================] - 12s 1ms/step - loss: 0.0421 - accuracy: 0.9842 - val_loss: 0.0306 - val_accuracy: 0.9945\n",
      "Epoch 11/20\n",
      "10838/10838 [==============================] - 12s 1ms/step - loss: 0.0391 - accuracy: 0.9868 - val_loss: 0.0196 - val_accuracy: 0.9928\n",
      "Epoch 12/20\n",
      "10838/10838 [==============================] - 12s 1ms/step - loss: 0.0399 - accuracy: 0.9859 - val_loss: 0.0260 - val_accuracy: 0.9911\n",
      "Epoch 13/20\n",
      "10838/10838 [==============================] - 12s 1ms/step - loss: 0.0367 - accuracy: 0.9868 - val_loss: 0.0217 - val_accuracy: 0.9900\n",
      "Epoch 14/20\n",
      "10838/10838 [==============================] - 12s 1ms/step - loss: 0.0674 - accuracy: 0.9754 - val_loss: 0.1753 - val_accuracy: 0.9302\n",
      "Epoch 15/20\n",
      "10838/10838 [==============================] - 12s 1ms/step - loss: 0.0453 - accuracy: 0.9838 - val_loss: 0.1376 - val_accuracy: 0.9474\n",
      "Epoch 16/20\n",
      "10838/10838 [==============================] - 12s 1ms/step - loss: 0.0397 - accuracy: 0.9856 - val_loss: 0.0734 - val_accuracy: 0.9679\n",
      "Epoch 17/20\n",
      "10838/10838 [==============================] - 12s 1ms/step - loss: 0.0449 - accuracy: 0.9836 - val_loss: 0.0325 - val_accuracy: 0.9895\n",
      "Epoch 18/20\n",
      "10838/10838 [==============================] - 12s 1ms/step - loss: 0.0308 - accuracy: 0.9899 - val_loss: 0.0352 - val_accuracy: 0.9845\n",
      "Epoch 19/20\n",
      "10838/10838 [==============================] - 12s 1ms/step - loss: 0.0289 - accuracy: 0.9897 - val_loss: 0.2467 - val_accuracy: 0.9269\n",
      "Epoch 20/20\n",
      "10838/10838 [==============================] - 12s 1ms/step - loss: 0.0347 - accuracy: 0.9879 - val_loss: 0.0667 - val_accuracy: 0.9779\n",
      "\n",
      "\n",
      "1806/1806 [==============================] - 1s 378us/step\n",
      "\n",
      "-------------Model Evaluation Results Fold_5-----------\n",
      "accuracy: 97.79%\n",
      "\n",
      "------------------------------------------------------------------------------------------------------------\n"
     ]
    },
    {
     "name": "stdout",
     "output_type": "stream",
     "text": [
      "\n",
      "\n",
      "Start Training Fold_6--------------------------------------\n",
      "Train on 10838 samples, validate on 1806 samples\n",
      "Epoch 1/20\n",
      "10838/10838 [==============================] - 12s 1ms/step - loss: 0.0454 - accuracy: 0.9847 - val_loss: 0.3270 - val_accuracy: 0.8810\n",
      "Epoch 2/20\n",
      "10838/10838 [==============================] - 12s 1ms/step - loss: 0.0365 - accuracy: 0.9872 - val_loss: 0.0848 - val_accuracy: 0.9662\n",
      "Epoch 3/20\n",
      "10838/10838 [==============================] - 12s 1ms/step - loss: 0.0339 - accuracy: 0.9881 - val_loss: 0.0139 - val_accuracy: 0.9972\n",
      "Epoch 4/20\n",
      "10838/10838 [==============================] - 12s 1ms/step - loss: 0.0408 - accuracy: 0.9840 - val_loss: 0.0109 - val_accuracy: 0.9978\n",
      "Epoch 5/20\n",
      "10838/10838 [==============================] - 12s 1ms/step - loss: 0.0408 - accuracy: 0.9861 - val_loss: 0.0158 - val_accuracy: 0.9945\n",
      "Epoch 6/20\n",
      "10838/10838 [==============================] - 12s 1ms/step - loss: 0.0399 - accuracy: 0.9872 - val_loss: 0.0051 - val_accuracy: 0.9994\n",
      "Epoch 7/20\n",
      "10838/10838 [==============================] - 12s 1ms/step - loss: 0.0311 - accuracy: 0.9896 - val_loss: 0.0783 - val_accuracy: 0.9701\n",
      "Epoch 8/20\n",
      "10838/10838 [==============================] - 12s 1ms/step - loss: 0.0337 - accuracy: 0.9887 - val_loss: 0.0228 - val_accuracy: 0.9917\n",
      "Epoch 9/20\n",
      "10838/10838 [==============================] - 12s 1ms/step - loss: 0.0310 - accuracy: 0.9891 - val_loss: 0.0490 - val_accuracy: 0.9806\n",
      "Epoch 10/20\n",
      "10838/10838 [==============================] - 12s 1ms/step - loss: 0.0334 - accuracy: 0.9889 - val_loss: 0.0045 - val_accuracy: 0.9994\n",
      "Epoch 11/20\n",
      "10838/10838 [==============================] - 12s 1ms/step - loss: 0.0313 - accuracy: 0.9891 - val_loss: 0.0407 - val_accuracy: 0.9828\n",
      "Epoch 12/20\n",
      "10838/10838 [==============================] - 12s 1ms/step - loss: 0.0387 - accuracy: 0.9865 - val_loss: 0.0229 - val_accuracy: 0.9906\n",
      "Epoch 13/20\n",
      "10838/10838 [==============================] - 12s 1ms/step - loss: 0.0315 - accuracy: 0.9898 - val_loss: 0.1653 - val_accuracy: 0.9468\n",
      "Epoch 14/20\n",
      "10838/10838 [==============================] - 12s 1ms/step - loss: 0.0256 - accuracy: 0.9896 - val_loss: 0.0176 - val_accuracy: 0.9928\n",
      "Epoch 15/20\n",
      "10838/10838 [==============================] - 12s 1ms/step - loss: 0.0300 - accuracy: 0.9897 - val_loss: 0.0451 - val_accuracy: 0.9850\n",
      "Epoch 16/20\n",
      "10838/10838 [==============================] - 12s 1ms/step - loss: 0.0382 - accuracy: 0.9882 - val_loss: 0.0197 - val_accuracy: 0.9934\n",
      "Epoch 17/20\n",
      "10838/10838 [==============================] - 12s 1ms/step - loss: 0.0323 - accuracy: 0.9882 - val_loss: 0.0728 - val_accuracy: 0.9734\n",
      "Epoch 18/20\n",
      "10838/10838 [==============================] - 12s 1ms/step - loss: 0.0321 - accuracy: 0.9887 - val_loss: 0.0284 - val_accuracy: 0.9884\n",
      "Epoch 19/20\n",
      "10838/10838 [==============================] - 12s 1ms/step - loss: 0.0377 - accuracy: 0.9870 - val_loss: 0.0801 - val_accuracy: 0.9707\n",
      "Epoch 20/20\n",
      "10838/10838 [==============================] - 12s 1ms/step - loss: 0.0263 - accuracy: 0.9907 - val_loss: 0.0879 - val_accuracy: 0.9690\n",
      "\n",
      "\n",
      "1806/1806 [==============================] - 1s 364us/step\n",
      "\n",
      "-------------Model Evaluation Results Fold_6-----------\n",
      "accuracy: 96.90%\n",
      "\n",
      "------------------------------------------------------------------------------------------------------------\n",
      "\n",
      "\n",
      "Start Training Fold_7--------------------------------------\n",
      "Train on 10838 samples, validate on 1806 samples\n",
      "Epoch 1/20\n",
      "10838/10838 [==============================] - 12s 1ms/step - loss: 0.0332 - accuracy: 0.9877 - val_loss: 0.0095 - val_accuracy: 0.9978\n",
      "Epoch 2/20\n",
      "10838/10838 [==============================] - 12s 1ms/step - loss: 0.0340 - accuracy: 0.9884 - val_loss: 0.1646 - val_accuracy: 0.9358\n",
      "Epoch 3/20\n",
      "10838/10838 [==============================] - 12s 1ms/step - loss: 0.0358 - accuracy: 0.9869 - val_loss: 0.0500 - val_accuracy: 0.9806\n",
      "Epoch 4/20\n",
      "10838/10838 [==============================] - 12s 1ms/step - loss: 0.0338 - accuracy: 0.9892 - val_loss: 0.3956 - val_accuracy: 0.8793\n",
      "Epoch 5/20\n",
      "10838/10838 [==============================] - 12s 1ms/step - loss: 0.0284 - accuracy: 0.9899 - val_loss: 0.0034 - val_accuracy: 1.0000\n",
      "Epoch 6/20\n",
      "10838/10838 [==============================] - 12s 1ms/step - loss: 0.0277 - accuracy: 0.9910 - val_loss: 0.1562 - val_accuracy: 0.9463\n",
      "Epoch 7/20\n",
      "10838/10838 [==============================] - 12s 1ms/step - loss: 0.0282 - accuracy: 0.9905 - val_loss: 0.0255 - val_accuracy: 0.9917\n",
      "Epoch 8/20\n",
      "10838/10838 [==============================] - 12s 1ms/step - loss: 0.0264 - accuracy: 0.9908 - val_loss: 0.0186 - val_accuracy: 0.9950\n",
      "Epoch 9/20\n",
      "10838/10838 [==============================] - 12s 1ms/step - loss: 0.0304 - accuracy: 0.9899 - val_loss: 0.0062 - val_accuracy: 0.9989\n",
      "Epoch 10/20\n",
      "10838/10838 [==============================] - 12s 1ms/step - loss: 0.0279 - accuracy: 0.9914 - val_loss: 0.0093 - val_accuracy: 0.9972\n",
      "Epoch 11/20\n",
      "10838/10838 [==============================] - 12s 1ms/step - loss: 0.0273 - accuracy: 0.9906 - val_loss: 0.0069 - val_accuracy: 0.9972\n",
      "Epoch 12/20\n",
      "10838/10838 [==============================] - 12s 1ms/step - loss: 0.0239 - accuracy: 0.9919 - val_loss: 0.0061 - val_accuracy: 0.9983\n",
      "Epoch 13/20\n",
      "10838/10838 [==============================] - 12s 1ms/step - loss: 0.0271 - accuracy: 0.9901 - val_loss: 0.0058 - val_accuracy: 0.9994\n",
      "Epoch 14/20\n",
      "10838/10838 [==============================] - 12s 1ms/step - loss: 0.0265 - accuracy: 0.9925 - val_loss: 0.0830 - val_accuracy: 0.9657\n",
      "Epoch 15/20\n",
      "10838/10838 [==============================] - 12s 1ms/step - loss: 0.0363 - accuracy: 0.9881 - val_loss: 0.0094 - val_accuracy: 0.9983\n",
      "Epoch 16/20\n",
      "10838/10838 [==============================] - 12s 1ms/step - loss: 0.0233 - accuracy: 0.9919 - val_loss: 0.0385 - val_accuracy: 0.9850\n",
      "Epoch 17/20\n",
      "10838/10838 [==============================] - 12s 1ms/step - loss: 0.0233 - accuracy: 0.9916 - val_loss: 0.0352 - val_accuracy: 0.9845\n",
      "Epoch 18/20\n",
      "10838/10838 [==============================] - 12s 1ms/step - loss: 0.0253 - accuracy: 0.9911 - val_loss: 0.2142 - val_accuracy: 0.9308\n",
      "Epoch 19/20\n",
      "10838/10838 [==============================] - 12s 1ms/step - loss: 0.0193 - accuracy: 0.9928 - val_loss: 0.0724 - val_accuracy: 0.9740\n",
      "Epoch 20/20\n",
      "10838/10838 [==============================] - 12s 1ms/step - loss: 0.0738 - accuracy: 0.9779 - val_loss: 0.0264 - val_accuracy: 0.9917\n",
      "\n",
      "\n",
      "1806/1806 [==============================] - 1s 367us/step\n",
      "\n",
      "-------------Model Evaluation Results Fold_7-----------\n",
      "accuracy: 99.17%\n",
      "\n",
      "------------------------------------------------------------------------------------------------------------\n",
      "92.72% (+/- 5.01%)\n"
     ]
    }
   ],
   "source": [
    "from sklearn.model_selection import StratifiedKFold\n",
    "\n",
    "skf = StratifiedKFold(n_splits=7, random_state=None)\n",
    "\n",
    "cvscores = []\n",
    "acc = []\n",
    "vacc = []\n",
    "loss = []\n",
    "vloss = []\n",
    "i = 0\n",
    "for train_index, val_index in skf.split(features,labels):\n",
    "    i = i + 1\n",
    "    X_train, X_val = features[train_index], features[val_index]\n",
    "    Y_train, Y_val = labels[train_index], labels[val_index]\n",
    "    name = 'model_RAW_v' + str(i) + '.hdf5'\n",
    "    mcp = ModelCheckpoint(filepath=name, monitor=\"val_accuracy\", save_best_only=True, save_weights_only=False)\n",
    "    \n",
    "    print('\\n')\n",
    "    print('Start Training Fold_' + str(i)+'--------------------------------------')\n",
    "    #print('\\n')\n",
    "    hist = model.fit(X_train,Y_train, validation_data = (X_val,Y_val) , \n",
    "                         epochs = 20,verbose=1,class_weight = class_weights,callbacks=[mcp])\n",
    "    print('\\n')\n",
    "    scores = model.evaluate(X_val,Y_val, verbose=1)\n",
    "    print('\\n-------------Model Evaluation Results '+ 'Fold_' + str(i) + '-----------')\n",
    "    print(\"%s: %.2f%%\" % (model.metrics_names[1], scores[1]*100))\n",
    "    print('\\n------------------------------------------------------------------------------------------------------------')\n",
    "    cvscores.append(scores[1] * 100)\n",
    "    acc.append(hist.history['accuracy'])\n",
    "    vacc.append(hist.history['val_accuracy'])\n",
    "    loss.append(hist.history['loss'])\n",
    "    vloss.append(hist.history['val_loss'])\n",
    "\n",
    "print(\"%.2f%% (+/- %.2f%%)\" % (np.mean(cvscores), np.std(cvscores)))"
   ]
  },
  {
   "cell_type": "markdown",
   "metadata": {},
   "source": [
    "# Predictions on Test Data"
   ]
  },
  {
   "cell_type": "code",
   "execution_count": 15,
   "metadata": {},
   "outputs": [
    {
     "data": {
      "text/plain": [
       "(1406, 150, 150, 3)"
      ]
     },
     "execution_count": 15,
     "metadata": {},
     "output_type": "execute_result"
    }
   ],
   "source": [
    "X_test.shape"
   ]
  },
  {
   "cell_type": "code",
   "execution_count": 16,
   "metadata": {},
   "outputs": [
    {
     "name": "stdout",
     "output_type": "stream",
     "text": [
      "1406/1406 [==============================] - 1s 430us/step\n",
      "\n",
      "CV_Results_Overall Model Performance\n",
      "[0.302349559824972, 0.9096728563308716]\n"
     ]
    }
   ],
   "source": [
    "# Cross-Validation Predictions\n",
    "test_results = model.evaluate(X_test,Y_test)\n",
    "y_test_pred = model.predict_classes(X_test)\n",
    "\n",
    "print('\\nCV_Results_Overall Model Performance')\n",
    "print(test_results)"
   ]
  },
  {
   "cell_type": "markdown",
   "metadata": {},
   "source": [
    "## Evaluation of each fold"
   ]
  },
  {
   "cell_type": "code",
   "execution_count": 18,
   "metadata": {},
   "outputs": [],
   "source": [
    "fold_results = []"
   ]
  },
  {
   "cell_type": "code",
   "execution_count": 19,
   "metadata": {},
   "outputs": [
    {
     "name": "stdout",
     "output_type": "stream",
     "text": [
      "1406/1406 [==============================] - 1s 401us/step\n",
      "\n",
      "---CV_Results_Fold_1---\n",
      "[0.27239188204279663, 0.8918918967247009]\n"
     ]
    }
   ],
   "source": [
    "model.load_weights('../input/weights/model_RAW_v1.hdf5')\n",
    "fold1_results = model.evaluate(X_test,Y_test)\n",
    "\n",
    "print('\\n---CV_Results_Fold_1---')\n",
    "print(fold1_results)\n",
    "fold_results.append(fold1_results)"
   ]
  },
  {
   "cell_type": "code",
   "execution_count": 20,
   "metadata": {},
   "outputs": [
    {
     "name": "stdout",
     "output_type": "stream",
     "text": [
      "1406/1406 [==============================] - 1s 391us/step\n",
      "\n",
      "---CV_Results_Fold_2---\n",
      "[0.2260591287277162, 0.9189189076423645]\n"
     ]
    }
   ],
   "source": [
    "model.load_weights('../input/weights/model_RAW_v2.hdf5')\n",
    "fold2_results = model.evaluate(X_test,Y_test)\n",
    "\n",
    "print('\\n---CV_Results_Fold_2---')\n",
    "print(fold2_results)\n",
    "fold_results.append(fold2_results)"
   ]
  },
  {
   "cell_type": "code",
   "execution_count": 21,
   "metadata": {},
   "outputs": [
    {
     "name": "stdout",
     "output_type": "stream",
     "text": [
      "1406/1406 [==============================] - 1s 369us/step\n",
      "\n",
      "---CV_Results_Fold_3---\n",
      "[0.1835002231055269, 0.9310099482536316]\n"
     ]
    }
   ],
   "source": [
    "model.load_weights('../input/weights/model_RAW_v3.hdf5')\n",
    "fold3_results = model.evaluate(X_test,Y_test)\n",
    "\n",
    "print('\\n---CV_Results_Fold_3---')\n",
    "print(fold3_results)\n",
    "fold_results.append(fold3_results)"
   ]
  },
  {
   "cell_type": "code",
   "execution_count": 22,
   "metadata": {},
   "outputs": [
    {
     "name": "stdout",
     "output_type": "stream",
     "text": [
      "1406/1406 [==============================] - 1s 375us/step\n",
      "\n",
      "---CV_Results_Fold_4---\n",
      "[0.23619203379703618, 0.9288762211799622]\n"
     ]
    }
   ],
   "source": [
    "model.load_weights('../input/weights/model_RAW_v4.hdf5')\n",
    "fold4_results = model.evaluate(X_test,Y_test)\n",
    "\n",
    "print('\\n---CV_Results_Fold_4---')\n",
    "print(fold4_results)\n",
    "fold_results.append(fold4_results)"
   ]
  },
  {
   "cell_type": "code",
   "execution_count": 23,
   "metadata": {},
   "outputs": [
    {
     "name": "stdout",
     "output_type": "stream",
     "text": [
      "1406/1406 [==============================] - 1s 376us/step\n",
      "\n",
      "---CV_Results_Fold_5---\n",
      "[0.17364638553108294, 0.9459459185600281]\n"
     ]
    }
   ],
   "source": [
    "model.load_weights('../input/weights/model_RAW_v5.hdf5')\n",
    "fold5_results = model.evaluate(X_test,Y_test)\n",
    "\n",
    "print('\\n---CV_Results_Fold_5---')\n",
    "print(fold5_results)\n",
    "fold_results.append(fold5_results)"
   ]
  },
  {
   "cell_type": "code",
   "execution_count": 24,
   "metadata": {},
   "outputs": [
    {
     "name": "stdout",
     "output_type": "stream",
     "text": [
      "1406/1406 [==============================] - 1s 363us/step\n",
      "\n",
      "---CV_Results_Fold_6---\n",
      "[0.21961916356770106, 0.9374110698699951]\n"
     ]
    }
   ],
   "source": [
    "model.load_weights('../input/weights/model_RAW_v6.hdf5')\n",
    "fold6_results = model.evaluate(X_test,Y_test)\n",
    "\n",
    "print('\\n---CV_Results_Fold_6---')\n",
    "print(fold6_results)\n",
    "fold_results.append(fold6_results)"
   ]
  },
  {
   "cell_type": "code",
   "execution_count": 25,
   "metadata": {},
   "outputs": [
    {
     "name": "stdout",
     "output_type": "stream",
     "text": [
      "1406/1406 [==============================] - 1s 368us/step\n",
      "\n",
      "---CV_Results_Fold_7---\n",
      "[0.3168249185148038, 0.933854877948761]\n"
     ]
    }
   ],
   "source": [
    "model.load_weights('../input/weights/model_RAW_v7.hdf5')\n",
    "fold7_results = model.evaluate(X_test,Y_test)\n",
    "\n",
    "print('\\n---CV_Results_Fold_7---')\n",
    "print(fold7_results)\n",
    "fold_results.append(fold7_results)"
   ]
  },
  {
   "cell_type": "code",
   "execution_count": 26,
   "metadata": {},
   "outputs": [],
   "source": [
    "fold_results = np.array(fold_results)"
   ]
  },
  {
   "cell_type": "code",
   "execution_count": 27,
   "metadata": {},
   "outputs": [],
   "source": [
    "overall_loss = fold_results[:,0]\n",
    "overall_accu = fold_results[:,1]"
   ]
  },
  {
   "cell_type": "code",
   "execution_count": 28,
   "metadata": {},
   "outputs": [
    {
     "name": "stdout",
     "output_type": "stream",
     "text": [
      "\n",
      "\n",
      "Test Data Accuracy : 92.68% (+/- 1.62%)\n"
     ]
    }
   ],
   "source": [
    "print(\"\\n\\nTest Data Accuracy : %.2f%% (+/- %.2f%%)\" % (np.mean(overall_accu)*100, np.std(overall_accu)*100))"
   ]
  },
  {
   "cell_type": "markdown",
   "metadata": {},
   "source": [
    "# Best Model Results"
   ]
  },
  {
   "cell_type": "code",
   "execution_count": 31,
   "metadata": {},
   "outputs": [],
   "source": [
    "model.load_weights('../input/weights/model_RAW_v5.hdf5')"
   ]
  },
  {
   "cell_type": "code",
   "execution_count": 32,
   "metadata": {},
   "outputs": [
    {
     "name": "stdout",
     "output_type": "stream",
     "text": [
      "Best CV Fold Accuracy 94.59%\n"
     ]
    }
   ],
   "source": [
    "y_pred = model.predict_classes(X_test)\n",
    "\n",
    "print('Best CV Fold Accuracy %.2f%%' % (metrics.accuracy_score(Y_test, y_pred)*100))"
   ]
  },
  {
   "cell_type": "code",
   "execution_count": 33,
   "metadata": {},
   "outputs": [
    {
     "name": "stdout",
     "output_type": "stream",
     "text": [
      "Model Accuracy 90.97%\n"
     ]
    }
   ],
   "source": [
    "print('Model Accuracy %.2f%%' % (metrics.accuracy_score(Y_test, y_test_pred)*100))"
   ]
  },
  {
   "cell_type": "markdown",
   "metadata": {},
   "source": [
    "# Visualise Results"
   ]
  },
  {
   "cell_type": "markdown",
   "metadata": {},
   "source": [
    "## Train Validation Accuracy"
   ]
  },
  {
   "cell_type": "code",
   "execution_count": 34,
   "metadata": {},
   "outputs": [],
   "source": [
    "acc_1 = np.hstack((acc[0],acc[1],acc[2],acc[3],acc[4],acc[5],acc[6]))\n",
    "vacc_1 = np.hstack((vacc[0],vacc[1],vacc[2],vacc[3],vacc[4],vacc[5],vacc[6]))\n",
    "loss_1 = np.hstack((loss[0],loss[1],loss[2],loss[3],loss[4],loss[5],loss[6]))\n",
    "vloss_1 = np.hstack((vloss[0],vloss[1],vloss[2],vloss[3],vloss[4],vloss[5],vloss[6]))"
   ]
  },
  {
   "cell_type": "code",
   "execution_count": 35,
   "metadata": {},
   "outputs": [],
   "source": [
    "def plot_model_history(acc,vacc,loss,vloss):\n",
    "    fig, axs = plt.subplots(1,2,figsize=(15,5))\n",
    "    axs[0].plot(range(1,len(acc)+1),acc)\n",
    "    axs[0].plot(range(1,len(vacc)+1),vacc)\n",
    "    axs[0].set_title('Model Accuracy')\n",
    "    axs[0].set_ylabel('Accuracy')\n",
    "    axs[0].set_xlabel('Epoch')\n",
    "    axs[0].set_xticks(np.arange(1,len(acc)+1),len(acc)/10)\n",
    "    axs[0].legend(['train', 'val'], loc='best')\n",
    "    axs[1].plot(range(1,len(loss)+1),loss)\n",
    "    axs[1].plot(range(1,len(vloss)+1),vloss)\n",
    "    axs[1].set_title('Model Loss')\n",
    "    axs[1].set_ylabel('Loss')\n",
    "    axs[1].set_xlabel('Epoch')\n",
    "    axs[1].set_xticks(np.arange(1,len(loss)+1),len(loss)/10)\n",
    "    axs[1].legend(['train', 'val'], loc='best')\n",
    "    plt.show()"
   ]
  },
  {
   "cell_type": "code",
   "execution_count": 36,
   "metadata": {},
   "outputs": [
    {
     "name": "stderr",
     "output_type": "stream",
     "text": [
      "/opt/conda/lib/python3.7/site-packages/ipykernel_launcher.py:8: MatplotlibDeprecationWarning: Passing the minor parameter of set_xticks() positionally is deprecated since Matplotlib 3.2; the parameter will become keyword-only two minor releases later.\n",
      "  \n",
      "/opt/conda/lib/python3.7/site-packages/ipykernel_launcher.py:15: MatplotlibDeprecationWarning: Passing the minor parameter of set_xticks() positionally is deprecated since Matplotlib 3.2; the parameter will become keyword-only two minor releases later.\n",
      "  from ipykernel import kernelapp as app\n"
     ]
    },
    {
     "data": {
      "image/png": "[encoded data removed]",
      "text/plain": [
       "<Figure size 1080x360 with 2 Axes>"
      ]
     },
     "metadata": {
      "needs_background": "light"
     },
     "output_type": "display_data"
    }
   ],
   "source": [
    "plot_model_history(acc_1,vacc_1,loss_1,vloss_1)"
   ]
  },
  {
   "cell_type": "markdown",
   "metadata": {},
   "source": [
    "# Confusion Matrix"
   ]
  },
  {
   "cell_type": "code",
   "execution_count": 37,
   "metadata": {},
   "outputs": [],
   "source": [
    "def plot_confusion_matrix(cm,target_names,title='Confusion matrix',cmap=None,normalize=True):\n",
    "    import matplotlib.pyplot as plt\n",
    "    import numpy as np\n",
    "    import itertools\n",
    "\n",
    "    accuracy = np.trace(cm) / float(np.sum(cm))\n",
    "    misclass = 1 - accuracy\n",
    "\n",
    "    if cmap is None:\n",
    "        cmap = plt.get_cmap('Blues')\n",
    "\n",
    "    plt.figure(figsize=(6, 4))\n",
    "    plt.grid(b=False)\n",
    "    plt.imshow(cm, interpolation='nearest', cmap=cmap)\n",
    "    plt.title(title,fontsize=12,weight='bold')\n",
    "    #plt.legend('off')\n",
    "    #plt.colorbar()\n",
    "\n",
    "    if target_names is not None:\n",
    "        tick_marks = np.arange(len(target_names))\n",
    "        plt.xticks(tick_marks, target_names, rotation=0,fontsize=12,weight='bold')\n",
    "        plt.yticks(tick_marks, target_names,fontsize=12,weight='bold')\n",
    "    if normalize:\n",
    "        cm = cm.astype('float') / cm.sum(axis=1)[:, np.newaxis]\n",
    "\n",
    "    thresh = cm.max() / 1.5 if normalize else cm.max() / 2\n",
    "    for i, j in itertools.product(range(cm.shape[0]), range(cm.shape[1])):\n",
    "        if normalize:\n",
    "            plt.text(j, i, \"{:0.4f}\".format(cm[i, j]),\n",
    "                     horizontalalignment=\"center\",\n",
    "                     color=\"white\" if cm[i, j] > thresh else \"black\",fontsize=12,weight='bold')\n",
    "        else:\n",
    "            plt.text(j, i, \"{:,}\".format(cm[i, j]),\n",
    "                     horizontalalignment=\"center\",\n",
    "                     color=\"white\" if cm[i, j] > thresh else \"black\",fontsize=12,weight='bold')\n",
    "    plt.tight_layout()\n",
    "    plt.ylabel('True label',fontsize=12,weight='bold')\n",
    "    plt.xlabel('\\n Predicted label \\n Test accuracy={:0.2f}%; Misclass={:0.2f}%'.format(accuracy*100, misclass*100),fontsize=12,weight='bold')\n",
    "    #plt.get_legend().remove()\n",
    "    \n",
    "    plt.show()"
   ]
  },
  {
   "cell_type": "code",
   "execution_count": 38,
   "metadata": {},
   "outputs": [
    {
     "data": {
      "image/png": "[encoded data removed]",
      "text/plain": [
       "<Figure size 432x288 with 1 Axes>"
      ]
     },
     "metadata": {
      "needs_background": "light"
     },
     "output_type": "display_data"
    }
   ],
   "source": [
    "from sklearn.metrics import confusion_matrix\n",
    "cm = confusion_matrix(Y_test,y_pred)\n",
    "plot_confusion_matrix(cm = cm,normalize= False,cmap ='binary',target_names = ['nocancer', 'cancer'],\n",
    "                      title= '')"
   ]
  },
  {
   "cell_type": "code",
   "execution_count": 39,
   "metadata": {},
   "outputs": [
    {
     "name": "stdout",
     "output_type": "stream",
     "text": [
      "636 42 34 694\n"
     ]
    }
   ],
   "source": [
    "tn, fp, fn, tp = confusion_matrix(Y_test,y_pred).ravel()\n",
    "print(tn, fp, fn, tp)"
   ]
  },
  {
   "cell_type": "code",
   "execution_count": 40,
   "metadata": {},
   "outputs": [
    {
     "name": "stdout",
     "output_type": "stream",
     "text": [
      "Sensitivity 95.33%\n"
     ]
    }
   ],
   "source": [
    "print(\"Sensitivity %.2f%%\" % ((tp / (tp + fn))*100))"
   ]
  },
  {
   "cell_type": "code",
   "execution_count": 41,
   "metadata": {},
   "outputs": [
    {
     "name": "stdout",
     "output_type": "stream",
     "text": [
      "Specificity 93.81%\n"
     ]
    }
   ],
   "source": [
    "print(\"Specificity %.2f%%\" % ((tn / (tn + fp))*100))"
   ]
  },
  {
   "cell_type": "markdown",
   "metadata": {},
   "source": [
    "# Classification Report"
   ]
  },
  {
   "cell_type": "code",
   "execution_count": 42,
   "metadata": {},
   "outputs": [
    {
     "name": "stdout",
     "output_type": "stream",
     "text": [
      "              precision    recall  f1-score   support\n",
      "\n",
      "    nocancer       0.95      0.94      0.94       678\n",
      "      cancer       0.94      0.95      0.95       728\n",
      "\n",
      "    accuracy                           0.95      1406\n",
      "   macro avg       0.95      0.95      0.95      1406\n",
      "weighted avg       0.95      0.95      0.95      1406\n",
      "\n"
     ]
    }
   ],
   "source": [
    "from sklearn.metrics import classification_report\n",
    "\n",
    "# Generate a classification report\n",
    "report = classification_report(Y_test, y_pred, target_names=['nocancer','cancer'])\n",
    "\n",
    "print(report)"
   ]
  },
  {
   "cell_type": "code",
   "execution_count": 43,
   "metadata": {},
   "outputs": [
    {
     "name": "stdout",
     "output_type": "stream",
     "text": [
      "94.59%\n"
     ]
    }
   ],
   "source": [
    "print(\"%.2f%%\" % (metrics.f1_score(Y_test, y_pred,average='weighted')*100))"
   ]
  },
  {
   "cell_type": "markdown",
   "metadata": {},
   "source": [
    "# Saving Train / Validation Data"
   ]
  },
  {
   "cell_type": "code",
   "execution_count": null,
   "metadata": {},
   "outputs": [],
   "source": [
    "RAW_result = pd.DataFrame()"
   ]
  },
  {
   "cell_type": "code",
   "execution_count": null,
   "metadata": {},
   "outputs": [],
   "source": [
    "RAW_result['raw_acc'] = acc_1\n",
    "RAW_result['raw_vacc'] = vacc_1\n",
    "RAW_result['raw_loss'] = loss_1\n",
    "RAW_result['raw_vloss'] = vloss_1"
   ]
  },
  {
   "cell_type": "code",
   "execution_count": null,
   "metadata": {},
   "outputs": [],
   "source": [
    "RAW_result.head()"
   ]
  },
  {
   "cell_type": "code",
   "execution_count": null,
   "metadata": {},
   "outputs": [],
   "source": [
    "RAW_result.to_csv('raw_results.csv', sep='\\t', encoding='utf-8')"
   ]
  },
  {
   "cell_type": "code",
   "execution_count": null,
   "metadata": {},
   "outputs": [],
   "source": []
  }
 ],
 "metadata": {
  "kernelspec": {
   "display_name": "Python 3",
   "language": "python",
   "name": "python3"
  },
  "language_info": {
   "codemirror_mode": {
    "name": "ipython",
    "version": 3
   },
   "file_extension": ".py",
   "mimetype": "text/x-python",
   "name": "python",
   "nbconvert_exporter": "python",
   "pygments_lexer": "ipython3",
   "version": "3.7.6"
  }
 },
 "nbformat": 4,
 "nbformat_minor": 4
}
