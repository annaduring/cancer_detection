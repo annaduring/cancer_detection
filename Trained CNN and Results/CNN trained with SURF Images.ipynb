{
 "cells": [
  {
   "cell_type": "code",
   "execution_count": 1,
   "metadata": {},
   "outputs": [
    {
     "name": "stderr",
     "output_type": "stream",
     "text": [
      "Using TensorFlow backend.\n"
     ]
    }
   ],
   "source": [
    "import glob\n",
    "import cv2 as cv\n",
    "import numpy as np\n",
    "import pandas as pd\n",
    "import matplotlib.pyplot as plt\n",
    "%matplotlib inline\n",
    "from skimage.io import imread, imshow\n",
    "\n",
    "from keras.models import Sequential\n",
    "from keras.layers import Conv2D, MaxPooling2D , Input\n",
    "from keras.layers import Activation, Dropout, Flatten, Dense\n",
    "from keras.optimizers import SGD, Adam\n",
    "from keras.models import Sequential\n",
    "from keras.layers import BatchNormalization, Dropout\n",
    "from keras.optimizers import Adam\n",
    "from sklearn.model_selection import train_test_split\n",
    "from keras.utils import to_categorical\n",
    "from sklearn.utils import class_weight\n",
    "from sklearn import metrics\n",
    "from keras import regularizers\n",
    "from keras.callbacks import ModelCheckpoint"
   ]
  },
  {
   "cell_type": "code",
   "execution_count": 2,
   "metadata": {},
   "outputs": [],
   "source": [
    "data = np.load('../input/cnn-data-new/Train_SURF_v2.npz')"
   ]
  },
  {
   "cell_type": "code",
   "execution_count": 8,
   "metadata": {},
   "outputs": [],
   "source": [
    "test_data = np.load('/Users/toothless/Downloads/Thesis_Results/SURF + CNN/data/Test_SURF_v2.npz')"
   ]
  },
  {
   "cell_type": "code",
   "execution_count": 9,
   "metadata": {},
   "outputs": [],
   "source": [
    "X_test = test_data['features']\n",
    "Y_test = test_data['labels']"
   ]
  },
  {
   "cell_type": "code",
   "execution_count": 5,
   "metadata": {},
   "outputs": [
    {
     "data": {
      "text/plain": [
       "['features', 'labels']"
      ]
     },
     "execution_count": 5,
     "metadata": {},
     "output_type": "execute_result"
    }
   ],
   "source": [
    "data.files"
   ]
  },
  {
   "cell_type": "code",
   "execution_count": 6,
   "metadata": {},
   "outputs": [],
   "source": [
    "features = data['features']\n",
    "labels = data['labels']"
   ]
  },
  {
   "cell_type": "code",
   "execution_count": 7,
   "metadata": {},
   "outputs": [],
   "source": [
    "img = np.reshape(features[9],(150,150,3))"
   ]
  },
  {
   "cell_type": "code",
   "execution_count": 9,
   "metadata": {},
   "outputs": [
    {
     "data": {
      "text/plain": [
       "(-0.5, 149.5, 149.5, -0.5)"
      ]
     },
     "execution_count": 9,
     "metadata": {},
     "output_type": "execute_result"
    },
    {
     "data": {
      "image/png": "[encoded data removed]",
      "text/plain": [
       "<Figure size 432x288 with 1 Axes>"
      ]
     },
     "metadata": {
      "needs_background": "light"
     },
     "output_type": "display_data"
    }
   ],
   "source": [
    "plt.imshow(img)\n",
    "plt.title('SURF Image')\n",
    "plt.axis('off')"
   ]
  },
  {
   "cell_type": "code",
   "execution_count": 10,
   "metadata": {},
   "outputs": [],
   "source": [
    "#X_train, X_val, Y_train, Y_val = train_test_split(features, labels, test_size=0.20, random_state=42)"
   ]
  },
  {
   "cell_type": "code",
   "execution_count": 11,
   "metadata": {},
   "outputs": [
    {
     "name": "stdout",
     "output_type": "stream",
     "text": [
      "[1.03639344 0.96607579]\n"
     ]
    }
   ],
   "source": [
    "class_weights = class_weight.compute_class_weight('balanced',np.unique(labels),labels)\n",
    "\n",
    "print(class_weights)"
   ]
  },
  {
   "cell_type": "code",
   "execution_count": 2,
   "metadata": {},
   "outputs": [],
   "source": [
    "def build_cnn():\n",
    "    \n",
    "    model = Sequential()\n",
    "    model.add(Conv2D(32, (3, 3), input_shape=(150,150,3) , activation='relu'))\n",
    "    model.add(MaxPooling2D(pool_size=(2, 2)))\n",
    "    \n",
    "    model.add(Conv2D(64, (3, 3), activation='relu'))\n",
    "    model.add(BatchNormalization(axis = -1))\n",
    "    model.add(MaxPooling2D(pool_size=(2,2)))\n",
    "    model.add(Dropout(0.3))\n",
    "    \n",
    "    model.add(Conv2D(128, (3, 3), activation='relu'))\n",
    "    model.add(BatchNormalization(axis = -1))\n",
    "    model.add(MaxPooling2D(pool_size=(2,2)))\n",
    "    model.add(Dropout(0.3))\n",
    "    \n",
    "    model.add(Conv2D(256, (3, 3), activation='relu'))\n",
    "    model.add(BatchNormalization(axis = -1))\n",
    "    model.add(MaxPooling2D(pool_size=(2,2)))\n",
    "    model.add(Dropout(0.3))\n",
    "    \n",
    "    model.add(Conv2D(512, (3, 3), activation='relu'))\n",
    "    model.add(BatchNormalization(axis = -1))\n",
    "    model.add(MaxPooling2D(pool_size=(2,2)))\n",
    "    model.add(Dropout(0.3))\n",
    "\n",
    "    model.add(Flatten())\n",
    "    model.add(Dense(256 ,  activation='relu'))\n",
    "    model.add(BatchNormalization(axis = -1))\n",
    "    model.add(Dropout(0.2))\n",
    "    model.add(Dense(2 , activation ='softmax'))\n",
    "\n",
    "    return model"
   ]
  },
  {
   "cell_type": "code",
   "execution_count": 3,
   "metadata": {},
   "outputs": [],
   "source": [
    "model = build_cnn()\n",
    "model.compile(optimizer='adam', loss='sparse_categorical_crossentropy', metrics=['accuracy']) "
   ]
  },
  {
   "cell_type": "code",
   "execution_count": 4,
   "metadata": {},
   "outputs": [
    {
     "name": "stdout",
     "output_type": "stream",
     "text": [
      "Model: \"sequential_1\"\n",
      "_________________________________________________________________\n",
      "Layer (type)                 Output Shape              Param #   \n",
      "=================================================================\n",
      "conv2d_1 (Conv2D)            (None, 148, 148, 32)      896       \n",
      "_________________________________________________________________\n",
      "max_pooling2d_1 (MaxPooling2 (None, 74, 74, 32)        0         \n",
      "_________________________________________________________________\n",
      "conv2d_2 (Conv2D)            (None, 72, 72, 64)        18496     \n",
      "_________________________________________________________________\n",
      "batch_normalization_1 (Batch (None, 72, 72, 64)        256       \n",
      "_________________________________________________________________\n",
      "max_pooling2d_2 (MaxPooling2 (None, 36, 36, 64)        0         \n",
      "_________________________________________________________________\n",
      "dropout_1 (Dropout)          (None, 36, 36, 64)        0         \n",
      "_________________________________________________________________\n",
      "conv2d_3 (Conv2D)            (None, 34, 34, 128)       73856     \n",
      "_________________________________________________________________\n",
      "batch_normalization_2 (Batch (None, 34, 34, 128)       512       \n",
      "_________________________________________________________________\n",
      "max_pooling2d_3 (MaxPooling2 (None, 17, 17, 128)       0         \n",
      "_________________________________________________________________\n",
      "dropout_2 (Dropout)          (None, 17, 17, 128)       0         \n",
      "_________________________________________________________________\n",
      "conv2d_4 (Conv2D)            (None, 15, 15, 256)       295168    \n",
      "_________________________________________________________________\n",
      "batch_normalization_3 (Batch (None, 15, 15, 256)       1024      \n",
      "_________________________________________________________________\n",
      "max_pooling2d_4 (MaxPooling2 (None, 7, 7, 256)         0         \n",
      "_________________________________________________________________\n",
      "dropout_3 (Dropout)          (None, 7, 7, 256)         0         \n",
      "_________________________________________________________________\n",
      "conv2d_5 (Conv2D)            (None, 5, 5, 512)         1180160   \n",
      "_________________________________________________________________\n",
      "batch_normalization_4 (Batch (None, 5, 5, 512)         2048      \n",
      "_________________________________________________________________\n",
      "max_pooling2d_5 (MaxPooling2 (None, 2, 2, 512)         0         \n",
      "_________________________________________________________________\n",
      "dropout_4 (Dropout)          (None, 2, 2, 512)         0         \n",
      "_________________________________________________________________\n",
      "flatten_1 (Flatten)          (None, 2048)              0         \n",
      "_________________________________________________________________\n",
      "dense_1 (Dense)              (None, 256)               524544    \n",
      "_________________________________________________________________\n",
      "batch_normalization_5 (Batch (None, 256)               1024      \n",
      "_________________________________________________________________\n",
      "dropout_5 (Dropout)          (None, 256)               0         \n",
      "_________________________________________________________________\n",
      "dense_2 (Dense)              (None, 2)                 514       \n",
      "=================================================================\n",
      "Total params: 2,098,498\n",
      "Trainable params: 2,096,066\n",
      "Non-trainable params: 2,432\n",
      "_________________________________________________________________\n"
     ]
    }
   ],
   "source": [
    "model.summary()"
   ]
  },
  {
   "cell_type": "code",
   "execution_count": 15,
   "metadata": {},
   "outputs": [
    {
     "name": "stdout",
     "output_type": "stream",
     "text": [
      "\n",
      "\n",
      "Start Training Fold_1--------------------------------------\n",
      "Train on 10837 samples, validate on 1807 samples\n",
      "Epoch 1/20\n",
      "10837/10837 [==============================] - 18s 2ms/step - loss: 0.5931 - accuracy: 0.7370 - val_loss: 0.6816 - val_accuracy: 0.6253\n",
      "Epoch 2/20\n",
      "10837/10837 [==============================] - 12s 1ms/step - loss: 0.4981 - accuracy: 0.7755 - val_loss: 0.8172 - val_accuracy: 0.6265\n",
      "Epoch 3/20\n",
      "10837/10837 [==============================] - 13s 1ms/step - loss: 0.4762 - accuracy: 0.7891 - val_loss: 1.7940 - val_accuracy: 0.6353\n",
      "Epoch 4/20\n",
      "10837/10837 [==============================] - 13s 1ms/step - loss: 0.4654 - accuracy: 0.7919 - val_loss: 1.0121 - val_accuracy: 0.6276\n",
      "Epoch 5/20\n",
      "10837/10837 [==============================] - 12s 1ms/step - loss: 0.4546 - accuracy: 0.7944 - val_loss: 0.8547 - val_accuracy: 0.5949\n",
      "Epoch 6/20\n",
      "10837/10837 [==============================] - 12s 1ms/step - loss: 0.4485 - accuracy: 0.7980 - val_loss: 1.1904 - val_accuracy: 0.6187\n",
      "Epoch 7/20\n",
      "10837/10837 [==============================] - 12s 1ms/step - loss: 0.4432 - accuracy: 0.8040 - val_loss: 0.9068 - val_accuracy: 0.5877\n",
      "Epoch 8/20\n",
      "10837/10837 [==============================] - 13s 1ms/step - loss: 0.4424 - accuracy: 0.8043 - val_loss: 1.3547 - val_accuracy: 0.4842\n",
      "Epoch 9/20\n",
      "10837/10837 [==============================] - 13s 1ms/step - loss: 0.4349 - accuracy: 0.8036 - val_loss: 0.6362 - val_accuracy: 0.6519\n",
      "Epoch 10/20\n",
      "10837/10837 [==============================] - 12s 1ms/step - loss: 0.4416 - accuracy: 0.8041 - val_loss: 0.6423 - val_accuracy: 0.6995\n",
      "Epoch 11/20\n",
      "10837/10837 [==============================] - 12s 1ms/step - loss: 0.4319 - accuracy: 0.8036 - val_loss: 0.5165 - val_accuracy: 0.7703\n",
      "Epoch 12/20\n",
      "10837/10837 [==============================] - 12s 1ms/step - loss: 0.4205 - accuracy: 0.8130 - val_loss: 0.8934 - val_accuracy: 0.6652\n",
      "Epoch 13/20\n",
      "10837/10837 [==============================] - 13s 1ms/step - loss: 0.4102 - accuracy: 0.8204 - val_loss: 0.4852 - val_accuracy: 0.7864\n",
      "Epoch 14/20\n",
      "10837/10837 [==============================] - 12s 1ms/step - loss: 0.4029 - accuracy: 0.8262 - val_loss: 1.0161 - val_accuracy: 0.5938\n",
      "Epoch 15/20\n",
      "10837/10837 [==============================] - 12s 1ms/step - loss: 0.3885 - accuracy: 0.8276 - val_loss: 0.4169 - val_accuracy: 0.8052\n",
      "Epoch 16/20\n",
      "10837/10837 [==============================] - 12s 1ms/step - loss: 0.3881 - accuracy: 0.8317 - val_loss: 1.4573 - val_accuracy: 0.5191\n",
      "Epoch 17/20\n",
      "10837/10837 [==============================] - 12s 1ms/step - loss: 0.3863 - accuracy: 0.8351 - val_loss: 0.7979 - val_accuracy: 0.6541\n",
      "Epoch 18/20\n",
      "10837/10837 [==============================] - 13s 1ms/step - loss: 0.3738 - accuracy: 0.8378 - val_loss: 0.5657 - val_accuracy: 0.7803\n",
      "Epoch 19/20\n",
      "10837/10837 [==============================] - 12s 1ms/step - loss: 0.3668 - accuracy: 0.8436 - val_loss: 0.6619 - val_accuracy: 0.6978\n",
      "Epoch 20/20\n",
      "10837/10837 [==============================] - 12s 1ms/step - loss: 0.3541 - accuracy: 0.8463 - val_loss: 0.4619 - val_accuracy: 0.7836\n",
      "\n",
      "\n",
      "1807/1807 [==============================] - 1s 402us/step\n",
      "\n",
      "-------------Model Evaluation Results Fold_1-----------\n",
      "accuracy: 78.36%\n",
      "\n",
      "------------------------------------------------------------------------------------------------------------\n",
      "\n",
      "\n",
      "Start Training Fold_2--------------------------------------\n",
      "Train on 10837 samples, validate on 1807 samples\n",
      "Epoch 1/20\n",
      "10837/10837 [==============================] - 12s 1ms/step - loss: 0.3533 - accuracy: 0.8479 - val_loss: 1.1401 - val_accuracy: 0.5274\n",
      "Epoch 2/20\n",
      "10837/10837 [==============================] - 12s 1ms/step - loss: 0.3471 - accuracy: 0.8522 - val_loss: 0.4619 - val_accuracy: 0.7703\n",
      "Epoch 3/20\n",
      "10837/10837 [==============================] - 12s 1ms/step - loss: 0.3285 - accuracy: 0.8615 - val_loss: 0.3716 - val_accuracy: 0.8545\n",
      "Epoch 4/20\n",
      "10837/10837 [==============================] - 12s 1ms/step - loss: 0.3293 - accuracy: 0.8607 - val_loss: 1.2951 - val_accuracy: 0.5451\n",
      "Epoch 5/20\n",
      "10837/10837 [==============================] - 12s 1ms/step - loss: 0.3109 - accuracy: 0.8691 - val_loss: 0.5661 - val_accuracy: 0.7471\n",
      "Epoch 6/20\n",
      "10837/10837 [==============================] - 12s 1ms/step - loss: 0.3041 - accuracy: 0.8727 - val_loss: 0.6143 - val_accuracy: 0.6619\n",
      "Epoch 7/20\n",
      "10837/10837 [==============================] - 13s 1ms/step - loss: 0.2919 - accuracy: 0.8777 - val_loss: 1.3851 - val_accuracy: 0.6193\n",
      "Epoch 8/20\n",
      "10837/10837 [==============================] - 12s 1ms/step - loss: 0.2818 - accuracy: 0.8835 - val_loss: 0.3816 - val_accuracy: 0.8395\n",
      "Epoch 9/20\n",
      "10837/10837 [==============================] - 12s 1ms/step - loss: 0.2804 - accuracy: 0.8809 - val_loss: 2.5450 - val_accuracy: 0.5230\n",
      "Epoch 10/20\n",
      "10837/10837 [==============================] - 12s 1ms/step - loss: 0.2677 - accuracy: 0.8859 - val_loss: 0.9468 - val_accuracy: 0.6862\n",
      "Epoch 11/20\n",
      "10837/10837 [==============================] - 12s 1ms/step - loss: 0.2482 - accuracy: 0.8976 - val_loss: 0.4524 - val_accuracy: 0.8495\n",
      "Epoch 12/20\n",
      "10837/10837 [==============================] - 13s 1ms/step - loss: 0.2410 - accuracy: 0.8983 - val_loss: 1.3736 - val_accuracy: 0.6929\n",
      "Epoch 13/20\n",
      "10837/10837 [==============================] - 12s 1ms/step - loss: 0.2468 - accuracy: 0.9008 - val_loss: 0.4181 - val_accuracy: 0.8450\n",
      "Epoch 14/20\n",
      "10837/10837 [==============================] - 12s 1ms/step - loss: 0.2325 - accuracy: 0.9041 - val_loss: 0.7499 - val_accuracy: 0.6857\n",
      "Epoch 15/20\n",
      "10837/10837 [==============================] - 12s 1ms/step - loss: 0.2351 - accuracy: 0.9002 - val_loss: 0.7425 - val_accuracy: 0.7393\n",
      "Epoch 16/20\n",
      "10837/10837 [==============================] - 12s 1ms/step - loss: 0.2074 - accuracy: 0.9147 - val_loss: 0.5249 - val_accuracy: 0.7903\n",
      "Epoch 17/20\n",
      "10837/10837 [==============================] - 13s 1ms/step - loss: 0.2040 - accuracy: 0.9157 - val_loss: 0.4708 - val_accuracy: 0.8052\n",
      "Epoch 18/20\n",
      "10837/10837 [==============================] - 12s 1ms/step - loss: 0.1913 - accuracy: 0.9244 - val_loss: 0.8885 - val_accuracy: 0.7471\n",
      "Epoch 19/20\n",
      "10837/10837 [==============================] - 12s 1ms/step - loss: 0.1846 - accuracy: 0.9254 - val_loss: 0.9101 - val_accuracy: 0.6525\n",
      "Epoch 20/20\n",
      "10837/10837 [==============================] - 12s 1ms/step - loss: 0.1759 - accuracy: 0.9309 - val_loss: 0.8831 - val_accuracy: 0.7941\n",
      "\n",
      "\n",
      "1807/1807 [==============================] - 1s 398us/step\n",
      "\n",
      "-------------Model Evaluation Results Fold_2-----------\n",
      "accuracy: 79.41%\n",
      "\n",
      "------------------------------------------------------------------------------------------------------------\n",
      "\n",
      "\n",
      "Start Training Fold_3--------------------------------------\n",
      "Train on 10838 samples, validate on 1806 samples\n",
      "Epoch 1/20\n",
      "10838/10838 [==============================] - 12s 1ms/step - loss: 0.2140 - accuracy: 0.9154 - val_loss: 0.1626 - val_accuracy: 0.9457\n",
      "Epoch 2/20\n",
      "10838/10838 [==============================] - 13s 1ms/step - loss: 0.2006 - accuracy: 0.9230 - val_loss: 0.6938 - val_accuracy: 0.7342\n",
      "Epoch 3/20\n",
      "10838/10838 [==============================] - 12s 1ms/step - loss: 0.1917 - accuracy: 0.9214 - val_loss: 0.2308 - val_accuracy: 0.9169\n",
      "Epoch 4/20\n",
      "10838/10838 [==============================] - 12s 1ms/step - loss: 0.1753 - accuracy: 0.9303 - val_loss: 0.3522 - val_accuracy: 0.8538\n",
      "Epoch 5/20\n",
      "10838/10838 [==============================] - 12s 1ms/step - loss: 0.1694 - accuracy: 0.9332 - val_loss: 0.7620 - val_accuracy: 0.7121\n",
      "Epoch 6/20\n",
      "10838/10838 [==============================] - 12s 1ms/step - loss: 0.1686 - accuracy: 0.9314 - val_loss: 0.6437 - val_accuracy: 0.7757\n",
      "Epoch 7/20\n",
      "10838/10838 [==============================] - 13s 1ms/step - loss: 0.1599 - accuracy: 0.9369 - val_loss: 0.1923 - val_accuracy: 0.9186\n",
      "Epoch 8/20\n",
      "10838/10838 [==============================] - 12s 1ms/step - loss: 0.1571 - accuracy: 0.9401 - val_loss: 0.3363 - val_accuracy: 0.8704\n",
      "Epoch 9/20\n",
      "10838/10838 [==============================] - 12s 1ms/step - loss: 0.1498 - accuracy: 0.9419 - val_loss: 1.1332 - val_accuracy: 0.7403\n",
      "Epoch 10/20\n",
      "10838/10838 [==============================] - 12s 1ms/step - loss: 0.1448 - accuracy: 0.9431 - val_loss: 0.5099 - val_accuracy: 0.8007\n"
     ]
    },
    {
     "name": "stdout",
     "output_type": "stream",
     "text": [
      "Epoch 11/20\n",
      "10838/10838 [==============================] - 12s 1ms/step - loss: 0.1542 - accuracy: 0.9383 - val_loss: 0.5880 - val_accuracy: 0.8090\n",
      "Epoch 12/20\n",
      "10838/10838 [==============================] - 12s 1ms/step - loss: 0.1347 - accuracy: 0.9476 - val_loss: 0.5451 - val_accuracy: 0.8189\n",
      "Epoch 13/20\n",
      "10838/10838 [==============================] - 12s 1ms/step - loss: 0.1403 - accuracy: 0.9440 - val_loss: 0.2354 - val_accuracy: 0.9197\n",
      "Epoch 14/20\n",
      "10838/10838 [==============================] - 12s 1ms/step - loss: 0.1264 - accuracy: 0.9516 - val_loss: 1.0822 - val_accuracy: 0.7231\n",
      "Epoch 15/20\n",
      "10838/10838 [==============================] - 12s 1ms/step - loss: 0.1149 - accuracy: 0.9551 - val_loss: 0.3677 - val_accuracy: 0.8760\n",
      "Epoch 16/20\n",
      "10838/10838 [==============================] - 12s 1ms/step - loss: 0.1305 - accuracy: 0.9495 - val_loss: 0.5814 - val_accuracy: 0.8084\n",
      "Epoch 17/20\n",
      "10838/10838 [==============================] - 13s 1ms/step - loss: 0.1206 - accuracy: 0.9532 - val_loss: 0.2537 - val_accuracy: 0.9031\n",
      "Epoch 18/20\n",
      "10838/10838 [==============================] - 12s 1ms/step - loss: 0.1145 - accuracy: 0.9559 - val_loss: 0.1810 - val_accuracy: 0.9297\n",
      "Epoch 19/20\n",
      "10838/10838 [==============================] - 12s 1ms/step - loss: 0.1082 - accuracy: 0.9600 - val_loss: 0.4523 - val_accuracy: 0.8400\n",
      "Epoch 20/20\n",
      "10838/10838 [==============================] - 12s 1ms/step - loss: 0.1078 - accuracy: 0.9588 - val_loss: 0.2132 - val_accuracy: 0.9208\n",
      "\n",
      "\n",
      "1806/1806 [==============================] - 1s 389us/step\n",
      "\n",
      "-------------Model Evaluation Results Fold_3-----------\n",
      "accuracy: 92.08%\n",
      "\n",
      "------------------------------------------------------------------------------------------------------------\n",
      "\n",
      "\n",
      "Start Training Fold_4--------------------------------------\n",
      "Train on 10838 samples, validate on 1806 samples\n",
      "Epoch 1/20\n",
      "10838/10838 [==============================] - 12s 1ms/step - loss: 0.1435 - accuracy: 0.9483 - val_loss: 0.0251 - val_accuracy: 0.9945\n",
      "Epoch 2/20\n",
      "10838/10838 [==============================] - 12s 1ms/step - loss: 0.1239 - accuracy: 0.9539 - val_loss: 0.4204 - val_accuracy: 0.8095\n",
      "Epoch 3/20\n",
      "10838/10838 [==============================] - 12s 1ms/step - loss: 0.1249 - accuracy: 0.9530 - val_loss: 0.0640 - val_accuracy: 0.9823\n",
      "Epoch 4/20\n",
      "10838/10838 [==============================] - 12s 1ms/step - loss: 0.1176 - accuracy: 0.9561 - val_loss: 3.8190 - val_accuracy: 0.5449\n",
      "Epoch 5/20\n",
      "10838/10838 [==============================] - 12s 1ms/step - loss: 0.1209 - accuracy: 0.9550 - val_loss: 0.3628 - val_accuracy: 0.8743\n",
      "Epoch 6/20\n",
      "10838/10838 [==============================] - 13s 1ms/step - loss: 0.1133 - accuracy: 0.9576 - val_loss: 0.6135 - val_accuracy: 0.7852\n",
      "Epoch 7/20\n",
      "10838/10838 [==============================] - 13s 1ms/step - loss: 0.1033 - accuracy: 0.9612 - val_loss: 0.0877 - val_accuracy: 0.9729\n",
      "Epoch 8/20\n",
      "10838/10838 [==============================] - 12s 1ms/step - loss: 0.1093 - accuracy: 0.9576 - val_loss: 0.2341 - val_accuracy: 0.9053\n",
      "Epoch 9/20\n",
      "10838/10838 [==============================] - 12s 1ms/step - loss: 0.0902 - accuracy: 0.9669 - val_loss: 0.3015 - val_accuracy: 0.8909\n",
      "Epoch 10/20\n",
      "10838/10838 [==============================] - 12s 1ms/step - loss: 0.1007 - accuracy: 0.9603 - val_loss: 0.2377 - val_accuracy: 0.9136\n",
      "Epoch 11/20\n",
      "10838/10838 [==============================] - 13s 1ms/step - loss: 0.0976 - accuracy: 0.9617 - val_loss: 0.6449 - val_accuracy: 0.7890\n",
      "Epoch 12/20\n",
      "10838/10838 [==============================] - 12s 1ms/step - loss: 0.0978 - accuracy: 0.9615 - val_loss: 0.2009 - val_accuracy: 0.9324\n",
      "Epoch 13/20\n",
      "10838/10838 [==============================] - 12s 1ms/step - loss: 0.1031 - accuracy: 0.9631 - val_loss: 0.0804 - val_accuracy: 0.9701\n",
      "Epoch 14/20\n",
      "10838/10838 [==============================] - 12s 1ms/step - loss: 0.0944 - accuracy: 0.9633 - val_loss: 0.3671 - val_accuracy: 0.8710\n",
      "Epoch 15/20\n",
      "10838/10838 [==============================] - 12s 1ms/step - loss: 0.0841 - accuracy: 0.9685 - val_loss: 0.3601 - val_accuracy: 0.8749\n",
      "Epoch 16/20\n",
      "10838/10838 [==============================] - 12s 1ms/step - loss: 0.0979 - accuracy: 0.9601 - val_loss: 0.5398 - val_accuracy: 0.8034\n",
      "Epoch 17/20\n",
      "10838/10838 [==============================] - 12s 1ms/step - loss: 0.0879 - accuracy: 0.9674 - val_loss: 0.2383 - val_accuracy: 0.9142\n",
      "Epoch 18/20\n",
      "10838/10838 [==============================] - 12s 1ms/step - loss: 0.0866 - accuracy: 0.9665 - val_loss: 0.3837 - val_accuracy: 0.8699\n",
      "Epoch 19/20\n",
      "10838/10838 [==============================] - 12s 1ms/step - loss: 0.0824 - accuracy: 0.9698 - val_loss: 0.2290 - val_accuracy: 0.9059\n",
      "Epoch 20/20\n",
      "10838/10838 [==============================] - 12s 1ms/step - loss: 0.1541 - accuracy: 0.9410 - val_loss: 0.2312 - val_accuracy: 0.9092\n",
      "\n",
      "\n",
      "1806/1806 [==============================] - 1s 521us/step\n",
      "\n",
      "-------------Model Evaluation Results Fold_4-----------\n",
      "accuracy: 90.92%\n",
      "\n",
      "------------------------------------------------------------------------------------------------------------\n",
      "\n",
      "\n",
      "Start Training Fold_5--------------------------------------\n",
      "Train on 10838 samples, validate on 1806 samples\n",
      "Epoch 1/20\n",
      "10838/10838 [==============================] - 12s 1ms/step - loss: 0.1119 - accuracy: 0.9582 - val_loss: 0.8336 - val_accuracy: 0.7569\n",
      "Epoch 2/20\n",
      "10838/10838 [==============================] - 12s 1ms/step - loss: 0.0999 - accuracy: 0.9623 - val_loss: 0.4048 - val_accuracy: 0.8516\n",
      "Epoch 3/20\n",
      "10838/10838 [==============================] - 12s 1ms/step - loss: 0.0933 - accuracy: 0.9630 - val_loss: 0.2309 - val_accuracy: 0.8998\n",
      "Epoch 4/20\n",
      "10838/10838 [==============================] - 12s 1ms/step - loss: 0.0926 - accuracy: 0.9656 - val_loss: 0.6216 - val_accuracy: 0.7907\n",
      "Epoch 5/20\n",
      "10838/10838 [==============================] - 12s 1ms/step - loss: 0.0885 - accuracy: 0.9665 - val_loss: 0.1551 - val_accuracy: 0.9424\n",
      "Epoch 6/20\n",
      "10838/10838 [==============================] - 12s 1ms/step - loss: 0.0806 - accuracy: 0.9701 - val_loss: 0.1057 - val_accuracy: 0.9568\n",
      "Epoch 7/20\n",
      "10838/10838 [==============================] - 12s 1ms/step - loss: 0.0856 - accuracy: 0.9704 - val_loss: 0.0884 - val_accuracy: 0.9668\n",
      "Epoch 8/20\n",
      "10838/10838 [==============================] - 12s 1ms/step - loss: 0.0752 - accuracy: 0.9728 - val_loss: 1.0003 - val_accuracy: 0.7270\n",
      "Epoch 9/20\n",
      "10838/10838 [==============================] - 12s 1ms/step - loss: 0.0786 - accuracy: 0.9695 - val_loss: 0.0226 - val_accuracy: 0.9939\n",
      "Epoch 10/20\n",
      "10838/10838 [==============================] - 12s 1ms/step - loss: 0.1075 - accuracy: 0.9620 - val_loss: 0.0456 - val_accuracy: 0.9845\n",
      "Epoch 11/20\n",
      "10838/10838 [==============================] - 13s 1ms/step - loss: 0.0770 - accuracy: 0.9717 - val_loss: 0.1261 - val_accuracy: 0.9463\n",
      "Epoch 12/20\n",
      "10838/10838 [==============================] - 12s 1ms/step - loss: 0.0746 - accuracy: 0.9736 - val_loss: 1.1090 - val_accuracy: 0.7414\n",
      "Epoch 13/20\n",
      "10838/10838 [==============================] - 12s 1ms/step - loss: 0.0811 - accuracy: 0.9711 - val_loss: 0.2571 - val_accuracy: 0.8937\n",
      "Epoch 14/20\n",
      "10838/10838 [==============================] - 12s 1ms/step - loss: 0.0674 - accuracy: 0.9757 - val_loss: 0.0463 - val_accuracy: 0.9823\n",
      "Epoch 15/20\n",
      "10838/10838 [==============================] - 12s 1ms/step - loss: 0.0659 - accuracy: 0.9751 - val_loss: 0.3914 - val_accuracy: 0.8494\n",
      "Epoch 16/20\n",
      "10838/10838 [==============================] - 12s 1ms/step - loss: 0.0753 - accuracy: 0.9732 - val_loss: 0.4024 - val_accuracy: 0.8616\n",
      "Epoch 17/20\n",
      "10838/10838 [==============================] - 12s 1ms/step - loss: 0.0713 - accuracy: 0.9732 - val_loss: 0.0651 - val_accuracy: 0.9779\n",
      "Epoch 18/20\n",
      "10838/10838 [==============================] - 12s 1ms/step - loss: 0.0658 - accuracy: 0.9756 - val_loss: 0.8229 - val_accuracy: 0.8068\n",
      "Epoch 19/20\n",
      "10838/10838 [==============================] - 12s 1ms/step - loss: 0.0606 - accuracy: 0.9793 - val_loss: 0.3382 - val_accuracy: 0.8970\n",
      "Epoch 20/20\n",
      "10838/10838 [==============================] - 12s 1ms/step - loss: 0.0683 - accuracy: 0.9746 - val_loss: 0.0628 - val_accuracy: 0.9701\n",
      "\n",
      "\n",
      "1806/1806 [==============================] - 1s 399us/step\n",
      "\n",
      "-------------Model Evaluation Results Fold_5-----------\n",
      "accuracy: 97.01%\n",
      "\n",
      "------------------------------------------------------------------------------------------------------------\n"
     ]
    },
    {
     "name": "stdout",
     "output_type": "stream",
     "text": [
      "\n",
      "\n",
      "Start Training Fold_6--------------------------------------\n",
      "Train on 10838 samples, validate on 1806 samples\n",
      "Epoch 1/20\n",
      "10838/10838 [==============================] - 12s 1ms/step - loss: 0.0881 - accuracy: 0.9677 - val_loss: 0.1675 - val_accuracy: 0.9452\n",
      "Epoch 2/20\n",
      "10838/10838 [==============================] - 12s 1ms/step - loss: 0.0775 - accuracy: 0.9714 - val_loss: 0.0805 - val_accuracy: 0.9629\n",
      "Epoch 3/20\n",
      "10838/10838 [==============================] - 12s 1ms/step - loss: 0.0718 - accuracy: 0.9730 - val_loss: 0.2457 - val_accuracy: 0.9070\n",
      "Epoch 4/20\n",
      "10838/10838 [==============================] - 12s 1ms/step - loss: 0.0658 - accuracy: 0.9746 - val_loss: 0.4551 - val_accuracy: 0.8455\n",
      "Epoch 5/20\n",
      "10838/10838 [==============================] - 12s 1ms/step - loss: 0.0689 - accuracy: 0.9774 - val_loss: 0.0434 - val_accuracy: 0.9856\n",
      "Epoch 6/20\n",
      "10838/10838 [==============================] - 12s 1ms/step - loss: 0.0646 - accuracy: 0.9767 - val_loss: 0.1311 - val_accuracy: 0.9834\n",
      "Epoch 7/20\n",
      "10838/10838 [==============================] - 12s 1ms/step - loss: 0.0688 - accuracy: 0.9749 - val_loss: 1.3882 - val_accuracy: 0.7121\n",
      "Epoch 8/20\n",
      "10838/10838 [==============================] - 12s 1ms/step - loss: 0.0708 - accuracy: 0.9761 - val_loss: 0.0819 - val_accuracy: 0.9679\n",
      "Epoch 9/20\n",
      "10838/10838 [==============================] - 12s 1ms/step - loss: 0.0672 - accuracy: 0.9754 - val_loss: 0.1828 - val_accuracy: 0.9607\n",
      "Epoch 10/20\n",
      "10838/10838 [==============================] - 13s 1ms/step - loss: 0.0651 - accuracy: 0.9755 - val_loss: 0.1904 - val_accuracy: 0.9336\n",
      "Epoch 11/20\n",
      "10838/10838 [==============================] - 12s 1ms/step - loss: 0.0650 - accuracy: 0.9790 - val_loss: 0.0859 - val_accuracy: 0.9679\n",
      "Epoch 12/20\n",
      "10838/10838 [==============================] - 12s 1ms/step - loss: 0.0695 - accuracy: 0.9747 - val_loss: 0.5966 - val_accuracy: 0.8056\n",
      "Epoch 13/20\n",
      "10838/10838 [==============================] - 12s 1ms/step - loss: 0.0589 - accuracy: 0.9798 - val_loss: 0.0519 - val_accuracy: 0.9812\n",
      "Epoch 14/20\n",
      "10838/10838 [==============================] - 13s 1ms/step - loss: 0.0503 - accuracy: 0.9816 - val_loss: 0.0296 - val_accuracy: 0.9928\n",
      "Epoch 15/20\n",
      "10838/10838 [==============================] - 12s 1ms/step - loss: 0.0606 - accuracy: 0.9781 - val_loss: 0.1376 - val_accuracy: 0.9396\n",
      "Epoch 16/20\n",
      "10838/10838 [==============================] - 12s 1ms/step - loss: 0.0506 - accuracy: 0.9815 - val_loss: 0.3248 - val_accuracy: 0.9009\n",
      "Epoch 17/20\n",
      "10838/10838 [==============================] - 12s 1ms/step - loss: 0.0569 - accuracy: 0.9795 - val_loss: 0.0703 - val_accuracy: 0.9767\n",
      "Epoch 18/20\n",
      "10838/10838 [==============================] - 12s 1ms/step - loss: 0.0627 - accuracy: 0.9775 - val_loss: 0.1532 - val_accuracy: 0.9491\n",
      "Epoch 19/20\n",
      "10838/10838 [==============================] - 12s 1ms/step - loss: 0.0586 - accuracy: 0.9795 - val_loss: 0.3740 - val_accuracy: 0.8671\n",
      "Epoch 20/20\n",
      "10838/10838 [==============================] - 12s 1ms/step - loss: 0.0511 - accuracy: 0.9836 - val_loss: 0.0274 - val_accuracy: 0.9878\n",
      "\n",
      "\n",
      "1806/1806 [==============================] - 1s 409us/step\n",
      "\n",
      "-------------Model Evaluation Results Fold_6-----------\n",
      "accuracy: 98.78%\n",
      "\n",
      "------------------------------------------------------------------------------------------------------------\n",
      "\n",
      "\n",
      "Start Training Fold_7--------------------------------------\n",
      "Train on 10838 samples, validate on 1806 samples\n",
      "Epoch 1/20\n",
      "10838/10838 [==============================] - 12s 1ms/step - loss: 0.0706 - accuracy: 0.9765 - val_loss: 0.0027 - val_accuracy: 0.9994\n",
      "Epoch 2/20\n",
      "10838/10838 [==============================] - 12s 1ms/step - loss: 0.0622 - accuracy: 0.9775 - val_loss: 0.2527 - val_accuracy: 0.9142\n",
      "Epoch 3/20\n",
      "10838/10838 [==============================] - 12s 1ms/step - loss: 0.0642 - accuracy: 0.9762 - val_loss: 0.0469 - val_accuracy: 0.9801\n",
      "Epoch 4/20\n",
      "10838/10838 [==============================] - 13s 1ms/step - loss: 0.0639 - accuracy: 0.9779 - val_loss: 0.1782 - val_accuracy: 0.9369\n",
      "Epoch 5/20\n",
      "10838/10838 [==============================] - 12s 1ms/step - loss: 0.0631 - accuracy: 0.9767 - val_loss: 0.0559 - val_accuracy: 0.9828\n",
      "Epoch 6/20\n",
      "10838/10838 [==============================] - 12s 1ms/step - loss: 0.0530 - accuracy: 0.9800 - val_loss: 0.2208 - val_accuracy: 0.9264\n",
      "Epoch 7/20\n",
      "10838/10838 [==============================] - 12s 1ms/step - loss: 0.0523 - accuracy: 0.9812 - val_loss: 0.0098 - val_accuracy: 0.9972\n",
      "Epoch 8/20\n",
      "10838/10838 [==============================] - 12s 1ms/step - loss: 0.0576 - accuracy: 0.9788 - val_loss: 3.3305 - val_accuracy: 0.5808\n",
      "Epoch 9/20\n",
      "10838/10838 [==============================] - 13s 1ms/step - loss: 0.0524 - accuracy: 0.9813 - val_loss: 0.0106 - val_accuracy: 0.9972\n",
      "Epoch 10/20\n",
      "10838/10838 [==============================] - 12s 1ms/step - loss: 0.0557 - accuracy: 0.9806 - val_loss: 1.8635 - val_accuracy: 0.6545\n",
      "Epoch 11/20\n",
      "10838/10838 [==============================] - 12s 1ms/step - loss: 0.0673 - accuracy: 0.9740 - val_loss: 0.0337 - val_accuracy: 0.9873\n",
      "Epoch 12/20\n",
      "10838/10838 [==============================] - 12s 1ms/step - loss: 0.0469 - accuracy: 0.9840 - val_loss: 0.1714 - val_accuracy: 0.9430\n",
      "Epoch 13/20\n",
      "10838/10838 [==============================] - 12s 1ms/step - loss: 0.0503 - accuracy: 0.9835 - val_loss: 0.0927 - val_accuracy: 0.9596\n",
      "Epoch 14/20\n",
      "10838/10838 [==============================] - 13s 1ms/step - loss: 0.0497 - accuracy: 0.9807 - val_loss: 0.1935 - val_accuracy: 0.9236\n",
      "Epoch 15/20\n",
      "10838/10838 [==============================] - 12s 1ms/step - loss: 0.0595 - accuracy: 0.9786 - val_loss: 0.0149 - val_accuracy: 0.9978\n",
      "Epoch 16/20\n",
      "10838/10838 [==============================] - 12s 1ms/step - loss: 0.0446 - accuracy: 0.9848 - val_loss: 0.2903 - val_accuracy: 0.8942\n",
      "Epoch 17/20\n",
      "10838/10838 [==============================] - 12s 1ms/step - loss: 0.0517 - accuracy: 0.9811 - val_loss: 0.1219 - val_accuracy: 0.9546\n",
      "Epoch 18/20\n",
      "10838/10838 [==============================] - 12s 1ms/step - loss: 0.0499 - accuracy: 0.9819 - val_loss: 0.0442 - val_accuracy: 0.9856\n",
      "Epoch 19/20\n",
      "10838/10838 [==============================] - 13s 1ms/step - loss: 0.0477 - accuracy: 0.9828 - val_loss: 0.0357 - val_accuracy: 0.9889\n",
      "Epoch 20/20\n",
      "10838/10838 [==============================] - 12s 1ms/step - loss: 0.0533 - accuracy: 0.9811 - val_loss: 0.2796 - val_accuracy: 0.9103\n",
      "\n",
      "\n",
      "1806/1806 [==============================] - 1s 407us/step\n",
      "\n",
      "-------------Model Evaluation Results Fold_7-----------\n",
      "accuracy: 91.03%\n",
      "\n",
      "------------------------------------------------------------------------------------------------------------\n",
      "89.66% (+/- 7.36%)\n"
     ]
    }
   ],
   "source": [
    "from sklearn.model_selection import StratifiedKFold\n",
    "\n",
    "skf = StratifiedKFold(n_splits=7, random_state=None)\n",
    "\n",
    "cvscores = []\n",
    "acc = []\n",
    "vacc = []\n",
    "loss = []\n",
    "vloss = []\n",
    "i = 0\n",
    "for train_index, val_index in skf.split(features,labels):\n",
    "    i = i + 1\n",
    "    X_train, X_val = features[train_index], features[val_index]\n",
    "    Y_train, Y_val = labels[train_index], labels[val_index]\n",
    "    name = 'model_SURF_v' + str(i) + '.hdf5'\n",
    "    mcp = ModelCheckpoint(filepath=name, monitor=\"val_accuracy\", save_best_only=True, save_weights_only=False)\n",
    "    \n",
    "    print('\\n')\n",
    "    print('Start Training Fold_' + str(i)+'--------------------------------------')\n",
    "    #print('\\n')\n",
    "    hist = model.fit(X_train,Y_train, validation_data = (X_val,Y_val) , \n",
    "                         epochs = 20,verbose=1,class_weight = class_weights,callbacks=[mcp])\n",
    "    print('\\n')\n",
    "    scores = model.evaluate(X_val,Y_val, verbose=1)\n",
    "    print('\\n-------------Model Evaluation Results '+ 'Fold_' + str(i) + '-----------')\n",
    "    print(\"%s: %.2f%%\" % (model.metrics_names[1], scores[1]*100))\n",
    "    print('\\n------------------------------------------------------------------------------------------------------------')\n",
    "    cvscores.append(scores[1] * 100)\n",
    "    acc.append(hist.history['accuracy'])\n",
    "    vacc.append(hist.history['val_accuracy'])\n",
    "    loss.append(hist.history['loss'])\n",
    "    vloss.append(hist.history['val_loss'])\n",
    "\n",
    "print(\"%.2f%% (+/- %.2f%%)\" % (np.mean(cvscores), np.std(cvscores)))"
   ]
  },
  {
   "cell_type": "markdown",
   "metadata": {},
   "source": [
    "# Predictions on Test Data"
   ]
  },
  {
   "cell_type": "code",
   "execution_count": 16,
   "metadata": {},
   "outputs": [
    {
     "data": {
      "text/plain": [
       "(1406, 150, 150, 3)"
      ]
     },
     "execution_count": 16,
     "metadata": {},
     "output_type": "execute_result"
    }
   ],
   "source": [
    "X_test.shape"
   ]
  },
  {
   "cell_type": "code",
   "execution_count": 17,
   "metadata": {},
   "outputs": [
    {
     "name": "stdout",
     "output_type": "stream",
     "text": [
      "1406/1406 [==============================] - 1s 471us/step\n",
      "\n",
      "CV_Results_Overall Model Performance\n",
      "[1.1942821253583917, 0.8065434098243713]\n"
     ]
    }
   ],
   "source": [
    "# Cross-Validation Predictions\n",
    "test_results = model.evaluate(X_test,Y_test)\n",
    "y_test_pred = model.predict_classes(X_test)\n",
    "\n",
    "print('\\nCV_Results_Overall Model Performance')\n",
    "print(test_results)"
   ]
  },
  {
   "cell_type": "markdown",
   "metadata": {},
   "source": [
    "## Evaluation of each fold"
   ]
  },
  {
   "cell_type": "code",
   "execution_count": 18,
   "metadata": {},
   "outputs": [],
   "source": [
    "fold_results = []"
   ]
  },
  {
   "cell_type": "code",
   "execution_count": 19,
   "metadata": {},
   "outputs": [
    {
     "name": "stdout",
     "output_type": "stream",
     "text": [
      "1406/1406 [==============================] - 1s 387us/step\n",
      "\n",
      "---CV_Results_Fold_1---\n",
      "[0.42168598845707067, 0.8122332692146301]\n"
     ]
    }
   ],
   "source": [
    "model.load_weights('../input/weights/model_SURF_v1.hdf5')\n",
    "fold1_results = model.evaluate(X_test,Y_test)\n",
    "\n",
    "print('\\n---CV_Results_Fold_1---')\n",
    "print(fold1_results)\n",
    "fold_results.append(fold1_results)"
   ]
  },
  {
   "cell_type": "code",
   "execution_count": 20,
   "metadata": {},
   "outputs": [
    {
     "name": "stdout",
     "output_type": "stream",
     "text": [
      "1406/1406 [==============================] - 1s 366us/step\n",
      "\n",
      "---CV_Results_Fold_2---\n",
      "[0.4514714529470224, 0.8200569152832031]\n"
     ]
    }
   ],
   "source": [
    "model.load_weights('../input/weights/model_SURF_v2.hdf5')\n",
    "fold2_results = model.evaluate(X_test,Y_test)\n",
    "\n",
    "print('\\n---CV_Results_Fold_2---')\n",
    "print(fold2_results)\n",
    "fold_results.append(fold2_results)"
   ]
  },
  {
   "cell_type": "code",
   "execution_count": 21,
   "metadata": {},
   "outputs": [
    {
     "name": "stdout",
     "output_type": "stream",
     "text": [
      "1406/1406 [==============================] - 1s 382us/step\n",
      "\n",
      "---CV_Results_Fold_3---\n",
      "[0.4724104069968206, 0.8015646934509277]\n"
     ]
    }
   ],
   "source": [
    "model.load_weights('../input/weights/model_SURF_v3.hdf5')\n",
    "fold3_results = model.evaluate(X_test,Y_test)\n",
    "\n",
    "print('\\n---CV_Results_Fold_3---')\n",
    "print(fold3_results)\n",
    "fold_results.append(fold3_results)"
   ]
  },
  {
   "cell_type": "code",
   "execution_count": 22,
   "metadata": {},
   "outputs": [
    {
     "name": "stdout",
     "output_type": "stream",
     "text": [
      "1406/1406 [==============================] - 1s 370us/step\n",
      "\n",
      "---CV_Results_Fold_4---\n",
      "[0.4595595699116312, 0.8655760884284973]\n"
     ]
    }
   ],
   "source": [
    "model.load_weights('../input/weights/model_SURF_v4.hdf5')\n",
    "fold4_results = model.evaluate(X_test,Y_test)\n",
    "\n",
    "print('\\n---CV_Results_Fold_4---')\n",
    "print(fold4_results)\n",
    "fold_results.append(fold4_results)"
   ]
  },
  {
   "cell_type": "code",
   "execution_count": 23,
   "metadata": {},
   "outputs": [
    {
     "name": "stdout",
     "output_type": "stream",
     "text": [
      "1406/1406 [==============================] - 1s 377us/step\n",
      "\n",
      "---CV_Results_Fold_5---\n",
      "[0.5646633352358345, 0.8449501991271973]\n"
     ]
    }
   ],
   "source": [
    "model.load_weights('../input/weights/model_SURF_v5.hdf5')\n",
    "fold5_results = model.evaluate(X_test,Y_test)\n",
    "\n",
    "print('\\n---CV_Results_Fold_5---')\n",
    "print(fold5_results)\n",
    "fold_results.append(fold5_results)"
   ]
  },
  {
   "cell_type": "code",
   "execution_count": 24,
   "metadata": {},
   "outputs": [
    {
     "name": "stdout",
     "output_type": "stream",
     "text": [
      "1406/1406 [==============================] - 1s 371us/step\n",
      "\n",
      "---CV_Results_Fold_6---\n",
      "[0.5868681129147624, 0.8591749668121338]\n"
     ]
    }
   ],
   "source": [
    "model.load_weights('../input/weights/model_SURF_v6.hdf5')\n",
    "fold6_results = model.evaluate(X_test,Y_test)\n",
    "\n",
    "print('\\n---CV_Results_Fold_6---')\n",
    "print(fold6_results)\n",
    "fold_results.append(fold6_results)"
   ]
  },
  {
   "cell_type": "code",
   "execution_count": 25,
   "metadata": {},
   "outputs": [
    {
     "name": "stdout",
     "output_type": "stream",
     "text": [
      "1406/1406 [==============================] - 1s 366us/step\n",
      "\n",
      "---CV_Results_Fold_7---\n",
      "[0.5794649892307786, 0.8648648858070374]\n"
     ]
    }
   ],
   "source": [
    "model.load_weights('../input/weights/model_SURF_v7.hdf5')\n",
    "fold7_results = model.evaluate(X_test,Y_test)\n",
    "\n",
    "print('\\n---CV_Results_Fold_7---')\n",
    "print(fold7_results)\n",
    "fold_results.append(fold7_results)"
   ]
  },
  {
   "cell_type": "code",
   "execution_count": 26,
   "metadata": {},
   "outputs": [],
   "source": [
    "fold_results = np.array(fold_results)"
   ]
  },
  {
   "cell_type": "code",
   "execution_count": 27,
   "metadata": {},
   "outputs": [],
   "source": [
    "overall_loss = fold_results[:,0]\n",
    "overall_accu = fold_results[:,1]"
   ]
  },
  {
   "cell_type": "code",
   "execution_count": 28,
   "metadata": {},
   "outputs": [
    {
     "name": "stdout",
     "output_type": "stream",
     "text": [
      "\n",
      "\n",
      "Test Data Accuracy : 83.83% (+/- 2.48%)\n"
     ]
    }
   ],
   "source": [
    "print(\"\\n\\nTest Data Accuracy : %.2f%% (+/- %.2f%%)\" % (np.mean(overall_accu)*100, np.std(overall_accu)*100))"
   ]
  },
  {
   "cell_type": "markdown",
   "metadata": {},
   "source": [
    "# Best Model Results"
   ]
  },
  {
   "cell_type": "code",
   "execution_count": 5,
   "metadata": {},
   "outputs": [],
   "source": [
    "model.load_weights('/Users/toothless/Downloads/Results/Code model train/bestweights/model_SURF_v4.hdf5')"
   ]
  },
  {
   "cell_type": "code",
   "execution_count": 10,
   "metadata": {},
   "outputs": [
    {
     "name": "stdout",
     "output_type": "stream",
     "text": [
      "Best CV Fold Accuracy 86.56%\n"
     ]
    }
   ],
   "source": [
    "y_pred = model.predict_classes(X_test)\n",
    "\n",
    "print('Best CV Fold Accuracy %.2f%%' % (metrics.accuracy_score(Y_test, y_pred)*100))"
   ]
  },
  {
   "cell_type": "code",
   "execution_count": 31,
   "metadata": {},
   "outputs": [
    {
     "name": "stdout",
     "output_type": "stream",
     "text": [
      "Model Accuracy 80.65%\n"
     ]
    }
   ],
   "source": [
    "print('Model Accuracy %.2f%%' % (metrics.accuracy_score(Y_test, y_test_pred)*100))"
   ]
  },
  {
   "cell_type": "markdown",
   "metadata": {},
   "source": [
    "# Visualise Results"
   ]
  },
  {
   "cell_type": "markdown",
   "metadata": {},
   "source": [
    "## Train Validation Accuracy"
   ]
  },
  {
   "cell_type": "code",
   "execution_count": 32,
   "metadata": {},
   "outputs": [],
   "source": [
    "acc_1 = np.hstack((acc[0],acc[1],acc[2],acc[3],acc[4],acc[5],acc[6]))\n",
    "vacc_1 = np.hstack((vacc[0],vacc[1],vacc[2],vacc[3],vacc[4],vacc[5],vacc[6]))\n",
    "loss_1 = np.hstack((loss[0],loss[1],loss[2],loss[3],loss[4],loss[5],loss[6]))\n",
    "vloss_1 = np.hstack((vloss[0],vloss[1],vloss[2],vloss[3],vloss[4],vloss[5],vloss[6]))"
   ]
  },
  {
   "cell_type": "code",
   "execution_count": 33,
   "metadata": {},
   "outputs": [],
   "source": [
    "def plot_model_history(acc,vacc,loss,vloss):\n",
    "    fig, axs = plt.subplots(1,2,figsize=(15,5))\n",
    "    axs[0].plot(range(1,len(acc)+1),acc)\n",
    "    axs[0].plot(range(1,len(vacc)+1),vacc)\n",
    "    axs[0].set_title('Model Accuracy')\n",
    "    axs[0].set_ylabel('Accuracy')\n",
    "    axs[0].set_xlabel('Epoch')\n",
    "    axs[0].set_xticks(np.arange(1,len(acc)+1),len(acc)/10)\n",
    "    axs[0].legend(['train', 'val'], loc='best')\n",
    "    axs[1].plot(range(1,len(loss)+1),loss)\n",
    "    axs[1].plot(range(1,len(vloss)+1),vloss)\n",
    "    axs[1].set_title('Model Loss')\n",
    "    axs[1].set_ylabel('Loss')\n",
    "    axs[1].set_xlabel('Epoch')\n",
    "    axs[1].set_xticks(np.arange(1,len(loss)+1),len(loss)/10)\n",
    "    axs[1].legend(['train', 'val'], loc='best')\n",
    "    plt.show()"
   ]
  },
  {
   "cell_type": "code",
   "execution_count": 34,
   "metadata": {},
   "outputs": [
    {
     "name": "stderr",
     "output_type": "stream",
     "text": [
      "/opt/conda/lib/python3.7/site-packages/ipykernel_launcher.py:8: MatplotlibDeprecationWarning: Passing the minor parameter of set_xticks() positionally is deprecated since Matplotlib 3.2; the parameter will become keyword-only two minor releases later.\n",
      "  \n",
      "/opt/conda/lib/python3.7/site-packages/ipykernel_launcher.py:15: MatplotlibDeprecationWarning: Passing the minor parameter of set_xticks() positionally is deprecated since Matplotlib 3.2; the parameter will become keyword-only two minor releases later.\n",
      "  from ipykernel import kernelapp as app\n"
     ]
    },
    {
     "data": {
      "image/png": "[encoded data removed]",
      "text/plain": [
       "<Figure size 1080x360 with 2 Axes>"
      ]
     },
     "metadata": {
      "needs_background": "light"
     },
     "output_type": "display_data"
    }
   ],
   "source": [
    "plot_model_history(acc_1,vacc_1,loss_1,vloss_1)"
   ]
  },
  {
   "cell_type": "markdown",
   "metadata": {},
   "source": [
    "# Confusion Matrix"
   ]
  },
  {
   "cell_type": "code",
   "execution_count": 11,
   "metadata": {},
   "outputs": [],
   "source": [
    "def plot_confusion_matrix(cm,target_names,title='Confusion matrix',cmap=None,normalize=True):\n",
    "    import matplotlib.pyplot as plt\n",
    "    import numpy as np\n",
    "    import itertools\n",
    "\n",
    "    accuracy = np.trace(cm) / float(np.sum(cm))\n",
    "    misclass = 1 - accuracy\n",
    "\n",
    "    if cmap is None:\n",
    "        cmap = plt.get_cmap('Blues')\n",
    "\n",
    "    plt.figure(figsize=(6, 4))\n",
    "    plt.grid(b=False)\n",
    "    plt.imshow(cm, interpolation='nearest', cmap=cmap)\n",
    "    plt.title(title,fontsize=12,weight='bold')\n",
    "    #plt.legend('off')\n",
    "    #plt.colorbar()\n",
    "\n",
    "    if target_names is not None:\n",
    "        tick_marks = np.arange(len(target_names))\n",
    "        plt.xticks(tick_marks, target_names, rotation=0,fontsize=12,weight='bold')\n",
    "        plt.yticks(tick_marks, target_names,fontsize=12,weight='bold')\n",
    "    if normalize:\n",
    "        cm = cm.astype('float') / cm.sum(axis=1)[:, np.newaxis]\n",
    "\n",
    "    thresh = cm.max() / 1.5 if normalize else cm.max() / 2\n",
    "    for i, j in itertools.product(range(cm.shape[0]), range(cm.shape[1])):\n",
    "        if normalize:\n",
    "            plt.text(j, i, \"{:0.4f}\".format(cm[i, j]),\n",
    "                     horizontalalignment=\"center\",\n",
    "                     color=\"white\" if cm[i, j] > thresh else \"black\",fontsize=12,weight='bold')\n",
    "        else:\n",
    "            plt.text(j, i, \"{:,}\".format(cm[i, j]),\n",
    "                     horizontalalignment=\"center\",\n",
    "                     color=\"white\" if cm[i, j] > thresh else \"black\",fontsize=12,weight='bold')\n",
    "    plt.tight_layout()\n",
    "    plt.ylabel('True label',fontsize=12,weight='bold')\n",
    "    plt.xlabel('\\n Predicted label \\n Test accuracy={:0.2f}%; Misclass={:0.2f}%'.format(accuracy*100, misclass*100),fontsize=12,weight='bold')\n",
    "    #plt.get_legend().remove()\n",
    "    \n",
    "    plt.show()"
   ]
  },
  {
   "cell_type": "code",
   "execution_count": 12,
   "metadata": {},
   "outputs": [
    {
     "data": {
      "image/png": "[encoded data removed]",
      "text/plain": [
       "<Figure size 432x288 with 1 Axes>"
      ]
     },
     "metadata": {
      "needs_background": "light"
     },
     "output_type": "display_data"
    }
   ],
   "source": [
    "from sklearn.metrics import confusion_matrix\n",
    "cm = confusion_matrix(Y_test,y_pred)\n",
    "plot_confusion_matrix(cm = cm,normalize= False,cmap ='binary',target_names = ['nocancer', 'cancer'],\n",
    "                      title= '')"
   ]
  },
  {
   "cell_type": "code",
   "execution_count": 13,
   "metadata": {},
   "outputs": [
    {
     "name": "stdout",
     "output_type": "stream",
     "text": [
      "534 144 45 683\n"
     ]
    }
   ],
   "source": [
    "tn, fp, fn, tp = confusion_matrix(Y_test,y_pred).ravel()\n",
    "print(tn, fp, fn, tp)"
   ]
  },
  {
   "cell_type": "code",
   "execution_count": 14,
   "metadata": {},
   "outputs": [
    {
     "name": "stdout",
     "output_type": "stream",
     "text": [
      "Sensitivity 93.82%\n"
     ]
    }
   ],
   "source": [
    "print(\"Sensitivity %.2f%%\" % ((tp / (tp + fn))*100))"
   ]
  },
  {
   "cell_type": "code",
   "execution_count": 15,
   "metadata": {},
   "outputs": [
    {
     "name": "stdout",
     "output_type": "stream",
     "text": [
      "Specificity 78.76%\n"
     ]
    }
   ],
   "source": [
    "print(\"Specificity %.2f%%\" % ((tn / (tn + fp))*100))"
   ]
  },
  {
   "cell_type": "markdown",
   "metadata": {},
   "source": [
    "# Classification Report"
   ]
  },
  {
   "cell_type": "code",
   "execution_count": 16,
   "metadata": {},
   "outputs": [
    {
     "name": "stdout",
     "output_type": "stream",
     "text": [
      "              precision    recall  f1-score   support\n",
      "\n",
      "    nocancer       0.92      0.79      0.85       678\n",
      "      cancer       0.83      0.94      0.88       728\n",
      "\n",
      "    accuracy                           0.87      1406\n",
      "   macro avg       0.87      0.86      0.86      1406\n",
      "weighted avg       0.87      0.87      0.86      1406\n",
      "\n"
     ]
    }
   ],
   "source": [
    "from sklearn.metrics import classification_report\n",
    "\n",
    "# Generate a classification report\n",
    "report = classification_report(Y_test, y_pred, target_names=['nocancer','cancer'])\n",
    "\n",
    "print(report)"
   ]
  },
  {
   "cell_type": "code",
   "execution_count": 17,
   "metadata": {},
   "outputs": [
    {
     "name": "stdout",
     "output_type": "stream",
     "text": [
      "86.46%\n"
     ]
    }
   ],
   "source": [
    "print(\"%.2f%%\" % (metrics.f1_score(Y_test, y_pred,average='weighted')*100))"
   ]
  },
  {
   "cell_type": "markdown",
   "metadata": {},
   "source": [
    "# Saving Train / Validation Data"
   ]
  },
  {
   "cell_type": "code",
   "execution_count": null,
   "metadata": {},
   "outputs": [],
   "source": [
    "SURF_result = pd.DataFrame()"
   ]
  },
  {
   "cell_type": "code",
   "execution_count": null,
   "metadata": {},
   "outputs": [],
   "source": [
    "SURF_result['surf_acc'] = acc_1\n",
    "SURF_result['surf_vacc'] = vacc_1\n",
    "SURF_result['surfloss'] = loss_1\n",
    "SURF_result['surf_vloss'] = vloss_1"
   ]
  },
  {
   "cell_type": "code",
   "execution_count": null,
   "metadata": {},
   "outputs": [],
   "source": [
    "SURF_result.head()"
   ]
  },
  {
   "cell_type": "code",
   "execution_count": null,
   "metadata": {},
   "outputs": [],
   "source": [
    "SURF_result.to_csv('surf_results.csv', sep='\\t', encoding='utf-8')"
   ]
  },
  {
   "cell_type": "code",
   "execution_count": null,
   "metadata": {},
   "outputs": [],
   "source": []
  }
 ],
 "metadata": {
  "kernelspec": {
   "display_name": "Python 3",
   "language": "python",
   "name": "python3"
  },
  "language_info": {
   "codemirror_mode": {
    "name": "ipython",
    "version": 3
   },
   "file_extension": ".py",
   "mimetype": "text/x-python",
   "name": "python",
   "nbconvert_exporter": "python",
   "pygments_lexer": "ipython3",
   "version": "3.7.6"
  }
 },
 "nbformat": 4,
 "nbformat_minor": 4
}
