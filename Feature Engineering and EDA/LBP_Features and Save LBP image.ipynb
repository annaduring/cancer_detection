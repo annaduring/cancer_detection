{
 "cells": [
  {
   "cell_type": "code",
   "execution_count": 1,
   "metadata": {},
   "outputs": [],
   "source": [
    "from PIL import Image\n",
    "import os.path, sys\n",
    "from skimage.io import imread, imshow\n",
    "import cv2\n",
    "from skimage import data, color, feature , exposure\n",
    "import imgaug.augmenters as iaa\n",
    "import numpy as np\n",
    "import pandas as pd\n",
    "from skimage.transform import resize\n",
    "from skimage.feature import hog\n",
    "import matplotlib.pyplot as plt\n",
    "get_ipython().run_line_magic('matplotlib', 'inline')\n",
    "import seaborn as sns; sns.set()\n",
    "import glob\n",
    "import os\n",
    "from skimage.feature import hog\n",
    "from sklearn import svm\n",
    "from sklearn.metrics import classification_report,accuracy_score\n",
    "from skimage.transform import rotate\n",
    "from skimage.feature import local_binary_pattern\n",
    "from skimage import data\n",
    "from skimage.color import label2rgb , hsv2rgb"
   ]
  },
  {
   "cell_type": "code",
   "execution_count": 2,
   "metadata": {},
   "outputs": [],
   "source": [
    "radius = 1\n",
    "n_points = 8 * radius\n",
    "METHOD = 'uniform'\n",
    "plt.rcParams['font.size'] = 9\n",
    "\n",
    "w = width = radius - 1\n",
    "edge_labels = range(n_points // 2 - w, n_points // 2 + w + 1)\n",
    "flat_labels = list(range(0, w + 1)) + list(range(n_points - w, n_points + 2))\n",
    "i_14 = n_points // 4            # 1/4th of the histogram\n",
    "i_34 = 3 * (n_points // 4)      # 3/4th of the histogram\n",
    "corner_labels = (list(range(i_14 - w, i_14 + w + 1)) +\n",
    "                 list(range(i_34 - w, i_34 + w + 1)))\n",
    "\n",
    "labels = (edge_labels,flat_labels,corner_labels)"
   ]
  },
  {
   "cell_type": "code",
   "execution_count": 3,
   "metadata": {},
   "outputs": [],
   "source": [
    "def overlay_labels(image, lbp, labels):\n",
    "    mask = np.logical_or.reduce([lbp == each for each in labels])\n",
    "    return label2rgb(mask, image=image, bg_label=0, alpha=0.5)\n"
   ]
  },
  {
   "cell_type": "code",
   "execution_count": 4,
   "metadata": {},
   "outputs": [],
   "source": [
    "def lbp_images(path,save_path):\n",
    "    dirs = os.listdir(path)\n",
    "    radius = 1\n",
    "    n_points = 8 * radius\n",
    "    METHOD = 'uniform'\n",
    "    for item in dirs:\n",
    "        if item == '.DS_Store':\n",
    "             continue\n",
    "        if os.path.isfile(path+item):\n",
    "            img = cv2.imread(path+item)\n",
    "            im_gray = cv2.cvtColor(img, cv2.COLOR_BGR2GRAY)\n",
    "            lbp = local_binary_pattern(im_gray, n_points, radius, METHOD)\n",
    "            lbp_im = overlay_labels(img,lbp,edge_labels)\n",
    "            final_im = Image.fromarray((lbp_im * 255).astype(np.uint8))\n",
    "            name,ext = item.split('.')\n",
    "            final_im.save(save_path + name + '.jpg', 'JPEG', quality=100)"
   ]
  },
  {
   "cell_type": "markdown",
   "metadata": {},
   "source": [
    "# Train Data"
   ]
  },
  {
   "cell_type": "code",
   "execution_count": 5,
   "metadata": {},
   "outputs": [],
   "source": [
    "path = '/Users/toothless/Downloads/Thesis/data/Train/original/cancer/'\n",
    "save_path = '/Users/toothless/Downloads/Thesis/data/Train/lbp_img/cancer/'"
   ]
  },
  {
   "cell_type": "code",
   "execution_count": 6,
   "metadata": {},
   "outputs": [],
   "source": [
    "lbp_images(path,save_path)"
   ]
  },
  {
   "cell_type": "code",
   "execution_count": 7,
   "metadata": {},
   "outputs": [],
   "source": [
    "path1 = '/Users/toothless/Downloads/Thesis/data/Train/original/_nocancer/'\n",
    "save_path1 = '/Users/toothless/Downloads/Thesis/data/Train/lbp_img/_nocancer/'"
   ]
  },
  {
   "cell_type": "code",
   "execution_count": 8,
   "metadata": {},
   "outputs": [],
   "source": [
    "lbp_images(path1,save_path1)"
   ]
  },
  {
   "cell_type": "code",
   "execution_count": 5,
   "metadata": {},
   "outputs": [],
   "source": [
    "path = '/Users/toothless/Downloads/Thesis/code/figimg/'\n",
    "save_path = '/Users/toothless/Downloads/Thesis/code/figimg/lbp/'"
   ]
  },
  {
   "cell_type": "code",
   "execution_count": 6,
   "metadata": {},
   "outputs": [],
   "source": [
    "lbp_images(path,save_path)"
   ]
  },
  {
   "cell_type": "code",
   "execution_count": 5,
   "metadata": {},
   "outputs": [],
   "source": [
    "path = '/Users/toothless/Downloads/temp/'\n",
    "save_path = '/Users/toothless/Downloads/temp/'"
   ]
  },
  {
   "cell_type": "code",
   "execution_count": 6,
   "metadata": {},
   "outputs": [],
   "source": [
    "lbp_images(path,save_path)"
   ]
  },
  {
   "cell_type": "code",
   "execution_count": null,
   "metadata": {},
   "outputs": [],
   "source": []
  }
 ],
 "metadata": {
  "kernelspec": {
   "display_name": "Python 3",
   "language": "python",
   "name": "python3"
  },
  "language_info": {
   "codemirror_mode": {
    "name": "ipython",
    "version": 3
   },
   "file_extension": ".py",
   "mimetype": "text/x-python",
   "name": "python",
   "nbconvert_exporter": "python",
   "pygments_lexer": "ipython3",
   "version": "3.7.6"
  }
 },
 "nbformat": 4,
 "nbformat_minor": 4
}
