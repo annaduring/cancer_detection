{
 "cells": [
  {
   "cell_type": "code",
   "execution_count": 1,
   "metadata": {},
   "outputs": [],
   "source": [
    "from PIL import Image\n",
    "import os.path, sys\n",
    "from skimage.io import imread, imshow\n",
    "import cv2\n",
    "from skimage import data, color, feature , exposure\n",
    "import imgaug.augmenters as iaa\n",
    "import numpy as np\n",
    "import pandas as pd\n",
    "from skimage.transform import resize\n",
    "from skimage.feature import hog\n",
    "import matplotlib.pyplot as plt\n",
    "get_ipython().run_line_magic('matplotlib', 'inline')\n",
    "import seaborn as sns; sns.set()\n",
    "import glob\n",
    "import os"
   ]
  },
  {
   "cell_type": "code",
   "execution_count": 2,
   "metadata": {},
   "outputs": [],
   "source": [
    "def image_rotate(path,save_path,rotate_deg):\n",
    "    dirs = os.listdir(path)\n",
    "    for item in dirs:\n",
    "        if item == '.DS_Store':\n",
    "             continue\n",
    "        if os.path.isfile(path+item):\n",
    "            image = Image.open(path+item)\n",
    "            image_rot = image.rotate(rotate_deg)\n",
    "            name,ext = item.split('.')\n",
    "            save_im = save_path+name+'_rt.bmp'\n",
    "            #print(save_im)\n",
    "            image_rot.save(save_im,'BMP')"
   ]
  },
  {
   "cell_type": "code",
   "execution_count": 3,
   "metadata": {},
   "outputs": [],
   "source": [
    "path = '/Users/toothless/Downloads/Thesis/data/Train/original/_nocancer/'\n",
    "save_path = '/Users/toothless/Downloads/Thesis/data/Train/original/_nocancer/'"
   ]
  },
  {
   "cell_type": "code",
   "execution_count": 4,
   "metadata": {},
   "outputs": [],
   "source": [
    "image_rotate(path,save_path,180)"
   ]
  }
 ],
 "metadata": {
  "kernelspec": {
   "display_name": "Python 3",
   "language": "python",
   "name": "python3"
  },
  "language_info": {
   "codemirror_mode": {
    "name": "ipython",
    "version": 3
   },
   "file_extension": ".py",
   "mimetype": "text/x-python",
   "name": "python",
   "nbconvert_exporter": "python",
   "pygments_lexer": "ipython3",
   "version": "3.7.6"
  }
 },
 "nbformat": 4,
 "nbformat_minor": 4
}
