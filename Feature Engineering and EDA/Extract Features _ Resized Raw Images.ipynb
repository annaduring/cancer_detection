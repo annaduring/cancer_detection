{
 "cells": [
  {
   "cell_type": "code",
   "execution_count": 1,
   "metadata": {},
   "outputs": [],
   "source": [
    "from PIL import Image\n",
    "import os.path, sys\n",
    "from skimage.io import imread, imshow\n",
    "import cv2\n",
    "from skimage import data, color, feature , exposure\n",
    "import imgaug.augmenters as iaa\n",
    "import numpy as np\n",
    "import pandas as pd\n",
    "from skimage.transform import resize\n",
    "from skimage.feature import hog\n",
    "import matplotlib.pyplot as plt\n",
    "get_ipython().run_line_magic('matplotlib', 'inline')\n",
    "import seaborn as sns; sns.set()\n",
    "import glob\n",
    "import os\n",
    "\n",
    "from _helper_functions import resize_aspect_fit"
   ]
  },
  {
   "cell_type": "markdown",
   "metadata": {},
   "source": [
    "# --------------------------------Train Data-----------------------------------------"
   ]
  },
  {
   "cell_type": "code",
   "execution_count": 2,
   "metadata": {},
   "outputs": [
    {
     "data": {
      "text/plain": [
       "(6778, 150, 150, 3)"
      ]
     },
     "execution_count": 2,
     "metadata": {},
     "output_type": "execute_result"
    }
   ],
   "source": [
    "path = '/Users/toothless/Downloads/Thesis/data/Train/original/_nocancer/'\n",
    "\n",
    "nocan_re = resize_aspect_fit(path,150)\n",
    "\n",
    "nocan_re.shape"
   ]
  },
  {
   "cell_type": "code",
   "execution_count": 3,
   "metadata": {},
   "outputs": [
    {
     "data": {
      "text/plain": [
       "<matplotlib.image.AxesImage at 0x1a2b2ec610>"
      ]
     },
     "execution_count": 3,
     "metadata": {},
     "output_type": "execute_result"
    },
    {
     "data": {
      "image/png": "[encoded data removed]",
      "text/plain": [
       "<Figure size 432x288 with 1 Axes>"
      ]
     },
     "metadata": {},
     "output_type": "display_data"
    }
   ],
   "source": [
    "imshow(nocan_re[0])"
   ]
  },
  {
   "cell_type": "code",
   "execution_count": null,
   "metadata": {},
   "outputs": [],
   "source": [
    "ncan_train , ncan_test = nocan_re[:]"
   ]
  },
  {
   "cell_type": "code",
   "execution_count": null,
   "metadata": {},
   "outputs": [],
   "source": [
    "path1 = '/Users/toothless/Downloads/Thesis/data/Train/original/cancer/'\n",
    "can_re = resize_aspect_fit(path1,150)\n",
    "can_re.shape"
   ]
  },
  {
   "cell_type": "code",
   "execution_count": null,
   "metadata": {},
   "outputs": [],
   "source": [
    "print(nocan_re.shape)\n",
    "print(can_re.shape)"
   ]
  },
  {
   "cell_type": "code",
   "execution_count": null,
   "metadata": {},
   "outputs": [],
   "source": [
    "can_labels = np.ones(can_re.shape[0])\n",
    "nocan_labels = np.zeros(nocan_re.shape[0])\n",
    "\n",
    "\n",
    "#Cancatenate Features and labels\n",
    "features = np.concatenate((can_re,nocan_re),axis = 0)\n",
    "labels = np.concatenate((can_labels,nocan_labels) , axis = 0)\n",
    "\n",
    "#reshape features array\n",
    "features = np.reshape(features,(features.shape[0],150*150*3))\n",
    "\n",
    "# save labels and features to dataframe and shuffle data\n",
    "train_df = pd.DataFrame(features)\n",
    "train_df['labels'] = labels\n",
    "\n",
    "train_df  = train_df.sample(frac=1).reset_index(drop=True)"
   ]
  },
  {
   "cell_type": "code",
   "execution_count": null,
   "metadata": {},
   "outputs": [],
   "source": [
    "# Convert Features to Array and Save it\n",
    "labels = train_df.pop('labels')\n",
    "features = train_df.values\n",
    "\n",
    "features = np.reshape(features,(features.shape[0],150,150,3))"
   ]
  },
  {
   "cell_type": "code",
   "execution_count": null,
   "metadata": {},
   "outputs": [],
   "source": [
    "features = features /255"
   ]
  },
  {
   "cell_type": "code",
   "execution_count": null,
   "metadata": {},
   "outputs": [],
   "source": [
    "imshow(features[10])"
   ]
  },
  {
   "cell_type": "code",
   "execution_count": null,
   "metadata": {},
   "outputs": [],
   "source": [
    "# Save test Features\n",
    "np.savez_compressed('/Users/toothless/Downloads/Thesis/data/feat/Train_RAW_150',features=features, labels=labels)"
   ]
  },
  {
   "cell_type": "markdown",
   "metadata": {},
   "source": [
    "# --------------------------------TEST DATA------------------------------------------"
   ]
  },
  {
   "cell_type": "code",
   "execution_count": null,
   "metadata": {},
   "outputs": [],
   "source": [
    "path1 = '/Users/toothless/Downloads/Thesis/data/Test/cancer/'\n",
    "test_can_re = resize_aspect_fit(path1,150)\n",
    "test_can_re.shape"
   ]
  },
  {
   "cell_type": "code",
   "execution_count": null,
   "metadata": {},
   "outputs": [],
   "source": [
    "path = '/Users/toothless/Downloads/Thesis/data/Test/_nocancer/'\n",
    "test_nocan_re = resize_aspect_fit(path,150)\n",
    "test_nocan_re.shape"
   ]
  },
  {
   "cell_type": "code",
   "execution_count": null,
   "metadata": {},
   "outputs": [],
   "source": [
    "testcan_labels = np.ones(test_can_re.shape[0])\n",
    "testnocan_labels = np.zeros(test_nocan_re.shape[0])\n",
    "\n",
    "\n",
    "#Cancatenate Features and labels\n",
    "features = np.concatenate((test_can_re,test_nocan_re),axis = 0)\n",
    "labels = np.concatenate((testcan_labels,testnocan_labels) , axis = 0)\n",
    "\n",
    "#reshape features array\n",
    "features = np.reshape(features,(features.shape[0],150*150*3))\n",
    "\n",
    "# save labels and features to dataframe and shuffle data\n",
    "test_df = pd.DataFrame(features)\n",
    "test_df['labels'] = labels\n",
    "\n",
    "test_df  = test_df.sample(frac=1).reset_index(drop=True)"
   ]
  },
  {
   "cell_type": "code",
   "execution_count": null,
   "metadata": {},
   "outputs": [],
   "source": [
    "# Convert Features to Array and Save it\n",
    "labels = test_df.pop('labels')\n",
    "features = test_df.values\n",
    "\n",
    "#reshape before saving\n",
    "features = np.reshape(features,(features.shape[0],150,150,3))"
   ]
  },
  {
   "cell_type": "code",
   "execution_count": null,
   "metadata": {},
   "outputs": [],
   "source": [
    "features = features /255"
   ]
  },
  {
   "cell_type": "code",
   "execution_count": null,
   "metadata": {},
   "outputs": [],
   "source": [
    "imshow(features[100])"
   ]
  },
  {
   "cell_type": "code",
   "execution_count": null,
   "metadata": {},
   "outputs": [],
   "source": [
    "# Save test Features\n",
    "np.savez_compressed('/Users/toothless/Downloads/Thesis/data/feat/Test_RAW_150',features=features, labels=labels)"
   ]
  },
  {
   "cell_type": "code",
   "execution_count": null,
   "metadata": {},
   "outputs": [],
   "source": []
  }
 ],
 "metadata": {
  "kernelspec": {
   "display_name": "Python 3",
   "language": "python",
   "name": "python3"
  },
  "language_info": {
   "codemirror_mode": {
    "name": "ipython",
    "version": 3
   },
   "file_extension": ".py",
   "mimetype": "text/x-python",
   "name": "python",
   "nbconvert_exporter": "python",
   "pygments_lexer": "ipython3",
   "version": "3.7.6"
  }
 },
 "nbformat": 4,
 "nbformat_minor": 4
}
