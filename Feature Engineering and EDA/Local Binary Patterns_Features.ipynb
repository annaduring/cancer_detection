{
 "cells": [
  {
   "cell_type": "code",
   "execution_count": 1,
   "metadata": {},
   "outputs": [],
   "source": [
    "from PIL import Image\n",
    "import os.path, sys\n",
    "from skimage.io import imread, imshow\n",
    "import cv2\n",
    "from skimage import data, color, feature , exposure\n",
    "import imgaug.augmenters as iaa\n",
    "import numpy as np\n",
    "import pandas as pd\n",
    "from skimage.transform import resize\n",
    "from skimage.feature import hog\n",
    "import matplotlib.pyplot as plt\n",
    "get_ipython().run_line_magic('matplotlib', 'inline')\n",
    "import seaborn as sns; sns.set()\n",
    "import glob\n",
    "import os\n",
    "\n",
    "from _helper_functions import resize_aspect_fit , _calc_texture_gradient ,get_lbp_feat"
   ]
  },
  {
   "cell_type": "markdown",
   "metadata": {},
   "source": [
    "# --------------------------------------Train Data-----------------------------------------"
   ]
  },
  {
   "cell_type": "code",
   "execution_count": 2,
   "metadata": {},
   "outputs": [],
   "source": [
    "path = '/Users/toothless/Downloads/Thesis/data/Train/lbp_img/cancer/'\n",
    "can_re = resize_aspect_fit(path,150)"
   ]
  },
  {
   "cell_type": "code",
   "execution_count": 3,
   "metadata": {},
   "outputs": [],
   "source": [
    "path = '/Users/toothless/Downloads/Thesis/data/Train/lbp_img/_nocancer/'\n",
    "ncan_re = resize_aspect_fit(path,150)"
   ]
  },
  {
   "cell_type": "code",
   "execution_count": 4,
   "metadata": {},
   "outputs": [
    {
     "name": "stdout",
     "output_type": "stream",
     "text": [
      "(7272, 150, 150, 3)\n",
      "(6778, 150, 150, 3)\n"
     ]
    }
   ],
   "source": [
    "print(can_re.shape)\n",
    "print(ncan_re.shape)"
   ]
  },
  {
   "cell_type": "code",
   "execution_count": 5,
   "metadata": {},
   "outputs": [],
   "source": [
    "train_can , test_can = can_re[:6544] , can_re[6544:]\n",
    "train_ncan , test_ncan = ncan_re[:6100] , ncan_re[:6100]"
   ]
  },
  {
   "cell_type": "code",
   "execution_count": 7,
   "metadata": {},
   "outputs": [],
   "source": [
    "lcan_labels = np.ones(train_can.shape[0])\n",
    "lnocan_labels = np.zeros(train_ncan.shape[0])\n",
    "\n",
    "\n",
    "#Cancatenate Features and labels\n",
    "features = np.concatenate((train_can,train_ncan),axis = 0)\n",
    "labels = np.concatenate((lcan_labels,lnocan_labels) , axis = 0)\n",
    "\n",
    "#reshape features array\n",
    "features = np.reshape(features,(features.shape[0],150*150*3))\n",
    "\n",
    "# save labels and features to dataframe and shuffle data\n",
    "train_df = pd.DataFrame(features)\n",
    "train_df['labels'] = labels\n",
    "\n",
    "train_df  = train_df.sample(frac=1).reset_index(drop=True)"
   ]
  },
  {
   "cell_type": "code",
   "execution_count": 8,
   "metadata": {},
   "outputs": [],
   "source": [
    "# Convert Features to Array and Save it\n",
    "labels = train_df.pop('labels')\n",
    "features = train_df.values\n",
    "\n",
    "features = np.reshape(features,(features.shape[0],150,150,3))"
   ]
  },
  {
   "cell_type": "code",
   "execution_count": 9,
   "metadata": {},
   "outputs": [
    {
     "name": "stdout",
     "output_type": "stream",
     "text": [
      "(12644, 150, 150, 3)\n",
      "(12644,)\n"
     ]
    }
   ],
   "source": [
    "print(features.shape)\n",
    "print(labels.shape)"
   ]
  },
  {
   "cell_type": "code",
   "execution_count": 12,
   "metadata": {},
   "outputs": [],
   "source": [
    "# Save test Features\n",
    "np.savez_compressed('/Users/toothless/Downloads/Thesis_Results/LBP + CNN/data/Train_LBP_v2',\n",
    "                    features_lbp=features, labels_lbp=labels)"
   ]
  },
  {
   "cell_type": "markdown",
   "metadata": {},
   "source": [
    "# ----------------------------------TEST DATA------------------------------------------"
   ]
  },
  {
   "cell_type": "code",
   "execution_count": 13,
   "metadata": {},
   "outputs": [],
   "source": [
    "testcan_labels = np.ones(test_can.shape[0])\n",
    "testnocan_labels = np.zeros(test_ncan.shape[0])\n",
    "\n",
    "\n",
    "#Cancatenate Features and labels\n",
    "features = np.concatenate((test_can,test_ncan),axis = 0)\n",
    "labels = np.concatenate((testcan_labels,testnocan_labels) , axis = 0)\n",
    "\n",
    "#reshape features array\n",
    "features = np.reshape(features,(features.shape[0],150*150*3))\n",
    "\n",
    "# save labels and features to dataframe and shuffle data\n",
    "test_df = pd.DataFrame(features)\n",
    "test_df['labels'] = labels\n",
    "\n",
    "test_df  = test_df.sample(frac=1).reset_index(drop=True)"
   ]
  },
  {
   "cell_type": "code",
   "execution_count": 14,
   "metadata": {},
   "outputs": [],
   "source": [
    "# Convert Features to Array and Save it\n",
    "labels = test_df.pop('labels')\n",
    "features = test_df.values\n",
    "\n",
    "#reshape before saving\n",
    "features = np.reshape(features,(features.shape[0],150,150,3))"
   ]
  },
  {
   "cell_type": "code",
   "execution_count": 15,
   "metadata": {},
   "outputs": [],
   "source": [
    "# Save test Features\n",
    "np.savez_compressed('/Users/toothless/Downloads/Thesis_Results/LBP + CNN/data/Test_LBP_v2',\n",
    "                    features_lbp=features, labels_lbp=labels)"
   ]
  },
  {
   "cell_type": "code",
   "execution_count": 17,
   "metadata": {},
   "outputs": [
    {
     "data": {
      "text/plain": [
       "<matplotlib.image.AxesImage at 0x1a283b76d0>"
      ]
     },
     "execution_count": 17,
     "metadata": {},
     "output_type": "execute_result"
    },
    {
     "data": {
      "image/png": "[encoded data removed]",
      "text/plain": [
       "<Figure size 432x288 with 1 Axes>"
      ]
     },
     "metadata": {},
     "output_type": "display_data"
    }
   ],
   "source": [
    "plt.imshow(features[0])"
   ]
  },
  {
   "cell_type": "code",
   "execution_count": null,
   "metadata": {},
   "outputs": [],
   "source": []
  }
 ],
 "metadata": {
  "kernelspec": {
   "display_name": "Python 3",
   "language": "python",
   "name": "python3"
  },
  "language_info": {
   "codemirror_mode": {
    "name": "ipython",
    "version": 3
   },
   "file_extension": ".py",
   "mimetype": "text/x-python",
   "name": "python",
   "nbconvert_exporter": "python",
   "pygments_lexer": "ipython3",
   "version": "3.7.6"
  }
 },
 "nbformat": 4,
 "nbformat_minor": 4
}
