{
 "cells": [
  {
   "cell_type": "code",
   "execution_count": 1,
   "metadata": {},
   "outputs": [],
   "source": [
    "from PIL import Image\n",
    "import os.path, sys\n",
    "from skimage.io import imread, imshow\n",
    "import cv2\n",
    "from skimage import data, color, feature , exposure\n",
    "import imgaug.augmenters as iaa\n",
    "import numpy as np\n",
    "import pandas as pd\n",
    "from skimage.transform import resize\n",
    "from skimage.feature import hog\n",
    "import matplotlib.pyplot as plt\n",
    "get_ipython().run_line_magic('matplotlib', 'inline')\n",
    "import seaborn as sns; sns.set()\n",
    "import glob\n",
    "import os\n",
    "\n",
    "from _helper_functions import resize_aspect_fit , extract_surf_feat"
   ]
  },
  {
   "cell_type": "code",
   "execution_count": 2,
   "metadata": {},
   "outputs": [],
   "source": [
    "path = '/Users/toothless/Downloads/Thesis/data/Train/original/_nocancer/*.bmp'\n",
    "surf_ncan = extract_surf_feat(path)"
   ]
  },
  {
   "cell_type": "code",
   "execution_count": 3,
   "metadata": {},
   "outputs": [],
   "source": [
    "path1 = '/Users/toothless/Downloads/Thesis/data/Train/original/cancer/*.bmp'\n",
    "surf_can = extract_surf_feat(path1)"
   ]
  },
  {
   "cell_type": "code",
   "execution_count": 4,
   "metadata": {},
   "outputs": [
    {
     "name": "stdout",
     "output_type": "stream",
     "text": [
      "(6778, 150, 150, 3)\n",
      "(7272, 150, 150, 3)\n"
     ]
    }
   ],
   "source": [
    "print(surf_ncan.shape)\n",
    "print(surf_can.shape)"
   ]
  },
  {
   "cell_type": "code",
   "execution_count": 5,
   "metadata": {},
   "outputs": [],
   "source": [
    "train_can , test_can = surf_can[:6544] , surf_can[6544:]\n",
    "train_ncan , test_ncan = surf_ncan[:6100] , surf_ncan[6100:]"
   ]
  },
  {
   "cell_type": "code",
   "execution_count": 6,
   "metadata": {},
   "outputs": [
    {
     "name": "stdout",
     "output_type": "stream",
     "text": [
      "(6544, 150, 150, 3)\n",
      "(6100, 150, 150, 3)\n",
      "(728, 150, 150, 3)\n",
      "(678, 150, 150, 3)\n"
     ]
    }
   ],
   "source": [
    "print(train_can.shape)\n",
    "print(train_ncan.shape)\n",
    "print(test_can.shape)\n",
    "print(test_ncan.shape)"
   ]
  },
  {
   "cell_type": "code",
   "execution_count": 7,
   "metadata": {},
   "outputs": [],
   "source": [
    "can_labels = np.ones(train_can.shape[0])\n",
    "nocan_labels = np.zeros(train_ncan.shape[0])\n",
    "\n",
    "\n",
    "#Cancatenate Features and labels\n",
    "features = np.concatenate((train_can,train_ncan),axis = 0)\n",
    "labels = np.concatenate((can_labels,nocan_labels) , axis = 0)\n",
    "\n",
    "#reshape features array\n",
    "features = np.reshape(features,(features.shape[0],150*150*3))\n",
    "\n",
    "# save labels and features to dataframe and shuffle data\n",
    "train_df = pd.DataFrame(features)\n",
    "train_df['labels'] = labels\n",
    "\n",
    "train_df  = train_df.sample(frac=1).reset_index(drop=True)"
   ]
  },
  {
   "cell_type": "code",
   "execution_count": 8,
   "metadata": {},
   "outputs": [],
   "source": [
    "# Convert Features to Array and Save it\n",
    "labels = train_df.pop('labels')\n",
    "features = train_df.values\n",
    "\n",
    "features = np.reshape(features,(features.shape[0],150,150,3))"
   ]
  },
  {
   "cell_type": "code",
   "execution_count": null,
   "metadata": {},
   "outputs": [],
   "source": [
    "#features = features /255"
   ]
  },
  {
   "cell_type": "code",
   "execution_count": 9,
   "metadata": {},
   "outputs": [],
   "source": [
    "# Save test Features\n",
    "np.savez_compressed('/Users/toothless/Downloads/Thesis_Results/SURF + CNN/data/Train_SURF_v2',\n",
    "                    features=features, labels=labels)"
   ]
  },
  {
   "cell_type": "markdown",
   "metadata": {},
   "source": [
    "# Test Data"
   ]
  },
  {
   "cell_type": "code",
   "execution_count": 10,
   "metadata": {},
   "outputs": [],
   "source": [
    "testcan_labels = np.ones(test_can.shape[0])\n",
    "testnocan_labels = np.zeros(test_ncan.shape[0])\n",
    "\n",
    "\n",
    "#Cancatenate Features and labels\n",
    "features = np.concatenate((test_can,test_ncan),axis = 0)\n",
    "labels = np.concatenate((testcan_labels,testnocan_labels) , axis = 0)\n",
    "\n",
    "#reshape features array\n",
    "features = np.reshape(features,(features.shape[0],150*150*3))\n",
    "\n",
    "# save labels and features to dataframe and shuffle data\n",
    "test_df = pd.DataFrame(features)\n",
    "test_df['labels'] = labels\n",
    "\n",
    "test_df  = test_df.sample(frac=1).reset_index(drop=True)"
   ]
  },
  {
   "cell_type": "code",
   "execution_count": 11,
   "metadata": {},
   "outputs": [],
   "source": [
    "# Convert Features to Array and Save it\n",
    "labels = test_df.pop('labels')\n",
    "features = test_df.values\n",
    "\n",
    "#reshape before saving\n",
    "features = np.reshape(features,(features.shape[0],150,150,3))"
   ]
  },
  {
   "cell_type": "code",
   "execution_count": 12,
   "metadata": {},
   "outputs": [],
   "source": [
    "#features = features /255"
   ]
  },
  {
   "cell_type": "code",
   "execution_count": 13,
   "metadata": {},
   "outputs": [
    {
     "data": {
      "text/plain": [
       "<matplotlib.image.AxesImage at 0x1a2a30c4d0>"
      ]
     },
     "execution_count": 13,
     "metadata": {},
     "output_type": "execute_result"
    },
    {
     "data": {
      "image/png": "[encoded data removed]",
      "text/plain": [
       "<Figure size 432x288 with 1 Axes>"
      ]
     },
     "metadata": {},
     "output_type": "display_data"
    }
   ],
   "source": [
    "imshow(features[0])"
   ]
  },
  {
   "cell_type": "code",
   "execution_count": 14,
   "metadata": {},
   "outputs": [],
   "source": [
    "# Save test Features\n",
    "np.savez_compressed('/Users/toothless/Downloads/Thesis_Results/SURF + CNN/data/Test_SURF_v2',features=features, labels=labels)"
   ]
  },
  {
   "cell_type": "code",
   "execution_count": null,
   "metadata": {},
   "outputs": [],
   "source": []
  }
 ],
 "metadata": {
  "kernelspec": {
   "display_name": "Python 3",
   "language": "python",
   "name": "python3"
  },
  "language_info": {
   "codemirror_mode": {
    "name": "ipython",
    "version": 3
   },
   "file_extension": ".py",
   "mimetype": "text/x-python",
   "name": "python",
   "nbconvert_exporter": "python",
   "pygments_lexer": "ipython3",
   "version": "3.7.6"
  }
 },
 "nbformat": 4,
 "nbformat_minor": 4
}
