{
 "cells": [
  {
   "cell_type": "code",
   "execution_count": 1,
   "metadata": {},
   "outputs": [],
   "source": [
    "import matplotlib\n",
    "import numpy as np\n",
    "import cv2\n",
    "from matplotlib import pyplot as plt\n",
    "from PIL import Image, ImageFilter\n",
    "%matplotlib inline\n",
    "from skimage.io import imread, imshow\n",
    "import os\n",
    "import glob\n",
    "import pandas as pd\n",
    "\n",
    "from _helper_functions import hueShift,hsv_to_rgb,rgb_to_hsv,resize_aspect_fit,get_hue_sift"
   ]
  },
  {
   "cell_type": "markdown",
   "metadata": {},
   "source": [
    "# ----------------------------------TRAIN DATA----------------------------------------"
   ]
  },
  {
   "cell_type": "code",
   "execution_count": 2,
   "metadata": {},
   "outputs": [
    {
     "data": {
      "text/plain": [
       "(6778, 150, 150, 3)"
      ]
     },
     "execution_count": 2,
     "metadata": {},
     "output_type": "execute_result"
    }
   ],
   "source": [
    "path = '/Users/toothless/Downloads/Thesis/data/Train/original/_nocancer/'\n",
    "\n",
    "nocan_re = resize_aspect_fit(path,150)\n",
    "\n",
    "nocan_re.shape"
   ]
  },
  {
   "cell_type": "code",
   "execution_count": 3,
   "metadata": {},
   "outputs": [
    {
     "data": {
      "text/plain": [
       "(7272, 150, 150, 3)"
      ]
     },
     "execution_count": 3,
     "metadata": {},
     "output_type": "execute_result"
    }
   ],
   "source": [
    "path = '/Users/toothless/Downloads/Thesis/data/Train/original/cancer/'\n",
    "\n",
    "can_re = resize_aspect_fit(path,150)\n",
    "\n",
    "can_re.shape"
   ]
  },
  {
   "cell_type": "code",
   "execution_count": 4,
   "metadata": {},
   "outputs": [],
   "source": [
    "can_huesift = get_hue_sift(can_re)"
   ]
  },
  {
   "cell_type": "code",
   "execution_count": 5,
   "metadata": {},
   "outputs": [],
   "source": [
    "nocan_huesift = get_hue_sift(nocan_re)"
   ]
  },
  {
   "cell_type": "code",
   "execution_count": 6,
   "metadata": {},
   "outputs": [],
   "source": [
    "train_can , test_can = can_huesift[:6544] , can_huesift[6544:]\n",
    "train_ncan , test_ncan = nocan_huesift[:6100],nocan_huesift[6100:]"
   ]
  },
  {
   "cell_type": "code",
   "execution_count": 9,
   "metadata": {},
   "outputs": [],
   "source": [
    "t_img = Image.fromarray(train_can[0].astype(np.uint8))"
   ]
  },
  {
   "cell_type": "code",
   "execution_count": 13,
   "metadata": {},
   "outputs": [
    {
     "data": {
      "image/png": "[encoded data removed]",
      "text/plain": [
       "<PIL.Image.Image image mode=RGB size=150x150 at 0x1A29C39490>"
      ]
     },
     "execution_count": 13,
     "metadata": {},
     "output_type": "execute_result"
    }
   ],
   "source": [
    "t_img"
   ]
  },
  {
   "cell_type": "code",
   "execution_count": 7,
   "metadata": {},
   "outputs": [
    {
     "name": "stdout",
     "output_type": "stream",
     "text": [
      "(6544, 150, 150, 3)\n",
      "(728, 150, 150, 3)\n",
      "(6100, 150, 150, 3)\n",
      "(678, 150, 150, 3)\n"
     ]
    }
   ],
   "source": [
    "print(train_can.shape)\n",
    "print(test_can.shape)\n",
    "print(train_ncan.shape)\n",
    "print(test_ncan.shape)"
   ]
  },
  {
   "cell_type": "code",
   "execution_count": 19,
   "metadata": {},
   "outputs": [],
   "source": [
    "can_labels = np.ones(train_can.shape[0])\n",
    "nocan_labels = np.zeros(train_ncan.shape[0])\n",
    "\n",
    "#Cancatenate Features and labels\n",
    "features = np.concatenate((train_can,train_ncan),axis = 0)\n",
    "labels = np.concatenate((can_labels,nocan_labels) , axis = 0)\n",
    "\n",
    "#reshape features array\n",
    "features = np.reshape(features,(features.shape[0],150*150*3))\n",
    "\n",
    "# save labels and features to dataframe and shuffle data\n",
    "train_df = pd.DataFrame(features)\n",
    "train_df['labels'] = labels\n",
    "\n",
    "train_df  = train_df.sample(frac=1).reset_index(drop=True)"
   ]
  },
  {
   "cell_type": "code",
   "execution_count": 20,
   "metadata": {},
   "outputs": [],
   "source": [
    "# Convert Features to Array and Save it\n",
    "labels = train_df.pop('labels')\n",
    "features = train_df.values\n",
    "\n",
    "features = np.reshape(features,(features.shape[0],150,150,3))"
   ]
  },
  {
   "cell_type": "code",
   "execution_count": 27,
   "metadata": {},
   "outputs": [],
   "source": [
    "F_img = Image.fromarray(features[5].astype(np.uint8))"
   ]
  },
  {
   "cell_type": "code",
   "execution_count": 29,
   "metadata": {},
   "outputs": [],
   "source": [
    "# Save test Features\n",
    "np.savez_compressed('/Users/toothless/Downloads/Thesis_Results/HUESIFT+CNN/data/Train_HUE_SIFT_v2',\n",
    "                    features=features, labels=labels)"
   ]
  },
  {
   "cell_type": "markdown",
   "metadata": {},
   "source": [
    "# -------------------------------------TEST DATA-----------------------------------------"
   ]
  },
  {
   "cell_type": "code",
   "execution_count": 30,
   "metadata": {},
   "outputs": [],
   "source": [
    "testcan_labels = np.ones(test_can.shape[0])\n",
    "testnocan_labels = np.zeros(test_ncan.shape[0])\n",
    "\n",
    "#Cancatenate Features and labels\n",
    "features = np.concatenate((test_can,test_ncan),axis = 0)\n",
    "labels = np.concatenate((testcan_labels,testnocan_labels) , axis = 0)\n",
    "\n",
    "#reshape features array\n",
    "features = np.reshape(features,(features.shape[0],150*150*3))\n",
    "\n",
    "# save labels and features to dataframe and shuffle data\n",
    "test_df = pd.DataFrame(features)\n",
    "test_df['labels'] = labels\n",
    "\n",
    "test_df  = test_df.sample(frac=1).reset_index(drop=True)"
   ]
  },
  {
   "cell_type": "code",
   "execution_count": 31,
   "metadata": {},
   "outputs": [],
   "source": [
    "# Convert Features to Array and Save it\n",
    "labels = test_df.pop('labels')\n",
    "features = test_df.values\n",
    "\n",
    "#reshape before saving\n",
    "features = np.reshape(features,(features.shape[0],150,150,3))"
   ]
  },
  {
   "cell_type": "code",
   "execution_count": 32,
   "metadata": {},
   "outputs": [
    {
     "data": {
      "text/plain": [
       "<matplotlib.image.AxesImage at 0x1a327f9e10>"
      ]
     },
     "execution_count": 32,
     "metadata": {},
     "output_type": "execute_result"
    },
    {
     "data": {
      "image/png": "[encoded data removed]",
      "text/plain": [
       "<Figure size 432x288 with 1 Axes>"
      ]
     },
     "metadata": {},
     "output_type": "display_data"
    }
   ],
   "source": [
    "imshow(features[0])"
   ]
  },
  {
   "cell_type": "code",
   "execution_count": 33,
   "metadata": {},
   "outputs": [],
   "source": [
    "# Save test Features\n",
    "np.savez_compressed('/Users/toothless/Downloads/Thesis_Results/HUESIFT+CNN/data/Test_HUE_SIFT_v2',\n",
    "                    features=features, labels=labels)"
   ]
  },
  {
   "cell_type": "code",
   "execution_count": null,
   "metadata": {},
   "outputs": [],
   "source": []
  }
 ],
 "metadata": {
  "kernelspec": {
   "display_name": "Python 3",
   "language": "python",
   "name": "python3"
  },
  "language_info": {
   "codemirror_mode": {
    "name": "ipython",
    "version": 3
   },
   "file_extension": ".py",
   "mimetype": "text/x-python",
   "name": "python",
   "nbconvert_exporter": "python",
   "pygments_lexer": "ipython3",
   "version": "3.7.6"
  }
 },
 "nbformat": 4,
 "nbformat_minor": 4
}
