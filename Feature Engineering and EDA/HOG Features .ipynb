{
 "cells": [
  {
   "cell_type": "code",
   "execution_count": 1,
   "metadata": {},
   "outputs": [
    {
     "name": "stderr",
     "output_type": "stream",
     "text": [
      "Using TensorFlow backend.\n"
     ]
    }
   ],
   "source": [
    "import numpy as np \n",
    "import pandas as pd \n",
    "import json\n",
    "from sklearn import svm\n",
    "from sklearn.metrics import classification_report,accuracy_score\n",
    "import matplotlib.pyplot as plt\n",
    "import matplotlib.image as mpimg\n",
    "import keras\n",
    "import glob\n",
    "from skimage.feature import hog\n",
    "from PIL import Image\n",
    "import os.path, sys\n",
    "from skimage.io import imread, imshow\n",
    "import cv2\n",
    "from skimage import data, color, feature , exposure\n",
    "import imgaug.augmenters as iaa\n",
    "from skimage.transform import resize\n",
    "from skimage.feature import hog\n",
    "import matplotlib.pyplot as plt\n",
    "get_ipython().run_line_magic('matplotlib', 'inline')\n",
    "import seaborn as sns; sns.set()\n",
    "\n",
    "from _helper_functions import *"
   ]
  },
  {
   "cell_type": "markdown",
   "metadata": {},
   "source": [
    "# Extract HOG Features - Train Images"
   ]
  },
  {
   "cell_type": "code",
   "execution_count": 8,
   "metadata": {},
   "outputs": [],
   "source": [
    "path = '/Users/toothless/Downloads/Thesis/data/Train/original/_nocancer/'"
   ]
  },
  {
   "cell_type": "code",
   "execution_count": 9,
   "metadata": {},
   "outputs": [],
   "source": [
    "re_ncan = resize_aspect_fit(path,150)"
   ]
  },
  {
   "cell_type": "code",
   "execution_count": 10,
   "metadata": {},
   "outputs": [],
   "source": [
    "nchog_feat = []\n",
    "nchog_img = []\n",
    "for img in re_ncan:\n",
    "    #image = mpimg.imread(img)\n",
    "    fd,hog_image = hog(img, orientations=8, pixels_per_cell=(10,10),\n",
    "                       cells_per_block=(4, 4),block_norm= 'L2',visualize=True)\n",
    "    nchog_feat.append(fd)\n",
    "    nchog_img.append(hog_image)\n",
    "    "
   ]
  },
  {
   "cell_type": "code",
   "execution_count": 11,
   "metadata": {},
   "outputs": [],
   "source": [
    "nchog_img = np.array(nchog_img)"
   ]
  },
  {
   "cell_type": "code",
   "execution_count": 12,
   "metadata": {},
   "outputs": [],
   "source": [
    "nchog_feat = np.array(nchog_feat)"
   ]
  },
  {
   "cell_type": "code",
   "execution_count": 13,
   "metadata": {},
   "outputs": [
    {
     "name": "stdout",
     "output_type": "stream",
     "text": [
      "(6778, 150, 150)\n",
      "(6778, 18432)\n"
     ]
    }
   ],
   "source": [
    "print(nchog_img.shape)\n",
    "print(nchog_feat.shape)"
   ]
  },
  {
   "cell_type": "code",
   "execution_count": 14,
   "metadata": {},
   "outputs": [],
   "source": [
    "path = '/Users/toothless/Downloads/Thesis/data/Train/original/cancer/'\n",
    "re_can = resize_aspect_fit(path,150)"
   ]
  },
  {
   "cell_type": "code",
   "execution_count": 15,
   "metadata": {},
   "outputs": [],
   "source": [
    "chog_feat = []\n",
    "chog_img = []\n",
    "for img in re_can:\n",
    "    #image = mpimg.imread(img)\n",
    "    fd,hog_image = hog(img, orientations=8, pixels_per_cell=(10,10),\n",
    "                       cells_per_block=(4, 4),block_norm= 'L2',visualize=True)\n",
    "    chog_feat.append(fd)\n",
    "    chog_img.append(hog_image)"
   ]
  },
  {
   "cell_type": "code",
   "execution_count": 16,
   "metadata": {},
   "outputs": [],
   "source": [
    "chog_img = np.array(chog_img)\n",
    "chog_feat = np.array(chog_feat)"
   ]
  },
  {
   "cell_type": "code",
   "execution_count": 17,
   "metadata": {},
   "outputs": [
    {
     "name": "stdout",
     "output_type": "stream",
     "text": [
      "(7272, 150, 150)\n",
      "(7272, 18432)\n"
     ]
    }
   ],
   "source": [
    "print(chog_img.shape)\n",
    "print(chog_feat.shape)"
   ]
  },
  {
   "cell_type": "code",
   "execution_count": 18,
   "metadata": {},
   "outputs": [],
   "source": [
    "can_labels = np.ones(chog_img.shape[0])\n",
    "nocan_labels = np.zeros(nchog_img.shape[0])\n",
    "\n",
    "hog_feat = np.concatenate((chog_feat,nchog_feat),axis = 0)\n",
    "hog_labels = np.concatenate((can_labels,nocan_labels) , axis = 0)\n",
    "hog_images = np.concatenate((chog_img,nchog_img),axis = 0)"
   ]
  },
  {
   "cell_type": "code",
   "execution_count": 19,
   "metadata": {},
   "outputs": [
    {
     "name": "stdout",
     "output_type": "stream",
     "text": [
      "(14050, 18432)\n",
      "(14050,)\n",
      "(14050, 150, 150)\n"
     ]
    }
   ],
   "source": [
    "print(hog_feat.shape)\n",
    "print(hog_labels.shape)\n",
    "print(hog_images.shape)"
   ]
  },
  {
   "cell_type": "code",
   "execution_count": 37,
   "metadata": {},
   "outputs": [],
   "source": [
    "np.savez_compressed('/Users/toothless/Downloads/Thesis/data/feat/Train_hog',\n",
    "                    hog_feat=hog_feat, hog_img=hog_images,hog_labels=hog_labels)"
   ]
  },
  {
   "cell_type": "markdown",
   "metadata": {},
   "source": [
    "# Extract HOG Features - Test Images"
   ]
  },
  {
   "cell_type": "code",
   "execution_count": 2,
   "metadata": {},
   "outputs": [],
   "source": [
    "test_data = pd.read_csv('/Users/toothless/Downloads/Thesis/data/test_labels/test_data_labels.csv')\n",
    "\n",
    "filename = test_data['new_names'].values\n",
    "\n",
    "path = '/Users/toothless/Downloads/Thesis/data/Train_Test/testoriginal/'"
   ]
  },
  {
   "cell_type": "code",
   "execution_count": 3,
   "metadata": {},
   "outputs": [],
   "source": [
    "test_images = []\n",
    "for file in filename:\n",
    "    test_images.append(path+file)"
   ]
  },
  {
   "cell_type": "code",
   "execution_count": 4,
   "metadata": {},
   "outputs": [],
   "source": [
    "test_re = []\n",
    "final_size=150\n",
    "for img in test_images:\n",
    "    im = Image.open(img)\n",
    "    f, e = os.path.splitext(img)\n",
    "    size = im.size\n",
    "    ratio = float(final_size) / max(size)\n",
    "    new_image_size = tuple([int(x*ratio) for x in size])\n",
    "    im = im.resize(new_image_size, Image.ANTIALIAS)\n",
    "    new_im = Image.new(\"RGB\", (final_size, final_size))\n",
    "    new_im.paste(im, ((final_size-new_image_size[0])//2, (final_size-new_image_size[1])//2))\n",
    "    test_re.append(np.asarray(new_im))\n",
    "            "
   ]
  },
  {
   "cell_type": "code",
   "execution_count": 5,
   "metadata": {},
   "outputs": [],
   "source": [
    "test_re = np.array(test_re)"
   ]
  },
  {
   "cell_type": "code",
   "execution_count": 6,
   "metadata": {},
   "outputs": [],
   "source": [
    "test_feat = []\n",
    "test_img = []\n",
    "for img in test_re:\n",
    "    #image = mpimg.imread(img)\n",
    "    fd,hog_image = hog(img, orientations=8, pixels_per_cell=(10,10),\n",
    "                       cells_per_block=(4, 4),block_norm= 'L2',visualize=True)\n",
    "    test_feat.append(fd)\n",
    "    test_img.append(hog_image)"
   ]
  },
  {
   "cell_type": "code",
   "execution_count": 7,
   "metadata": {},
   "outputs": [],
   "source": [
    "test_hog = np.array(test_feat)\n",
    "test_img = np.array(test_img)\n",
    "test_labels = np.array(test_data['labels'])"
   ]
  },
  {
   "cell_type": "code",
   "execution_count": 8,
   "metadata": {},
   "outputs": [],
   "source": [
    "np.savez_compressed('/Users/toothless/Downloads/Thesis/data/feat/Test_hog',\n",
    "                    testhog_feat=test_hog, testhog_img=test_img, labels=test_labels)"
   ]
  },
  {
   "cell_type": "code",
   "execution_count": null,
   "metadata": {},
   "outputs": [],
   "source": []
  }
 ],
 "metadata": {
  "kernelspec": {
   "display_name": "Python 3",
   "language": "python",
   "name": "python3"
  },
  "language_info": {
   "codemirror_mode": {
    "name": "ipython",
    "version": 3
   },
   "file_extension": ".py",
   "mimetype": "text/x-python",
   "name": "python",
   "nbconvert_exporter": "python",
   "pygments_lexer": "ipython3",
   "version": "3.7.6"
  }
 },
 "nbformat": 4,
 "nbformat_minor": 4
}
